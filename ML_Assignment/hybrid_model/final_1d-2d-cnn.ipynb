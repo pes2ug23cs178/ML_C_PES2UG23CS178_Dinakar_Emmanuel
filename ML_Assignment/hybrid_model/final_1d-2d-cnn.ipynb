{
 "cells": [
  {
   "cell_type": "markdown",
   "metadata": {},
   "source": [
    "## 1. Feature Extraction"
   ]
  },
  {
   "cell_type": "code",
   "execution_count": 1,
   "metadata": {
    "_cell_guid": "b1076dfc-b9ad-4769-8c92-a6c4dae69d19",
    "_uuid": "8f2839f25d086af736a60e9eeb907d3b93b6e0e5",
    "execution": {
     "iopub.execute_input": "2025-10-17T20:05:23.464451Z",
     "iopub.status.busy": "2025-10-17T20:05:23.464127Z",
     "iopub.status.idle": "2025-10-17T20:05:25.468006Z",
     "shell.execute_reply": "2025-10-17T20:05:25.467097Z",
     "shell.execute_reply.started": "2025-10-17T20:05:23.464413Z"
    },
    "trusted": true
   },
   "outputs": [],
   "source": [
    "import pandas as pd\n",
    "import numpy as np\n",
    "\n",
    "import os\n",
    "import sys\n",
    "\n",
    "import librosa\n",
    "import librosa.display\n",
    "import seaborn as sns\n",
    "import matplotlib.pyplot as plt\n",
    "\n",
    "from sklearn.preprocessing import StandardScaler, OneHotEncoder\n",
    "from sklearn.metrics import confusion_matrix, classification_report\n",
    "from sklearn.model_selection import train_test_split\n",
    "from sklearn.decomposition import PCA\n",
    "\n",
    "import IPython.display as ipd\n",
    "from IPython.display import Audio\n",
    "\n",
    "import multiprocessing as mp\n",
    "import timeit\n",
    "from tqdm import tqdm\n",
    "\n",
    "import warnings\n",
    "if not sys.warnoptions:\n",
    "    warnings.simplefilter(\"ignore\")\n",
    "warnings.filterwarnings(\"ignore\", category=DeprecationWarning)"
   ]
  },
  {
   "cell_type": "code",
   "execution_count": 2,
   "metadata": {
    "execution": {
     "iopub.execute_input": "2025-10-17T20:05:26.381280Z",
     "iopub.status.busy": "2025-10-17T20:05:26.380826Z",
     "iopub.status.idle": "2025-10-17T20:05:26.386835Z",
     "shell.execute_reply": "2025-10-17T20:05:26.385406Z",
     "shell.execute_reply.started": "2025-10-17T20:05:26.381255Z"
    },
    "trusted": true
   },
   "outputs": [],
   "source": [
    "speech = '/kaggle/input/ravdess-emotional-speech-audio/audio_speech_actors_01-24/'\n",
    "song = '/kaggle/input/ravdess-emotional-song-audio/audio_song_actors_01-24/'"
   ]
  },
  {
   "cell_type": "code",
   "execution_count": 3,
   "metadata": {
    "execution": {
     "iopub.execute_input": "2025-10-17T20:05:31.031033Z",
     "iopub.status.busy": "2025-10-17T20:05:31.030731Z",
     "iopub.status.idle": "2025-10-17T20:05:31.191161Z",
     "shell.execute_reply": "2025-10-17T20:05:31.189877Z",
     "shell.execute_reply.started": "2025-10-17T20:05:31.031011Z"
    },
    "trusted": true
   },
   "outputs": [],
   "source": [
    "speech_directory_list = os.listdir(speech)\n",
    "\n",
    "speech_file_emotion = []\n",
    "speech_file_path = []\n",
    "for i in speech_directory_list:\n",
    "    actor = os.listdir(speech + i)\n",
    "    for f in actor:\n",
    "        part = f.split('.')[0].split('-')\n",
    "        speech_file_emotion.append(int(part[2]))\n",
    "        speech_file_path.append(speech + i + '/' + f)"
   ]
  },
  {
   "cell_type": "code",
   "execution_count": 4,
   "metadata": {
    "execution": {
     "iopub.execute_input": "2025-10-17T20:05:33.722941Z",
     "iopub.status.busy": "2025-10-17T20:05:33.722608Z",
     "iopub.status.idle": "2025-10-17T20:05:34.044024Z",
     "shell.execute_reply": "2025-10-17T20:05:34.042691Z",
     "shell.execute_reply.started": "2025-10-17T20:05:33.722908Z"
    },
    "trusted": true
   },
   "outputs": [],
   "source": [
    "song_directory_list = os.listdir(song)\n",
    "\n",
    "song_file_emotion = []\n",
    "song_file_path = []\n",
    "for i in song_directory_list:\n",
    "    actor = os.listdir(song + i)\n",
    "    for f in actor:\n",
    "        part = f.split('.')[0].split('-')\n",
    "        song_file_emotion.append(int(part[2]))\n",
    "        song_file_path.append(song + i + '/' + f)"
   ]
  },
  {
   "cell_type": "code",
   "execution_count": 5,
   "metadata": {
    "execution": {
     "iopub.execute_input": "2025-10-17T20:05:36.934678Z",
     "iopub.status.busy": "2025-10-17T20:05:36.934239Z",
     "iopub.status.idle": "2025-10-17T20:05:36.970855Z",
     "shell.execute_reply": "2025-10-17T20:05:36.969704Z",
     "shell.execute_reply.started": "2025-10-17T20:05:36.934641Z"
    },
    "trusted": true
   },
   "outputs": [
    {
     "name": "stdout",
     "output_type": "stream",
     "text": [
      "   Emotions                                               Path\n",
      "0  surprise  /kaggle/input/ravdess-emotional-speech-audio/a...\n",
      "1   neutral  /kaggle/input/ravdess-emotional-speech-audio/a...\n",
      "2   disgust  /kaggle/input/ravdess-emotional-speech-audio/a...\n",
      "3   disgust  /kaggle/input/ravdess-emotional-speech-audio/a...\n",
      "4   neutral  /kaggle/input/ravdess-emotional-speech-audio/a...\n",
      "______________________________________________\n",
      "     Emotions                                               Path\n",
      "1435     fear  /kaggle/input/ravdess-emotional-speech-audio/a...\n",
      "1436    angry  /kaggle/input/ravdess-emotional-speech-audio/a...\n",
      "1437      sad  /kaggle/input/ravdess-emotional-speech-audio/a...\n",
      "1438  disgust  /kaggle/input/ravdess-emotional-speech-audio/a...\n",
      "1439    angry  /kaggle/input/ravdess-emotional-speech-audio/a...\n",
      "_______________________________________________\n",
      "Emotions\n",
      "neutral     288\n",
      "surprise    192\n",
      "disgust     192\n",
      "fear        192\n",
      "sad         192\n",
      "happy       192\n",
      "angry       192\n",
      "Name: count, dtype: int64\n"
     ]
    }
   ],
   "source": [
    "emotion_df = pd.DataFrame(speech_file_emotion, columns=['Emotions'])\n",
    "path_df = pd.DataFrame(speech_file_path, columns=['Path'])\n",
    "speech_df = pd.concat([emotion_df, path_df], axis=1)\n",
    "speech_df['Emotions'] = speech_df['Emotions'].replace({1:'neutral', 2:'neutral', 3:'happy', 4:'sad', 5:'angry', 6:'fear', 7:'disgust', 8:'surprise'})\n",
    "print(speech_df.head())\n",
    "print(\"______________________________________________\")\n",
    "print(speech_df.tail())\n",
    "print(\"_______________________________________________\")\n",
    "print(speech_df.Emotions.value_counts())"
   ]
  },
  {
   "cell_type": "code",
   "execution_count": 6,
   "metadata": {
    "execution": {
     "iopub.execute_input": "2025-10-17T20:05:39.304470Z",
     "iopub.status.busy": "2025-10-17T20:05:39.304135Z",
     "iopub.status.idle": "2025-10-17T20:05:39.655591Z",
     "shell.execute_reply": "2025-10-17T20:05:39.654710Z",
     "shell.execute_reply.started": "2025-10-17T20:05:39.304444Z"
    },
    "trusted": true
   },
   "outputs": [
    {
     "data": {
      "text/plain": [
       "<Axes: xlabel='Emotions'>"
      ]
     },
     "execution_count": 6,
     "metadata": {},
     "output_type": "execute_result"
    },
    {
     "data": {
      "image/png": "[encoded data removed]",
      "text/plain": [
       "<Figure size 640x480 with 1 Axes>"
      ]
     },
     "metadata": {},
     "output_type": "display_data"
    }
   ],
   "source": [
    "speech_df.Emotions.value_counts().plot(kind='bar')"
   ]
  },
  {
   "cell_type": "code",
   "execution_count": 7,
   "metadata": {
    "execution": {
     "iopub.execute_input": "2025-10-17T20:05:49.612952Z",
     "iopub.status.busy": "2025-10-17T20:05:49.612623Z",
     "iopub.status.idle": "2025-10-17T20:05:49.630893Z",
     "shell.execute_reply": "2025-10-17T20:05:49.629779Z",
     "shell.execute_reply.started": "2025-10-17T20:05:49.612926Z"
    },
    "trusted": true
   },
   "outputs": [
    {
     "name": "stdout",
     "output_type": "stream",
     "text": [
      "  Emotions                                               Path\n",
      "0    angry  /kaggle/input/ravdess-emotional-song-audio/aud...\n",
      "1     fear  /kaggle/input/ravdess-emotional-song-audio/aud...\n",
      "2    happy  /kaggle/input/ravdess-emotional-song-audio/aud...\n",
      "3    happy  /kaggle/input/ravdess-emotional-song-audio/aud...\n",
      "4      sad  /kaggle/input/ravdess-emotional-song-audio/aud...\n",
      "______________________________________________\n",
      "     Emotions                                               Path\n",
      "1007  neutral  /kaggle/input/ravdess-emotional-song-audio/aud...\n",
      "1008     fear  /kaggle/input/ravdess-emotional-song-audio/aud...\n",
      "1009  neutral  /kaggle/input/ravdess-emotional-song-audio/aud...\n",
      "1010  neutral  /kaggle/input/ravdess-emotional-song-audio/aud...\n",
      "1011    angry  /kaggle/input/ravdess-emotional-song-audio/aud...\n",
      "_______________________________________________\n",
      "Emotions\n",
      "neutral    276\n",
      "angry      184\n",
      "fear       184\n",
      "happy      184\n",
      "sad        184\n",
      "Name: count, dtype: int64\n"
     ]
    }
   ],
   "source": [
    "emotion_df = pd.DataFrame(song_file_emotion, columns=['Emotions'])\n",
    "path_df = pd.DataFrame(song_file_path, columns=['Path'])\n",
    "song_df = pd.concat([emotion_df, path_df], axis=1)\n",
    "song_df['Emotions'] = song_df['Emotions'].replace({1:'neutral', 2:'neutral', 3:'happy', 4:'sad', 5:'angry', 6:'fear', 7:'disgust', 8:'surprise'})\n",
    "print(song_df.head())\n",
    "print(\"______________________________________________\")\n",
    "print(song_df.tail())\n",
    "print(\"_______________________________________________\")\n",
    "print(song_df.Emotions.value_counts())"
   ]
  },
  {
   "cell_type": "code",
   "execution_count": 8,
   "metadata": {
    "execution": {
     "iopub.execute_input": "2025-10-17T20:05:50.726327Z",
     "iopub.status.busy": "2025-10-17T20:05:50.725967Z",
     "iopub.status.idle": "2025-10-17T20:05:50.891953Z",
     "shell.execute_reply": "2025-10-17T20:05:50.890848Z",
     "shell.execute_reply.started": "2025-10-17T20:05:50.726299Z"
    },
    "trusted": true
   },
   "outputs": [
    {
     "data": {
      "text/plain": [
       "<Axes: xlabel='Emotions'>"
      ]
     },
     "execution_count": 8,
     "metadata": {},
     "output_type": "execute_result"
    },
    {
     "data": {
      "image/png": "[encoded data removed]",
      "text/plain": [
       "<Figure size 640x480 with 1 Axes>"
      ]
     },
     "metadata": {},
     "output_type": "display_data"
    }
   ],
   "source": [
    "song_df.Emotions.value_counts().plot(kind='bar')"
   ]
  },
  {
   "cell_type": "code",
   "execution_count": 9,
   "metadata": {
    "execution": {
     "iopub.execute_input": "2025-10-17T20:05:55.662453Z",
     "iopub.status.busy": "2025-10-17T20:05:55.662110Z",
     "iopub.status.idle": "2025-10-17T20:06:11.843802Z",
     "shell.execute_reply": "2025-10-17T20:06:11.842695Z",
     "shell.execute_reply.started": "2025-10-17T20:05:55.662426Z"
    },
    "trusted": true
   },
   "outputs": [
    {
     "name": "stdout",
     "output_type": "stream",
     "text": [
      "22050 22050\n"
     ]
    }
   ],
   "source": [
    "speech1,sr_sp = librosa.load(speech_file_path[0])\n",
    "song1,sr_so = librosa.load(song_file_path[0])\n",
    "print(sr_sp, sr_so)"
   ]
  },
  {
   "cell_type": "code",
   "execution_count": 11,
   "metadata": {
    "execution": {
     "iopub.execute_input": "2025-10-17T17:40:33.108734Z",
     "iopub.status.busy": "2025-10-17T17:40:33.108413Z",
     "iopub.status.idle": "2025-10-17T17:40:33.116811Z",
     "shell.execute_reply": "2025-10-17T17:40:33.115883Z",
     "shell.execute_reply.started": "2025-10-17T17:40:33.108710Z"
    },
    "trusted": true
   },
   "outputs": [],
   "source": [
    "def noise(data):\n",
    "    noise_amp = 0.035*np.random.uniform()*np.amax(data)\n",
    "    data = data + noise_amp*np.random.normal(size=data.shape[0])\n",
    "    return data\n",
    "\n",
    "def stretch(data, rate=0.8):\n",
    "    return librosa.effects.time_stretch(y=data, rate=rate)\n",
    "\n",
    "def shift(data):\n",
    "    shift_range = int(np.random.uniform(low=-5, high = 5)*1000)\n",
    "    return np.roll(data, shift_range)\n",
    "\n",
    "def pitch(data, sampling_rate, pitch_factor=0.7):\n",
    "    return librosa.effects.pitch_shift(y=data, sr=sampling_rate, n_steps=pitch_factor)"
   ]
  },
  {
   "cell_type": "code",
   "execution_count": 12,
   "metadata": {
    "execution": {
     "iopub.execute_input": "2025-10-17T17:40:54.016656Z",
     "iopub.status.busy": "2025-10-17T17:40:54.016353Z",
     "iopub.status.idle": "2025-10-17T17:40:54.031539Z",
     "shell.execute_reply": "2025-10-17T17:40:54.030011Z",
     "shell.execute_reply.started": "2025-10-17T17:40:54.016635Z"
    },
    "trusted": true
   },
   "outputs": [],
   "source": [
    "def zcr(data,frame_length,hop_length):\n",
    "    zcr=librosa.feature.zero_crossing_rate(data,frame_length=frame_length,hop_length=hop_length)\n",
    "    return np.squeeze(zcr) # Returns 1D array\n",
    "\n",
    "def rmse(data, frame_length=2048, hop_length=512):\n",
    "    rmse = librosa.feature.rms(y=data, frame_length=frame_length, hop_length=hop_length)\n",
    "    return np.squeeze(rmse) # Returns 1D array\n",
    "\n",
    "def mfcc(data, sr, frame_length=2048, hop_length=512):\n",
    "    mfcc_result = librosa.feature.mfcc(y=data, sr=sr, n_fft=frame_length, hop_length=hop_length)\n",
    "    return mfcc_result.T # Returns 2D array (time x n_mfcc)\n",
    "\n",
    "def extract_spectrogram_features(data, sr, n_mels=128, fmax=8000):\n",
    "    spectrogram = librosa.feature.melspectrogram(y=data, sr=sr, n_mels=n_mels, fmax=fmax)\n",
    "    log_spectrogram = librosa.power_to_db(spectrogram, ref=np.max)\n",
    "    return log_spectrogram.T # Returns 2D array (time x n_mels)\n",
    "\n",
    "def extract_chroma_features(data, sr, frame_length=2048, hop_length=512):\n",
    "    chromagram = librosa.feature.chroma_stft(y=data, sr=sr, n_fft=frame_length, hop_length=hop_length)\n",
    "    return chromagram.T # Returns 2D array (time x n_chroma)\n",
    "\n",
    "\n",
    "def extract_features(data,sr=22050,frame_length=2048,hop_length=512, dataset_type='speech'):\n",
    "    zcr_features = zcr(data,frame_length,hop_length)\n",
    "    rmse_features = rmse(data,frame_length,hop_length)\n",
    "    mfcc_features = mfcc(data,sr,frame_length,hop_length)\n",
    "\n",
    "    if dataset_type == 'speech':\n",
    "        additional_features = extract_spectrogram_features(data, sr)\n",
    "    elif dataset_type == 'song':\n",
    "        additional_features = extract_chroma_features(data, sr, frame_length, hop_length)\n",
    "    else:\n",
    "        raise ValueError(\"dataset_type must be 'speech' or 'song'\")\n",
    "\n",
    "    return zcr_features, rmse_features, mfcc_features, additional_features\n",
    "\n",
    "def get_features(path, dataset_type='speech', duration=2.5, offset=0.6):\n",
    "    data,sr=librosa.load(path,duration=duration,offset=offset)\n",
    "\n",
    "    # Extract features from original audio\n",
    "    zcr_orig, rmse_orig, mfcc_orig, additional_orig = extract_features(data, sr, dataset_type=dataset_type)\n",
    "\n",
    "    # Apply augmentation and extract features\n",
    "    noised_audio = noise(data)\n",
    "    zcr_noise, rmse_noise, mfcc_noise, additional_noise = extract_features(noised_audio, sr, dataset_type=dataset_type)\n",
    "\n",
    "    # Use random rate for stretching\n",
    "    stretch_rate = np.random.uniform(low=0.5, high=1.5)\n",
    "    stretched_audio = stretch(data, rate=stretch_rate)\n",
    "    zcr_stretch, rmse_stretch, mfcc_stretch, additional_stretch = extract_features(stretched_audio, sr, dataset_type=dataset_type)\n",
    "\n",
    "    shifted_audio = shift(data)\n",
    "    zcr_shift, rmse_shift, mfcc_shift, additional_shift = extract_features(shifted_audio, sr, dataset_type=dataset_type)\n",
    "\n",
    "    pitched_audio = pitch(data, sr)\n",
    "    zcr_pitch, rmse_pitch, mfcc_pitch, additional_pitch = extract_features(pitched_audio, sr, dataset_type=dataset_type)\n",
    "\n",
    "    # Return a list of tuples, where each tuple contains the 1D and 2D features for one audio sample\n",
    "    return [\n",
    "        (zcr_orig, rmse_orig, mfcc_orig, additional_orig),\n",
    "        (zcr_noise, rmse_noise, mfcc_noise, additional_noise),\n",
    "        (zcr_stretch, rmse_stretch, mfcc_stretch, additional_stretch),\n",
    "        (zcr_shift, rmse_shift, mfcc_shift, additional_shift),\n",
    "        (zcr_pitch, rmse_pitch, mfcc_pitch, additional_pitch)\n",
    "    ]"
   ]
  },
  {
   "cell_type": "code",
   "execution_count": 13,
   "metadata": {
    "execution": {
     "iopub.execute_input": "2025-10-17T17:41:24.541959Z",
     "iopub.status.busy": "2025-10-17T17:41:24.541601Z",
     "iopub.status.idle": "2025-10-17T17:41:24.546800Z",
     "shell.execute_reply": "2025-10-17T17:41:24.545909Z",
     "shell.execute_reply.started": "2025-10-17T17:41:24.541935Z"
    },
    "trusted": true
   },
   "outputs": [],
   "source": [
    "def process_audio_file(file_path, label):\n",
    "    if 'speech' in file_path:\n",
    "        dataset_type = 'speech'\n",
    "    elif 'song' in file_path:\n",
    "        dataset_type = 'song'\n",
    "    else:\n",
    "        raise ValueError(\"file_path must contain either 'speech' or 'song'\")\n",
    "\n",
    "    features = get_features(file_path, dataset_type=dataset_type)\n",
    "    return features, label"
   ]
  },
  {
   "cell_type": "code",
   "execution_count": 14,
   "metadata": {
    "execution": {
     "iopub.execute_input": "2025-10-17T17:42:33.458178Z",
     "iopub.status.busy": "2025-10-17T17:42:33.457813Z",
     "iopub.status.idle": "2025-10-17T17:42:33.588685Z",
     "shell.execute_reply": "2025-10-17T17:42:33.587292Z",
     "shell.execute_reply.started": "2025-10-17T17:42:33.458157Z"
    },
    "trusted": true
   },
   "outputs": [
    {
     "name": "stdout",
     "output_type": "stream",
     "text": [
      "Number of speech data entries: 1440\n",
      "Number of song data entries: 1012\n",
      "First 5 speech data entries:\n",
      "[('/kaggle/input/ravdess-emotional-speech-audio/audio_speech_actors_01-24/Actor_02/03-01-08-01-01-01-02.wav', 'surprise'), ('/kaggle/input/ravdess-emotional-speech-audio/audio_speech_actors_01-24/Actor_02/03-01-01-01-01-01-02.wav', 'neutral'), ('/kaggle/input/ravdess-emotional-speech-audio/audio_speech_actors_01-24/Actor_02/03-01-07-02-01-02-02.wav', 'disgust'), ('/kaggle/input/ravdess-emotional-speech-audio/audio_speech_actors_01-24/Actor_02/03-01-07-01-01-02-02.wav', 'disgust'), ('/kaggle/input/ravdess-emotional-speech-audio/audio_speech_actors_01-24/Actor_02/03-01-01-01-02-01-02.wav', 'neutral')]\n",
      "First 5 song data entries:\n",
      "[('/kaggle/input/ravdess-emotional-song-audio/audio_song_actors_01-24/Actor_02/03-02-05-02-01-01-02.wav', 'angry'), ('/kaggle/input/ravdess-emotional-song-audio/audio_song_actors_01-24/Actor_02/03-02-06-01-02-02-02.wav', 'fear'), ('/kaggle/input/ravdess-emotional-song-audio/audio_song_actors_01-24/Actor_02/03-02-03-02-01-02-02.wav', 'happy'), ('/kaggle/input/ravdess-emotional-song-audio/audio_song_actors_01-24/Actor_02/03-02-03-01-02-02-02.wav', 'happy'), ('/kaggle/input/ravdess-emotional-song-audio/audio_song_actors_01-24/Actor_02/03-02-04-02-01-01-02.wav', 'sad')]\n"
     ]
    }
   ],
   "source": [
    "speech_data = []\n",
    "for index, row in speech_df.iterrows():\n",
    "    speech_data.append((row['Path'], row['Emotions']))\n",
    "\n",
    "song_data = []\n",
    "for index, row in song_df.iterrows():\n",
    "    song_data.append((row['Path'], row['Emotions']))\n",
    "\n",
    "print(f\"Number of speech data entries: {len(speech_data)}\")\n",
    "print(f\"Number of song data entries: {len(song_data)}\")\n",
    "print(\"First 5 speech data entries:\")\n",
    "print(speech_data[:5])\n",
    "print(\"First 5 song data entries:\")\n",
    "print(song_data[:5])"
   ]
  },
  {
   "cell_type": "code",
   "execution_count": 15,
   "metadata": {
    "execution": {
     "iopub.execute_input": "2025-10-17T17:44:09.832520Z",
     "iopub.status.busy": "2025-10-17T17:44:09.831648Z",
     "iopub.status.idle": "2025-10-17T17:47:58.526466Z",
     "shell.execute_reply": "2025-10-17T17:47:58.525245Z",
     "shell.execute_reply.started": "2025-10-17T17:44:09.832479Z"
    },
    "trusted": true
   },
   "outputs": [
    {
     "name": "stderr",
     "output_type": "stream",
     "text": [
      "Processing speech data: 100%|██████████| 1440/1440 [00:00<00:00, 2174153.26it/s]\n",
      "Processing song data: 100%|██████████| 1012/1012 [00:00<00:00, 2032871.48it/s]"
     ]
    },
    {
     "name": "stdout",
     "output_type": "stream",
     "text": [
      "\n",
      "Number of speech results: 1440\n",
      "Number of song results: 1012\n"
     ]
    },
    {
     "name": "stderr",
     "output_type": "stream",
     "text": [
      "\n"
     ]
    }
   ],
   "source": [
    "if __name__ == '__main__':\n",
    "    with mp.Pool(processes=mp.cpu_count()) as pool:\n",
    "        speech_results = list(tqdm(pool.starmap(process_audio_file, speech_data), total=len(speech_data), desc=\"Processing speech data\"))\n",
    "        song_results = list(tqdm(pool.starmap(process_audio_file, song_data), total=len(song_data), desc=\"Processing song data\"))\n",
    "\n",
    "print(f\"\\nNumber of speech results: {len(speech_results)}\")\n",
    "print(f\"Number of song results: {len(song_results)}\")"
   ]
  },
  {
   "cell_type": "code",
   "execution_count": 24,
   "metadata": {
    "execution": {
     "iopub.execute_input": "2025-10-17T17:52:52.599554Z",
     "iopub.status.busy": "2025-10-17T17:52:52.599203Z",
     "iopub.status.idle": "2025-10-17T17:52:55.914487Z",
     "shell.execute_reply": "2025-10-17T17:52:55.913742Z",
     "shell.execute_reply.started": "2025-10-17T17:52:52.599528Z"
    },
    "trusted": true
   },
   "outputs": [
    {
     "name": "stdout",
     "output_type": "stream",
     "text": [
      "Speech Data Shapes:\n",
      "ZCR Stats (mean, std): (7200, 2)\n",
      "RMSE Stats (mean, std): (7200, 2)\n",
      "MFCC (Padded 2D): (7200, 215, 20)\n",
      "Spectrogram (Padded 2D): (7200, 215, 128)\n",
      "Labels: (7200,)\n",
      "\n",
      "Song Data Shapes:\n",
      "ZCR Stats (mean, std): (5060, 2)\n",
      "RMSE Stats (mean, std): (5060, 2)\n",
      "MFCC (Padded 2D): (5060, 216, 20)\n",
      "Chroma (Padded 2D): (5060, 216, 12)\n",
      "Labels: (5060,)\n"
     ]
    }
   ],
   "source": [
    "def pad_or_truncate(arr, max_len):\n",
    "    \"\"\"Pads or truncates a 2D array to a specified length.\"\"\"\n",
    "    if arr.shape[0] > max_len:\n",
    "        return arr[:max_len, :]\n",
    "    elif arr.shape[0] < max_len:\n",
    "        padding = np.zeros((max_len - arr.shape[0], arr.shape[1]))\n",
    "        return np.vstack((arr, padding))\n",
    "    return arr\n",
    "\n",
    "speech_zcr_stats = []\n",
    "speech_rmse_stats = []\n",
    "speech_mfcc_2d_padded = []\n",
    "speech_spectrogram_2d_padded = []\n",
    "speech_labels = []\n",
    "\n",
    "song_zcr_stats = []\n",
    "song_rmse_stats = []\n",
    "song_mfcc_2d_padded = []\n",
    "song_chroma_2d_padded = []\n",
    "song_labels = []\n",
    "\n",
    "# Determine the maximum length for 2D features\n",
    "max_mfcc_len_speech = 0\n",
    "max_spectrogram_len_speech = 0\n",
    "max_mfcc_len_song = 0\n",
    "max_chroma_len_song = 0\n",
    "\n",
    "for features, label in speech_results:\n",
    "    for zcr, rmse, mfcc, spectrogram in features:\n",
    "        max_mfcc_len_speech = max(max_mfcc_len_speech, mfcc.shape[0])\n",
    "        max_spectrogram_len_speech = max(max_spectrogram_len_speech, spectrogram.shape[0])\n",
    "\n",
    "for features, label in song_results:\n",
    "    for zcr, rmse, mfcc, chroma in features:\n",
    "        max_mfcc_len_song = max(max_mfcc_len_song, mfcc.shape[0])\n",
    "        max_chroma_len_song = max(max_chroma_len_song, chroma.shape[0])\n",
    "\n",
    "# Save max lengths to files\n",
    "with open('/kaggle/working/max_mfcc_len_speech.txt', 'w') as f:\n",
    "    f.write(str(max_mfcc_len_speech))\n",
    "with open('/kaggle/working/max_spectrogram_len_speech.txt', 'w') as f:\n",
    "    f.write(str(max_spectrogram_len_speech))\n",
    "with open('/kaggle/working/max_mfcc_len_song.txt', 'w') as f:\n",
    "    f.write(str(max_mfcc_len_song))\n",
    "with open('/kaggle/working/max_chroma_len_song.txt', 'w') as f:\n",
    "    f.write(str(max_chroma_len_song))\n",
    "\n",
    "# Pad or truncate 2D features and collect all features and labels\n",
    "for features, label in speech_results:\n",
    "    for zcr, rmse, mfcc, spectrogram in features:\n",
    "        speech_zcr_stats.append([np.mean(zcr), np.std(zcr)])\n",
    "        speech_rmse_stats.append([np.mean(rmse), np.std(rmse)])\n",
    "        speech_mfcc_2d_padded.append(pad_or_truncate(mfcc, max_mfcc_len_speech))\n",
    "        speech_spectrogram_2d_padded.append(pad_or_truncate(spectrogram, max_spectrogram_len_speech))\n",
    "        speech_labels.append(label)\n",
    "\n",
    "\n",
    "for features, label in song_results:\n",
    "    for zcr, rmse, mfcc, chroma in features:\n",
    "        song_zcr_stats.append([np.mean(zcr), np.std(zcr)])\n",
    "        song_rmse_stats.append([np.mean(rmse), np.std(rmse)])\n",
    "        song_mfcc_2d_padded.append(pad_or_truncate(mfcc, max_mfcc_len_song))\n",
    "        song_chroma_2d_padded.append(pad_or_truncate(chroma, max_chroma_len_song))\n",
    "        song_labels.append(label)\n",
    "\n",
    "speech_zcr_stats = np.array(speech_zcr_stats)\n",
    "speech_rmse_stats = np.array(speech_rmse_stats)\n",
    "speech_mfcc_2d_padded = np.array(speech_mfcc_2d_padded)\n",
    "speech_spectrogram_2d_padded = np.array(speech_spectrogram_2d_padded)\n",
    "speech_labels = np.array(speech_labels)\n",
    "\n",
    "song_zcr_stats = np.array(song_zcr_stats)\n",
    "song_rmse_stats = np.array(song_rmse_stats)\n",
    "song_mfcc_2d_padded = np.array(song_mfcc_2d_padded)\n",
    "song_chroma_2d_padded = np.array(song_chroma_2d_padded)\n",
    "song_labels = np.array(song_labels)\n",
    "\n",
    "print(\"Speech Data Shapes:\")\n",
    "print(\"ZCR Stats (mean, std):\", speech_zcr_stats.shape)\n",
    "print(\"RMSE Stats (mean, std):\", speech_rmse_stats.shape)\n",
    "print(\"MFCC (Padded 2D):\", speech_mfcc_2d_padded.shape)\n",
    "print(\"Spectrogram (Padded 2D):\", speech_spectrogram_2d_padded.shape)\n",
    "print(\"Labels:\", speech_labels.shape)\n",
    "\n",
    "print(\"\\nSong Data Shapes:\")\n",
    "print(\"ZCR Stats (mean, std):\", song_zcr_stats.shape)\n",
    "print(\"RMSE Stats (mean, std):\", song_rmse_stats.shape)\n",
    "print(\"MFCC (Padded 2D):\", song_mfcc_2d_padded.shape)\n",
    "print(\"Chroma (Padded 2D):\", song_chroma_2d_padded.shape)\n",
    "print(\"Labels:\", song_labels.shape)"
   ]
  },
  {
   "cell_type": "code",
   "execution_count": 83,
   "metadata": {
    "execution": {
     "iopub.execute_input": "2025-10-17T21:48:37.601758Z",
     "iopub.status.busy": "2025-10-17T21:48:37.601064Z",
     "iopub.status.idle": "2025-10-17T21:48:37.605663Z",
     "shell.execute_reply": "2025-10-17T21:48:37.604944Z",
     "shell.execute_reply.started": "2025-10-17T21:48:37.601735Z"
    },
    "trusted": true
   },
   "outputs": [],
   "source": [
    "# import numpy as np\n",
    "# speech_zcr_stats = np.load(\"/kaggle/working/feats/speech/speech_zcr_stats.npy\")\n",
    "# speech_rmse_stats = np.load(\"/kaggle/working/feats/speech/speech_rmse_stats.npy\")\n",
    "# speech_mfcc_2d_padded = np.load(\"/kaggle/working/feats/speech/speech_mfcc_2d_padded.npy\")\n",
    "# speech_spectrogram_2d_padded = np.load(\"/kaggle/working/feats/speech/speech_spectrogram_2d_padded.npy\")\n",
    "# speech_labels = np.load(\"/kaggle/working/feats/speech/speech_labels.npy\")\n",
    "\n",
    "# song_zcr_stats = np.load(\"/kaggle/working/feats/song/song_zcr_stats.npy\")\n",
    "# song_rmse_stats = np.load(\"/kaggle/working/feats/song/song_rmse_stats.npy\")\n",
    "# song_mfcc_2d_padded = np.load(\"/kaggle/working/feats/song/song_mfcc_2d_padded.npy\")\n",
    "# song_chroma_2d_padded = np.load(\"/kaggle/working/feats/song/song_chroma_2d_padded.npy\")\n",
    "# song_labels = np.load(\"/kaggle/working/feats/song/song_labels.npy\")\n",
    "\n",
    "# print(\"Speech Data Shapes:\")\n",
    "# print(\"ZCR Stats (mean, std):\", speech_zcr_stats.shape)\n",
    "# print(\"RMSE Stats (mean, std):\", speech_rmse_stats.shape)\n",
    "# print(\"MFCC (Padded 2D):\", speech_mfcc_2d_padded.shape)\n",
    "# print(\"Spectrogram (Padded 2D):\", speech_spectrogram_2d_padded.shape)\n",
    "# print(\"Labels:\", speech_labels.shape)\n",
    "\n",
    "# print(\"\\nSong Data Shapes:\")\n",
    "# print(\"ZCR Stats (mean, std):\", song_zcr_stats.shape)\n",
    "# print(\"RMSE Stats (mean, std):\", song_rmse_stats.shape)\n",
    "# print(\"MFCC (Padded 2D):\", song_mfcc_2d_padded.shape)\n",
    "# print(\"Chroma (Padded 2D):\", song_chroma_2d_padded.shape)\n",
    "# print(\"Labels:\", song_labels.shape)"
   ]
  },
  {
   "cell_type": "code",
   "execution_count": 4,
   "metadata": {
    "execution": {
     "iopub.execute_input": "2025-10-17T20:13:23.294433Z",
     "iopub.status.busy": "2025-10-17T20:13:23.293857Z",
     "iopub.status.idle": "2025-10-17T20:13:23.300344Z",
     "shell.execute_reply": "2025-10-17T20:13:23.299698Z",
     "shell.execute_reply.started": "2025-10-17T20:13:23.294408Z"
    },
    "trusted": true
   },
   "outputs": [
    {
     "name": "stdout",
     "output_type": "stream",
     "text": [
      "max_chroma_len_song = 216\n",
      "max_mfcc_len_song = 216\n",
      "max_mfcc_len_speech = 215\n",
      "max_spectrogram_len_speech = 215\n"
     ]
    }
   ],
   "source": [
    "with open('/kaggle/working/max_len/max_chroma_len_song.txt', 'r') as f:\n",
    "    print(f\"max_chroma_len_song = {f.read()}\")\n",
    "with open('/kaggle/working/max_len/max_mfcc_len_song.txt', 'r') as f:\n",
    "    print(f\"max_mfcc_len_song = {f.read()}\")\n",
    "with open('/kaggle/working/max_len/max_mfcc_len_speech.txt', 'r') as f:\n",
    "    print(f\"max_mfcc_len_speech = {f.read()}\")\n",
    "with open('/kaggle/working/max_len/max_spectrogram_len_speech.txt', 'r') as f:\n",
    "    print(f\"max_spectrogram_len_speech = {f.read()}\")"
   ]
  },
  {
   "cell_type": "code",
   "execution_count": 26,
   "metadata": {
    "execution": {
     "iopub.execute_input": "2025-10-17T17:56:42.054363Z",
     "iopub.status.busy": "2025-10-17T17:56:42.054026Z",
     "iopub.status.idle": "2025-10-17T17:56:43.954530Z",
     "shell.execute_reply": "2025-10-17T17:56:43.953349Z",
     "shell.execute_reply.started": "2025-10-17T17:56:42.054341Z"
    },
    "trusted": true
   },
   "outputs": [
    {
     "name": "stdout",
     "output_type": "stream",
     "text": [
      "Speech and song features and labels saved successfully.\n"
     ]
    }
   ],
   "source": [
    "# Define file paths for saving\n",
    "speech_zcr_path = 'speech_zcr_stats.npy'\n",
    "speech_rmse_path = 'speech_rmse_stats.npy'\n",
    "speech_mfcc_path = 'speech_mfcc_2d_padded.npy'\n",
    "speech_spectrogram_path = 'speech_spectrogram_2d_padded.npy'\n",
    "speech_labels_path = 'speech_labels.npy'\n",
    "\n",
    "song_zcr_path = 'song_zcr_stats.npy'\n",
    "song_rmse_path = 'song_rmse_stats.npy'\n",
    "song_mfcc_path = 'song_mfcc_2d_padded.npy'\n",
    "song_chroma_path = 'song_chroma_2d_padded.npy'\n",
    "song_labels_path = 'song_labels.npy'\n",
    "\n",
    "# Save speech data\n",
    "np.save(speech_zcr_path, speech_zcr_stats)\n",
    "np.save(speech_rmse_path, speech_rmse_stats)\n",
    "np.save(speech_mfcc_path, speech_mfcc_2d_padded)\n",
    "np.save(speech_spectrogram_path, speech_spectrogram_2d_padded)\n",
    "np.save(speech_labels_path, speech_labels)\n",
    "\n",
    "# Save song data\n",
    "np.save(song_zcr_path, song_zcr_stats)\n",
    "np.save(song_rmse_path, song_rmse_stats)\n",
    "np.save(song_mfcc_path, song_mfcc_2d_padded)\n",
    "np.save(song_chroma_path, song_chroma_2d_padded)\n",
    "np.save(song_labels_path, song_labels)\n",
    "\n",
    "print(\"Speech and song features and labels saved successfully.\")"
   ]
  },
  {
   "cell_type": "markdown",
   "metadata": {},
   "source": [
    "## 2. Model Training"
   ]
  },
  {
   "cell_type": "markdown",
   "metadata": {},
   "source": [
    "### 2.1 Speech Emotion Recogniser"
   ]
  },
  {
   "cell_type": "code",
   "execution_count": 5,
   "metadata": {
    "execution": {
     "iopub.execute_input": "2025-10-17T20:13:49.836742Z",
     "iopub.status.busy": "2025-10-17T20:13:49.836024Z",
     "iopub.status.idle": "2025-10-17T20:14:03.231342Z",
     "shell.execute_reply": "2025-10-17T20:14:03.230485Z",
     "shell.execute_reply.started": "2025-10-17T20:13:49.836716Z"
    },
    "trusted": true
   },
   "outputs": [
    {
     "name": "stderr",
     "output_type": "stream",
     "text": [
      "2025-10-17 20:13:51.804621: E external/local_xla/xla/stream_executor/cuda/cuda_fft.cc:477] Unable to register cuFFT factory: Attempting to register factory for plugin cuFFT when one has already been registered\n",
      "WARNING: All log messages before absl::InitializeLog() is called are written to STDERR\n",
      "E0000 00:00:1760732031.994702      37 cuda_dnn.cc:8310] Unable to register cuDNN factory: Attempting to register factory for plugin cuDNN when one has already been registered\n",
      "E0000 00:00:1760732032.048653      37 cuda_blas.cc:1418] Unable to register cuBLAS factory: Attempting to register factory for plugin cuBLAS when one has already been registered\n"
     ]
    }
   ],
   "source": [
    "import numpy as np\n",
    "from sklearn.model_selection import train_test_split\n",
    "from sklearn.metrics import f1_score\n",
    "from sklearn.preprocessing import LabelEncoder\n",
    "\n",
    "import tensorflow as tf\n",
    "from tensorflow.keras.layers import Input, Conv1D, Conv2D, MaxPooling1D, MaxPooling2D, Flatten, Dense, concatenate, Dropout\n",
    "from tensorflow.keras.models import Model\n",
    "from tensorflow.keras.optimizers import Adam\n",
    "from tensorflow.keras.losses import SparseCategoricalCrossentropy\n",
    "from tensorflow.keras import backend as K\n",
    "from tensorflow.keras.metrics import Metric\n",
    "from tensorflow.keras.callbacks import Callback\n",
    "\n",
    "import matplotlib.pyplot as plt"
   ]
  },
  {
   "cell_type": "code",
   "execution_count": 6,
   "metadata": {
    "execution": {
     "iopub.execute_input": "2025-10-17T20:14:19.000547Z",
     "iopub.status.busy": "2025-10-17T20:14:18.999973Z",
     "iopub.status.idle": "2025-10-17T20:14:19.005909Z",
     "shell.execute_reply": "2025-10-17T20:14:19.005076Z",
     "shell.execute_reply.started": "2025-10-17T20:14:19.000505Z"
    },
    "trusted": true
   },
   "outputs": [
    {
     "name": "stdout",
     "output_type": "stream",
     "text": [
      "Shape of zcr_stats: (7200, 2)\n",
      "Shape of rmse_stats: (7200, 2)\n",
      "Shape of mfcc_2d_padded: (7200, 215, 20)\n",
      "Shape of spectrogram_2d_padded: (7200, 215, 128)\n",
      "Shape of labels: (7200,)\n"
     ]
    }
   ],
   "source": [
    "speech_zcr_stats = np.load(\"/kaggle/working/feats/speech/speech_zcr_stats.npy\")\n",
    "speech_rmse_stats = np.load(\"/kaggle/working/feats/speech/speech_rmse_stats.npy\")\n",
    "speech_mfcc_2d_padded = np.load(\"/kaggle/working/feats/speech/speech_mfcc_2d_padded.npy\")\n",
    "speech_spectrogram_2d_padded = np.load(\"/kaggle/working/feats/speech/speech_spectrogram_2d_padded.npy\")\n",
    "speech_labels = np.load(\"/kaggle/working/feats/speech/speech_labels.npy\")\n",
    "\n",
    "print(\"Shape of zcr_stats:\", speech_zcr_stats.shape)\n",
    "print(\"Shape of rmse_stats:\", speech_rmse_stats.shape)\n",
    "print(\"Shape of mfcc_2d_padded:\", speech_mfcc_2d_padded.shape)\n",
    "print(\"Shape of spectrogram_2d_padded:\", speech_spectrogram_2d_padded.shape)\n",
    "print(\"Shape of labels:\", speech_labels.shape)"
   ]
  },
  {
   "cell_type": "code",
   "execution_count": 3,
   "metadata": {
    "execution": {
     "iopub.execute_input": "2025-10-17T18:11:07.814786Z",
     "iopub.status.busy": "2025-10-17T18:11:07.814257Z",
     "iopub.status.idle": "2025-10-17T18:11:09.157992Z",
     "shell.execute_reply": "2025-10-17T18:11:09.157187Z",
     "shell.execute_reply.started": "2025-10-17T18:11:07.814762Z"
    },
    "trusted": true
   },
   "outputs": [
    {
     "name": "stdout",
     "output_type": "stream",
     "text": [
      "Speech features:\n",
      "ZCR Stats Description:\n",
      "[0.19736947 0.15303429]\n",
      "[0.06546671 0.04982446]\n",
      "[0.0648962  0.03200663]\n",
      "[0.39708116 0.32461505]\n",
      "\n",
      "RMSE Stats Description:\n",
      "[0.01383194 0.01303871]\n",
      "[0.01803395 0.01707246]\n",
      "[0.00030062 0.00032967]\n",
      "[0.15018886 0.13129029]\n",
      "\n",
      "MFCC 2D Padded Description:\n",
      "-13.362175047311972\n",
      "86.00076538960707\n",
      "-1091.6595458984375\n",
      "241.9332275390625\n",
      "\n",
      "Spectrogram 2D Padded Description:\n",
      "-27.467625177224203\n",
      "29.68886302847573\n",
      "-80.0\n",
      "3.814697265625e-06\n"
     ]
    }
   ],
   "source": [
    "print(\"Speech features:\")\n",
    "print(\"ZCR Stats Description:\")\n",
    "print(np.mean(speech_zcr_stats, axis=0))\n",
    "print(np.std(speech_zcr_stats, axis=0))\n",
    "print(np.min(speech_zcr_stats, axis=0))\n",
    "print(np.max(speech_zcr_stats, axis=0))\n",
    "print(\"\\nRMSE Stats Description:\")\n",
    "print(np.mean(speech_rmse_stats, axis=0))\n",
    "print(np.std(speech_rmse_stats, axis=0))\n",
    "print(np.min(speech_rmse_stats, axis=0))\n",
    "print(np.max(speech_rmse_stats, axis=0))\n",
    "print(\"\\nMFCC 2D Padded Description:\")\n",
    "print(np.mean(speech_mfcc_2d_padded))\n",
    "print(np.std(speech_mfcc_2d_padded))\n",
    "print(np.min(speech_mfcc_2d_padded))\n",
    "print(np.max(speech_mfcc_2d_padded))\n",
    "print(\"\\nSpectrogram 2D Padded Description:\")\n",
    "print(np.mean(speech_spectrogram_2d_padded))\n",
    "print(np.std(speech_spectrogram_2d_padded))\n",
    "print(np.min(speech_spectrogram_2d_padded))\n",
    "print(np.max(speech_spectrogram_2d_padded))"
   ]
  },
  {
   "cell_type": "code",
   "execution_count": 8,
   "metadata": {
    "execution": {
     "iopub.execute_input": "2025-10-17T20:19:45.134953Z",
     "iopub.status.busy": "2025-10-17T20:19:45.134146Z",
     "iopub.status.idle": "2025-10-17T20:19:49.474624Z",
     "shell.execute_reply": "2025-10-17T20:19:49.473817Z",
     "shell.execute_reply.started": "2025-10-17T20:19:45.134924Z"
    },
    "trusted": true
   },
   "outputs": [
    {
     "name": "stdout",
     "output_type": "stream",
     "text": [
      "Shape of scaled speech_zcr_rmse_stats: (7200, 4)\n",
      "Shape of scaled combined_2d_speech_features: (7200, 215, 148)\n"
     ]
    }
   ],
   "source": [
    "from sklearn.preprocessing import StandardScaler\n",
    "\n",
    "# Initialize StandardScaler\n",
    "# scaler_1d is fitted on the concatenated 1D features (ZCR and RMSE stats)\n",
    "scaler_1d = StandardScaler()\n",
    "# scaler_2d is fitted on the concatenated flattened 2D features (MFCC and Spectrogram)\n",
    "scaler_2d = StandardScaler()\n",
    "\n",
    "# Fit and transform 1D features\n",
    "# Combine 1D features before scaling\n",
    "combined_1d_speech_features = np.concatenate((speech_zcr_stats, speech_rmse_stats), axis=1)\n",
    "speech_zcr_rmse_stats_scaled = scaler_1d.fit_transform(combined_1d_speech_features)\n",
    "\n",
    "\n",
    "# Reshape 2D data for scaling (flatten the last two dimensions temporarily)\n",
    "speech_mfcc_2d_reshaped_for_scaling = speech_mfcc_2d_padded.reshape(speech_mfcc_2d_padded.shape[0], -1)\n",
    "speech_spectrogram_2d_reshaped_for_scaling = speech_spectrogram_2d_padded.reshape(speech_spectrogram_2d_padded.shape[0], -1)\n",
    "\n",
    "# Concatenate flattened 2D features before fitting and transforming with scaler_2d\n",
    "combined_2d_speech_features_reshaped_for_scaling = np.concatenate((speech_mfcc_2d_reshaped_for_scaling, speech_spectrogram_2d_reshaped_for_scaling), axis=1)\n",
    "combined_2d_speech_features_scaled_reshaped = scaler_2d.fit_transform(combined_2d_speech_features_reshaped_for_scaling)\n",
    "\n",
    "# Reshape scaled 2D data back to original 3D shape (based on original padded shapes)\n",
    "# Determine the original shape before flattening for the combined 2D features\n",
    "original_shape_2d_speech = (speech_mfcc_2d_padded.shape[0], speech_mfcc_2d_padded.shape[1], speech_mfcc_2d_padded.shape[2] + speech_spectrogram_2d_padded.shape[2])\n",
    "combined_2d_speech_features_scaled = combined_2d_speech_features_scaled_reshaped.reshape(original_shape_2d_speech)\n",
    "\n",
    "\n",
    "print(\"Shape of scaled speech_zcr_rmse_stats:\", speech_zcr_rmse_stats_scaled.shape)\n",
    "print(\"Shape of scaled combined_2d_speech_features:\", combined_2d_speech_features_scaled.shape)"
   ]
  },
  {
   "cell_type": "code",
   "execution_count": 82,
   "metadata": {
    "execution": {
     "iopub.execute_input": "2025-10-17T21:48:29.114352Z",
     "iopub.status.busy": "2025-10-17T21:48:29.114043Z",
     "iopub.status.idle": "2025-10-17T21:48:29.118572Z",
     "shell.execute_reply": "2025-10-17T21:48:29.117696Z",
     "shell.execute_reply.started": "2025-10-17T21:48:29.114312Z"
    },
    "trusted": true
   },
   "outputs": [],
   "source": [
    "# from sklearn.preprocessing import StandardScaler\n",
    "\n",
    "# # Initialize StandardScaler\n",
    "# speech_scaler_1d = StandardScaler()\n",
    "# speech_scaler_2d = StandardScaler()\n",
    "\n",
    "# # Reshape 2D data for scaling (flatten the last two dimensions temporarily)\n",
    "# speech_mfcc_2d_reshaped_for_scaling = speech_mfcc_2d_padded.reshape(speech_mfcc_2d_padded.shape[0], -1)\n",
    "# speech_spectrogram_2d_reshaped_for_scaling = speech_spectrogram_2d_padded.reshape(speech_spectrogram_2d_padded.shape[0], -1)\n",
    "\n",
    "# # Fit and transform 1D features\n",
    "# speech_zcr_stats_scaled = speech_scaler_1d.fit_transform(speech_zcr_stats)\n",
    "# speech_rmse_stats_scaled = speech_scaler_1d.fit_transform(speech_rmse_stats)\n",
    "# print(f\"{speech_mfcc_2d_reshaped_for_scaling.shape}\\n{speech_spectrogram_2d_reshaped_for_scaling.shape}\")\n",
    "# # Fit and transform 2D features\n",
    "# speech_mfcc_2d_scaled_reshaped = speech_scaler_2d.fit_transform(speech_mfcc_2d_reshaped_for_scaling)\n",
    "# speech_spectrogram_2d_scaled_reshaped = speech_scaler_2d.fit_transform(speech_spectrogram_2d_reshaped_for_scaling)\n",
    "\n",
    "# # Reshape 2D scaled data back to original 3D shape\n",
    "# speech_mfcc_2d_scaled = speech_mfcc_2d_scaled_reshaped.reshape(speech_mfcc_2d_padded.shape)\n",
    "# speech_spectrogram_2d_scaled = speech_spectrogram_2d_scaled_reshaped.reshape(speech_spectrogram_2d_padded.shape)\n",
    "\n",
    "# print(\"Shape of scaled speech_zcr_stats:\", speech_zcr_stats_scaled.shape)\n",
    "# print(\"Shape of scaled speech_rmse_stats:\", speech_rmse_stats_scaled.shape)\n",
    "# print(\"Shape of scaled speech_mfcc_2d_padded:\", speech_mfcc_2d_scaled.shape)\n",
    "# print(\"Shape of scaled speech_spectrogram_2d_padded:\", speech_spectrogram_2d_scaled.shape)"
   ]
  },
  {
   "cell_type": "code",
   "execution_count": 10,
   "metadata": {
    "execution": {
     "iopub.execute_input": "2025-10-17T20:23:27.530601Z",
     "iopub.status.busy": "2025-10-17T20:23:27.529578Z",
     "iopub.status.idle": "2025-10-17T20:23:28.897130Z",
     "shell.execute_reply": "2025-10-17T20:23:28.896311Z",
     "shell.execute_reply.started": "2025-10-17T20:23:27.530569Z"
    },
    "trusted": true
   },
   "outputs": [
    {
     "name": "stdout",
     "output_type": "stream",
     "text": [
      "Scaled speech features:\n",
      "ZCR-RMSE Stats Description:\n",
      "[-1.48946133e-14 -1.42952317e-14  1.35077135e-17 -1.54197642e-18]\n",
      "[1. 1. 1. 1.]\n",
      "[-2.02352119 -2.42908124 -0.75032519 -0.74441844]\n",
      "[3.05058393 3.44370544 7.56112501 6.92646092]\n",
      "\n",
      "MFCC-Spectro:\n",
      "-8.25716259728198e-19\n",
      "1.0000000000000002\n",
      "-84.84692098128143\n",
      "84.8469209812832\n"
     ]
    }
   ],
   "source": [
    "print(\"Scaled speech features:\")\n",
    "print(\"ZCR-RMSE Stats Description:\")\n",
    "print(np.mean(speech_zcr_rmse_stats_scaled, axis=0))\n",
    "print(np.std(speech_zcr_rmse_stats_scaled, axis=0))\n",
    "print(np.min(speech_zcr_rmse_stats_scaled, axis=0))\n",
    "print(np.max(speech_zcr_rmse_stats_scaled, axis=0))\n",
    "print(\"\\nMFCC-Spectro:\")\n",
    "print(np.mean(combined_2d_speech_features_scaled))\n",
    "print(np.std(combined_2d_speech_features_scaled))\n",
    "print(np.min(combined_2d_speech_features_scaled))\n",
    "print(np.max(combined_2d_speech_features_scaled))"
   ]
  },
  {
   "cell_type": "code",
   "execution_count": 11,
   "metadata": {
    "execution": {
     "iopub.execute_input": "2025-10-17T20:33:03.600562Z",
     "iopub.status.busy": "2025-10-17T20:33:03.600251Z",
     "iopub.status.idle": "2025-10-17T20:33:04.144272Z",
     "shell.execute_reply": "2025-10-17T20:33:04.143572Z",
     "shell.execute_reply.started": "2025-10-17T20:33:03.600541Z"
    },
    "trusted": true
   },
   "outputs": [
    {
     "name": "stdout",
     "output_type": "stream",
     "text": [
      "Shape of combined_1d_speech_train: (5760, 4)\n",
      "Shape of combined_1d_speech_test: (1440, 4)\n",
      "Shape of combined_2d_speech_train_reshaped: (5760, 215, 148, 1)\n",
      "Shape of combined_2d_speech_test_reshaped: (1440, 215, 148, 1)\n",
      "Shape of speech_labels_train: (5760,)\n",
      "Shape of speech_labels_test: (1440,)\n"
     ]
    }
   ],
   "source": [
    "(combined_1d_speech_train, combined_1d_speech_test,\n",
    " combined_2d_speech_train, combined_2d_speech_test,\n",
    " speech_labels_train, speech_labels_test) = train_test_split(speech_zcr_rmse_stats_scaled, # Use the combined and scaled 1D features\n",
    "                                               combined_2d_speech_features_scaled, # Use the combined and scaled 2D features\n",
    "                                               speech_labels,\n",
    "                                               test_size=0.2,\n",
    "                                               random_state=42,\n",
    "                                               stratify=speech_labels)\n",
    "\n",
    "# Reshape 2D data to include a channel dimension\n",
    "combined_2d_speech_train_reshaped = np.expand_dims(combined_2d_speech_train, axis=-1)\n",
    "combined_2d_speech_test_reshaped = np.expand_dims(combined_2d_speech_test, axis=-1)\n",
    "\n",
    "print(\"Shape of combined_1d_speech_train:\", combined_1d_speech_train.shape)\n",
    "print(\"Shape of combined_1d_speech_test:\", combined_1d_speech_test.shape)\n",
    "print(\"Shape of combined_2d_speech_train_reshaped:\", combined_2d_speech_train_reshaped.shape)\n",
    "print(\"Shape of combined_2d_speech_test_reshaped:\", combined_2d_speech_test_reshaped.shape)\n",
    "print(\"Shape of speech_labels_train:\", speech_labels_train.shape)\n",
    "print(\"Shape of speech_labels_test:\", speech_labels_test.shape)"
   ]
  },
  {
   "cell_type": "code",
   "execution_count": 32,
   "metadata": {
    "execution": {
     "iopub.execute_input": "2025-10-17T20:58:12.674610Z",
     "iopub.status.busy": "2025-10-17T20:58:12.674279Z",
     "iopub.status.idle": "2025-10-17T20:58:12.751572Z",
     "shell.execute_reply": "2025-10-17T20:58:12.750796Z",
     "shell.execute_reply.started": "2025-10-17T20:58:12.674588Z"
    },
    "trusted": true
   },
   "outputs": [],
   "source": [
    "# Define input shapes\n",
    "speech_input_shape_1d = (combined_1d_speech_train.shape[1],)\n",
    "speech_input_shape_2d = combined_2d_speech_train_reshaped.shape[1:]\n",
    "\n",
    "# 1D CNN branch\n",
    "speech_input_1d = Input(shape=speech_input_shape_1d, name='speech_input_1d')\n",
    "x = Dense(64, activation='relu')(speech_input_1d) # Using Dense for simple 1D features\n",
    "x = Dropout(0.38)(x)\n",
    "x = Dense(32, activation='relu')(x)\n",
    "x = Dropout(0.38)(x)\n",
    "speech_flat_1d = Flatten()(x) # Flatten the output of the Dense layers\n",
    "\n",
    "# 2D CNN branch\n",
    "speech_input_2d = Input(shape=speech_input_shape_2d, name='speech_input_2d')\n",
    "y = Conv2D(32, kernel_size=(3, 3), activation='relu')(speech_input_2d)\n",
    "y = MaxPooling2D(pool_size=(2, 2))(y)\n",
    "y = Dropout(0.265)(y)\n",
    "y = Conv2D(64, kernel_size=(3, 3), activation='relu')(y)\n",
    "y = MaxPooling2D(pool_size=(2, 2))(y)\n",
    "y = Dropout(0.265)(y)\n",
    "speech_flat_2d = Flatten()(y)\n",
    "\n",
    "# Concatenate branches\n",
    "speech_combined = concatenate([speech_flat_1d, speech_flat_2d])\n",
    "\n",
    "# Fully connected layers\n",
    "z = Dense(128, activation='relu')(speech_combined)\n",
    "z = Dropout(0.38)(z)\n",
    "z = Dense(64, activation='relu')(z)\n",
    "z = Dropout(0.38)(z)\n",
    "\n",
    "# Output layer (assuming 8 emotion classes based on common datasets)\n",
    "speech_output_layer = Dense(len(np.unique(speech_labels)), activation='softmax')(z)\n",
    "\n",
    "# Create the model\n",
    "speech_model = Model(inputs=[speech_input_1d, speech_input_2d], outputs=speech_output_layer)"
   ]
  },
  {
   "cell_type": "code",
   "execution_count": 33,
   "metadata": {
    "execution": {
     "iopub.execute_input": "2025-10-17T20:58:16.774446Z",
     "iopub.status.busy": "2025-10-17T20:58:16.774163Z",
     "iopub.status.idle": "2025-10-17T20:58:16.809581Z",
     "shell.execute_reply": "2025-10-17T20:58:16.808963Z",
     "shell.execute_reply.started": "2025-10-17T20:58:16.774427Z"
    },
    "trusted": true
   },
   "outputs": [
    {
     "data": {
      "text/html": [
       "<pre style=\"white-space:pre;overflow-x:auto;line-height:normal;font-family:Menlo,'DejaVu Sans Mono',consolas,'Courier New',monospace\"><span style=\"font-weight: bold\">Model: \"functional_5\"</span>\n",
       "</pre>\n"
      ],
      "text/plain": [
       "\u001b[1mModel: \"functional_5\"\u001b[0m\n"
      ]
     },
     "metadata": {},
     "output_type": "display_data"
    },
    {
     "data": {
      "text/html": [
       "<pre style=\"white-space:pre;overflow-x:auto;line-height:normal;font-family:Menlo,'DejaVu Sans Mono',consolas,'Courier New',monospace\">┏━━━━━━━━━━━━━━━━━━━━━┳━━━━━━━━━━━━━━━━━━━┳━━━━━━━━━━━━┳━━━━━━━━━━━━━━━━━━━┓\n",
       "┃<span style=\"font-weight: bold\"> Layer (type)        </span>┃<span style=\"font-weight: bold\"> Output Shape      </span>┃<span style=\"font-weight: bold\">    Param # </span>┃<span style=\"font-weight: bold\"> Connected to      </span>┃\n",
       "┡━━━━━━━━━━━━━━━━━━━━━╇━━━━━━━━━━━━━━━━━━━╇━━━━━━━━━━━━╇━━━━━━━━━━━━━━━━━━━┩\n",
       "│ speech_input_2d     │ (<span style=\"color: #00d7ff; text-decoration-color: #00d7ff\">None</span>, <span style=\"color: #00af00; text-decoration-color: #00af00\">215</span>, <span style=\"color: #00af00; text-decoration-color: #00af00\">148</span>,  │          <span style=\"color: #00af00; text-decoration-color: #00af00\">0</span> │ -                 │\n",
       "│ (<span style=\"color: #0087ff; text-decoration-color: #0087ff\">InputLayer</span>)        │ <span style=\"color: #00af00; text-decoration-color: #00af00\">1</span>)                │            │                   │\n",
       "├─────────────────────┼───────────────────┼────────────┼───────────────────┤\n",
       "│ conv2d_10 (<span style=\"color: #0087ff; text-decoration-color: #0087ff\">Conv2D</span>)  │ (<span style=\"color: #00d7ff; text-decoration-color: #00d7ff\">None</span>, <span style=\"color: #00af00; text-decoration-color: #00af00\">213</span>, <span style=\"color: #00af00; text-decoration-color: #00af00\">146</span>,  │        <span style=\"color: #00af00; text-decoration-color: #00af00\">320</span> │ speech_input_2d[<span style=\"color: #00af00; text-decoration-color: #00af00\">…</span> │\n",
       "│                     │ <span style=\"color: #00af00; text-decoration-color: #00af00\">32</span>)               │            │                   │\n",
       "├─────────────────────┼───────────────────┼────────────┼───────────────────┤\n",
       "│ speech_input_1d     │ (<span style=\"color: #00d7ff; text-decoration-color: #00d7ff\">None</span>, <span style=\"color: #00af00; text-decoration-color: #00af00\">4</span>)         │          <span style=\"color: #00af00; text-decoration-color: #00af00\">0</span> │ -                 │\n",
       "│ (<span style=\"color: #0087ff; text-decoration-color: #0087ff\">InputLayer</span>)        │                   │            │                   │\n",
       "├─────────────────────┼───────────────────┼────────────┼───────────────────┤\n",
       "│ max_pooling2d_10    │ (<span style=\"color: #00d7ff; text-decoration-color: #00d7ff\">None</span>, <span style=\"color: #00af00; text-decoration-color: #00af00\">106</span>, <span style=\"color: #00af00; text-decoration-color: #00af00\">73</span>,   │          <span style=\"color: #00af00; text-decoration-color: #00af00\">0</span> │ conv2d_10[<span style=\"color: #00af00; text-decoration-color: #00af00\">0</span>][<span style=\"color: #00af00; text-decoration-color: #00af00\">0</span>]   │\n",
       "│ (<span style=\"color: #0087ff; text-decoration-color: #0087ff\">MaxPooling2D</span>)      │ <span style=\"color: #00af00; text-decoration-color: #00af00\">32</span>)               │            │                   │\n",
       "├─────────────────────┼───────────────────┼────────────┼───────────────────┤\n",
       "│ dense_25 (<span style=\"color: #0087ff; text-decoration-color: #0087ff\">Dense</span>)    │ (<span style=\"color: #00d7ff; text-decoration-color: #00d7ff\">None</span>, <span style=\"color: #00af00; text-decoration-color: #00af00\">64</span>)        │        <span style=\"color: #00af00; text-decoration-color: #00af00\">320</span> │ speech_input_1d[<span style=\"color: #00af00; text-decoration-color: #00af00\">…</span> │\n",
       "├─────────────────────┼───────────────────┼────────────┼───────────────────┤\n",
       "│ dropout_32          │ (<span style=\"color: #00d7ff; text-decoration-color: #00d7ff\">None</span>, <span style=\"color: #00af00; text-decoration-color: #00af00\">106</span>, <span style=\"color: #00af00; text-decoration-color: #00af00\">73</span>,   │          <span style=\"color: #00af00; text-decoration-color: #00af00\">0</span> │ max_pooling2d_10… │\n",
       "│ (<span style=\"color: #0087ff; text-decoration-color: #0087ff\">Dropout</span>)           │ <span style=\"color: #00af00; text-decoration-color: #00af00\">32</span>)               │            │                   │\n",
       "├─────────────────────┼───────────────────┼────────────┼───────────────────┤\n",
       "│ dropout_30          │ (<span style=\"color: #00d7ff; text-decoration-color: #00d7ff\">None</span>, <span style=\"color: #00af00; text-decoration-color: #00af00\">64</span>)        │          <span style=\"color: #00af00; text-decoration-color: #00af00\">0</span> │ dense_25[<span style=\"color: #00af00; text-decoration-color: #00af00\">0</span>][<span style=\"color: #00af00; text-decoration-color: #00af00\">0</span>]    │\n",
       "│ (<span style=\"color: #0087ff; text-decoration-color: #0087ff\">Dropout</span>)           │                   │            │                   │\n",
       "├─────────────────────┼───────────────────┼────────────┼───────────────────┤\n",
       "│ conv2d_11 (<span style=\"color: #0087ff; text-decoration-color: #0087ff\">Conv2D</span>)  │ (<span style=\"color: #00d7ff; text-decoration-color: #00d7ff\">None</span>, <span style=\"color: #00af00; text-decoration-color: #00af00\">104</span>, <span style=\"color: #00af00; text-decoration-color: #00af00\">71</span>,   │     <span style=\"color: #00af00; text-decoration-color: #00af00\">18,496</span> │ dropout_32[<span style=\"color: #00af00; text-decoration-color: #00af00\">0</span>][<span style=\"color: #00af00; text-decoration-color: #00af00\">0</span>]  │\n",
       "│                     │ <span style=\"color: #00af00; text-decoration-color: #00af00\">64</span>)               │            │                   │\n",
       "├─────────────────────┼───────────────────┼────────────┼───────────────────┤\n",
       "│ dense_26 (<span style=\"color: #0087ff; text-decoration-color: #0087ff\">Dense</span>)    │ (<span style=\"color: #00d7ff; text-decoration-color: #00d7ff\">None</span>, <span style=\"color: #00af00; text-decoration-color: #00af00\">32</span>)        │      <span style=\"color: #00af00; text-decoration-color: #00af00\">2,080</span> │ dropout_30[<span style=\"color: #00af00; text-decoration-color: #00af00\">0</span>][<span style=\"color: #00af00; text-decoration-color: #00af00\">0</span>]  │\n",
       "├─────────────────────┼───────────────────┼────────────┼───────────────────┤\n",
       "│ max_pooling2d_11    │ (<span style=\"color: #00d7ff; text-decoration-color: #00d7ff\">None</span>, <span style=\"color: #00af00; text-decoration-color: #00af00\">52</span>, <span style=\"color: #00af00; text-decoration-color: #00af00\">35</span>,    │          <span style=\"color: #00af00; text-decoration-color: #00af00\">0</span> │ conv2d_11[<span style=\"color: #00af00; text-decoration-color: #00af00\">0</span>][<span style=\"color: #00af00; text-decoration-color: #00af00\">0</span>]   │\n",
       "│ (<span style=\"color: #0087ff; text-decoration-color: #0087ff\">MaxPooling2D</span>)      │ <span style=\"color: #00af00; text-decoration-color: #00af00\">64</span>)               │            │                   │\n",
       "├─────────────────────┼───────────────────┼────────────┼───────────────────┤\n",
       "│ dropout_31          │ (<span style=\"color: #00d7ff; text-decoration-color: #00d7ff\">None</span>, <span style=\"color: #00af00; text-decoration-color: #00af00\">32</span>)        │          <span style=\"color: #00af00; text-decoration-color: #00af00\">0</span> │ dense_26[<span style=\"color: #00af00; text-decoration-color: #00af00\">0</span>][<span style=\"color: #00af00; text-decoration-color: #00af00\">0</span>]    │\n",
       "│ (<span style=\"color: #0087ff; text-decoration-color: #0087ff\">Dropout</span>)           │                   │            │                   │\n",
       "├─────────────────────┼───────────────────┼────────────┼───────────────────┤\n",
       "│ dropout_33          │ (<span style=\"color: #00d7ff; text-decoration-color: #00d7ff\">None</span>, <span style=\"color: #00af00; text-decoration-color: #00af00\">52</span>, <span style=\"color: #00af00; text-decoration-color: #00af00\">35</span>,    │          <span style=\"color: #00af00; text-decoration-color: #00af00\">0</span> │ max_pooling2d_11… │\n",
       "│ (<span style=\"color: #0087ff; text-decoration-color: #0087ff\">Dropout</span>)           │ <span style=\"color: #00af00; text-decoration-color: #00af00\">64</span>)               │            │                   │\n",
       "├─────────────────────┼───────────────────┼────────────┼───────────────────┤\n",
       "│ flatten_10          │ (<span style=\"color: #00d7ff; text-decoration-color: #00d7ff\">None</span>, <span style=\"color: #00af00; text-decoration-color: #00af00\">32</span>)        │          <span style=\"color: #00af00; text-decoration-color: #00af00\">0</span> │ dropout_31[<span style=\"color: #00af00; text-decoration-color: #00af00\">0</span>][<span style=\"color: #00af00; text-decoration-color: #00af00\">0</span>]  │\n",
       "│ (<span style=\"color: #0087ff; text-decoration-color: #0087ff\">Flatten</span>)           │                   │            │                   │\n",
       "├─────────────────────┼───────────────────┼────────────┼───────────────────┤\n",
       "│ flatten_11          │ (<span style=\"color: #00d7ff; text-decoration-color: #00d7ff\">None</span>, <span style=\"color: #00af00; text-decoration-color: #00af00\">116480</span>)    │          <span style=\"color: #00af00; text-decoration-color: #00af00\">0</span> │ dropout_33[<span style=\"color: #00af00; text-decoration-color: #00af00\">0</span>][<span style=\"color: #00af00; text-decoration-color: #00af00\">0</span>]  │\n",
       "│ (<span style=\"color: #0087ff; text-decoration-color: #0087ff\">Flatten</span>)           │                   │            │                   │\n",
       "├─────────────────────┼───────────────────┼────────────┼───────────────────┤\n",
       "│ concatenate_5       │ (<span style=\"color: #00d7ff; text-decoration-color: #00d7ff\">None</span>, <span style=\"color: #00af00; text-decoration-color: #00af00\">116512</span>)    │          <span style=\"color: #00af00; text-decoration-color: #00af00\">0</span> │ flatten_10[<span style=\"color: #00af00; text-decoration-color: #00af00\">0</span>][<span style=\"color: #00af00; text-decoration-color: #00af00\">0</span>], │\n",
       "│ (<span style=\"color: #0087ff; text-decoration-color: #0087ff\">Concatenate</span>)       │                   │            │ flatten_11[<span style=\"color: #00af00; text-decoration-color: #00af00\">0</span>][<span style=\"color: #00af00; text-decoration-color: #00af00\">0</span>]  │\n",
       "├─────────────────────┼───────────────────┼────────────┼───────────────────┤\n",
       "│ dense_27 (<span style=\"color: #0087ff; text-decoration-color: #0087ff\">Dense</span>)    │ (<span style=\"color: #00d7ff; text-decoration-color: #00d7ff\">None</span>, <span style=\"color: #00af00; text-decoration-color: #00af00\">128</span>)       │ <span style=\"color: #00af00; text-decoration-color: #00af00\">14,913,664</span> │ concatenate_5[<span style=\"color: #00af00; text-decoration-color: #00af00\">0</span>]… │\n",
       "├─────────────────────┼───────────────────┼────────────┼───────────────────┤\n",
       "│ dropout_34          │ (<span style=\"color: #00d7ff; text-decoration-color: #00d7ff\">None</span>, <span style=\"color: #00af00; text-decoration-color: #00af00\">128</span>)       │          <span style=\"color: #00af00; text-decoration-color: #00af00\">0</span> │ dense_27[<span style=\"color: #00af00; text-decoration-color: #00af00\">0</span>][<span style=\"color: #00af00; text-decoration-color: #00af00\">0</span>]    │\n",
       "│ (<span style=\"color: #0087ff; text-decoration-color: #0087ff\">Dropout</span>)           │                   │            │                   │\n",
       "├─────────────────────┼───────────────────┼────────────┼───────────────────┤\n",
       "│ dense_28 (<span style=\"color: #0087ff; text-decoration-color: #0087ff\">Dense</span>)    │ (<span style=\"color: #00d7ff; text-decoration-color: #00d7ff\">None</span>, <span style=\"color: #00af00; text-decoration-color: #00af00\">64</span>)        │      <span style=\"color: #00af00; text-decoration-color: #00af00\">8,256</span> │ dropout_34[<span style=\"color: #00af00; text-decoration-color: #00af00\">0</span>][<span style=\"color: #00af00; text-decoration-color: #00af00\">0</span>]  │\n",
       "├─────────────────────┼───────────────────┼────────────┼───────────────────┤\n",
       "│ dropout_35          │ (<span style=\"color: #00d7ff; text-decoration-color: #00d7ff\">None</span>, <span style=\"color: #00af00; text-decoration-color: #00af00\">64</span>)        │          <span style=\"color: #00af00; text-decoration-color: #00af00\">0</span> │ dense_28[<span style=\"color: #00af00; text-decoration-color: #00af00\">0</span>][<span style=\"color: #00af00; text-decoration-color: #00af00\">0</span>]    │\n",
       "│ (<span style=\"color: #0087ff; text-decoration-color: #0087ff\">Dropout</span>)           │                   │            │                   │\n",
       "├─────────────────────┼───────────────────┼────────────┼───────────────────┤\n",
       "│ dense_29 (<span style=\"color: #0087ff; text-decoration-color: #0087ff\">Dense</span>)    │ (<span style=\"color: #00d7ff; text-decoration-color: #00d7ff\">None</span>, <span style=\"color: #00af00; text-decoration-color: #00af00\">7</span>)         │        <span style=\"color: #00af00; text-decoration-color: #00af00\">455</span> │ dropout_35[<span style=\"color: #00af00; text-decoration-color: #00af00\">0</span>][<span style=\"color: #00af00; text-decoration-color: #00af00\">0</span>]  │\n",
       "└─────────────────────┴───────────────────┴────────────┴───────────────────┘\n",
       "</pre>\n"
      ],
      "text/plain": [
       "┏━━━━━━━━━━━━━━━━━━━━━┳━━━━━━━━━━━━━━━━━━━┳━━━━━━━━━━━━┳━━━━━━━━━━━━━━━━━━━┓\n",
       "┃\u001b[1m \u001b[0m\u001b[1mLayer (type)       \u001b[0m\u001b[1m \u001b[0m┃\u001b[1m \u001b[0m\u001b[1mOutput Shape     \u001b[0m\u001b[1m \u001b[0m┃\u001b[1m \u001b[0m\u001b[1m   Param #\u001b[0m\u001b[1m \u001b[0m┃\u001b[1m \u001b[0m\u001b[1mConnected to     \u001b[0m\u001b[1m \u001b[0m┃\n",
       "┡━━━━━━━━━━━━━━━━━━━━━╇━━━━━━━━━━━━━━━━━━━╇━━━━━━━━━━━━╇━━━━━━━━━━━━━━━━━━━┩\n",
       "│ speech_input_2d     │ (\u001b[38;5;45mNone\u001b[0m, \u001b[38;5;34m215\u001b[0m, \u001b[38;5;34m148\u001b[0m,  │          \u001b[38;5;34m0\u001b[0m │ -                 │\n",
       "│ (\u001b[38;5;33mInputLayer\u001b[0m)        │ \u001b[38;5;34m1\u001b[0m)                │            │                   │\n",
       "├─────────────────────┼───────────────────┼────────────┼───────────────────┤\n",
       "│ conv2d_10 (\u001b[38;5;33mConv2D\u001b[0m)  │ (\u001b[38;5;45mNone\u001b[0m, \u001b[38;5;34m213\u001b[0m, \u001b[38;5;34m146\u001b[0m,  │        \u001b[38;5;34m320\u001b[0m │ speech_input_2d[\u001b[38;5;34m…\u001b[0m │\n",
       "│                     │ \u001b[38;5;34m32\u001b[0m)               │            │                   │\n",
       "├─────────────────────┼───────────────────┼────────────┼───────────────────┤\n",
       "│ speech_input_1d     │ (\u001b[38;5;45mNone\u001b[0m, \u001b[38;5;34m4\u001b[0m)         │          \u001b[38;5;34m0\u001b[0m │ -                 │\n",
       "│ (\u001b[38;5;33mInputLayer\u001b[0m)        │                   │            │                   │\n",
       "├─────────────────────┼───────────────────┼────────────┼───────────────────┤\n",
       "│ max_pooling2d_10    │ (\u001b[38;5;45mNone\u001b[0m, \u001b[38;5;34m106\u001b[0m, \u001b[38;5;34m73\u001b[0m,   │          \u001b[38;5;34m0\u001b[0m │ conv2d_10[\u001b[38;5;34m0\u001b[0m][\u001b[38;5;34m0\u001b[0m]   │\n",
       "│ (\u001b[38;5;33mMaxPooling2D\u001b[0m)      │ \u001b[38;5;34m32\u001b[0m)               │            │                   │\n",
       "├─────────────────────┼───────────────────┼────────────┼───────────────────┤\n",
       "│ dense_25 (\u001b[38;5;33mDense\u001b[0m)    │ (\u001b[38;5;45mNone\u001b[0m, \u001b[38;5;34m64\u001b[0m)        │        \u001b[38;5;34m320\u001b[0m │ speech_input_1d[\u001b[38;5;34m…\u001b[0m │\n",
       "├─────────────────────┼───────────────────┼────────────┼───────────────────┤\n",
       "│ dropout_32          │ (\u001b[38;5;45mNone\u001b[0m, \u001b[38;5;34m106\u001b[0m, \u001b[38;5;34m73\u001b[0m,   │          \u001b[38;5;34m0\u001b[0m │ max_pooling2d_10… │\n",
       "│ (\u001b[38;5;33mDropout\u001b[0m)           │ \u001b[38;5;34m32\u001b[0m)               │            │                   │\n",
       "├─────────────────────┼───────────────────┼────────────┼───────────────────┤\n",
       "│ dropout_30          │ (\u001b[38;5;45mNone\u001b[0m, \u001b[38;5;34m64\u001b[0m)        │          \u001b[38;5;34m0\u001b[0m │ dense_25[\u001b[38;5;34m0\u001b[0m][\u001b[38;5;34m0\u001b[0m]    │\n",
       "│ (\u001b[38;5;33mDropout\u001b[0m)           │                   │            │                   │\n",
       "├─────────────────────┼───────────────────┼────────────┼───────────────────┤\n",
       "│ conv2d_11 (\u001b[38;5;33mConv2D\u001b[0m)  │ (\u001b[38;5;45mNone\u001b[0m, \u001b[38;5;34m104\u001b[0m, \u001b[38;5;34m71\u001b[0m,   │     \u001b[38;5;34m18,496\u001b[0m │ dropout_32[\u001b[38;5;34m0\u001b[0m][\u001b[38;5;34m0\u001b[0m]  │\n",
       "│                     │ \u001b[38;5;34m64\u001b[0m)               │            │                   │\n",
       "├─────────────────────┼───────────────────┼────────────┼───────────────────┤\n",
       "│ dense_26 (\u001b[38;5;33mDense\u001b[0m)    │ (\u001b[38;5;45mNone\u001b[0m, \u001b[38;5;34m32\u001b[0m)        │      \u001b[38;5;34m2,080\u001b[0m │ dropout_30[\u001b[38;5;34m0\u001b[0m][\u001b[38;5;34m0\u001b[0m]  │\n",
       "├─────────────────────┼───────────────────┼────────────┼───────────────────┤\n",
       "│ max_pooling2d_11    │ (\u001b[38;5;45mNone\u001b[0m, \u001b[38;5;34m52\u001b[0m, \u001b[38;5;34m35\u001b[0m,    │          \u001b[38;5;34m0\u001b[0m │ conv2d_11[\u001b[38;5;34m0\u001b[0m][\u001b[38;5;34m0\u001b[0m]   │\n",
       "│ (\u001b[38;5;33mMaxPooling2D\u001b[0m)      │ \u001b[38;5;34m64\u001b[0m)               │            │                   │\n",
       "├─────────────────────┼───────────────────┼────────────┼───────────────────┤\n",
       "│ dropout_31          │ (\u001b[38;5;45mNone\u001b[0m, \u001b[38;5;34m32\u001b[0m)        │          \u001b[38;5;34m0\u001b[0m │ dense_26[\u001b[38;5;34m0\u001b[0m][\u001b[38;5;34m0\u001b[0m]    │\n",
       "│ (\u001b[38;5;33mDropout\u001b[0m)           │                   │            │                   │\n",
       "├─────────────────────┼───────────────────┼────────────┼───────────────────┤\n",
       "│ dropout_33          │ (\u001b[38;5;45mNone\u001b[0m, \u001b[38;5;34m52\u001b[0m, \u001b[38;5;34m35\u001b[0m,    │          \u001b[38;5;34m0\u001b[0m │ max_pooling2d_11… │\n",
       "│ (\u001b[38;5;33mDropout\u001b[0m)           │ \u001b[38;5;34m64\u001b[0m)               │            │                   │\n",
       "├─────────────────────┼───────────────────┼────────────┼───────────────────┤\n",
       "│ flatten_10          │ (\u001b[38;5;45mNone\u001b[0m, \u001b[38;5;34m32\u001b[0m)        │          \u001b[38;5;34m0\u001b[0m │ dropout_31[\u001b[38;5;34m0\u001b[0m][\u001b[38;5;34m0\u001b[0m]  │\n",
       "│ (\u001b[38;5;33mFlatten\u001b[0m)           │                   │            │                   │\n",
       "├─────────────────────┼───────────────────┼────────────┼───────────────────┤\n",
       "│ flatten_11          │ (\u001b[38;5;45mNone\u001b[0m, \u001b[38;5;34m116480\u001b[0m)    │          \u001b[38;5;34m0\u001b[0m │ dropout_33[\u001b[38;5;34m0\u001b[0m][\u001b[38;5;34m0\u001b[0m]  │\n",
       "│ (\u001b[38;5;33mFlatten\u001b[0m)           │                   │            │                   │\n",
       "├─────────────────────┼───────────────────┼────────────┼───────────────────┤\n",
       "│ concatenate_5       │ (\u001b[38;5;45mNone\u001b[0m, \u001b[38;5;34m116512\u001b[0m)    │          \u001b[38;5;34m0\u001b[0m │ flatten_10[\u001b[38;5;34m0\u001b[0m][\u001b[38;5;34m0\u001b[0m], │\n",
       "│ (\u001b[38;5;33mConcatenate\u001b[0m)       │                   │            │ flatten_11[\u001b[38;5;34m0\u001b[0m][\u001b[38;5;34m0\u001b[0m]  │\n",
       "├─────────────────────┼───────────────────┼────────────┼───────────────────┤\n",
       "│ dense_27 (\u001b[38;5;33mDense\u001b[0m)    │ (\u001b[38;5;45mNone\u001b[0m, \u001b[38;5;34m128\u001b[0m)       │ \u001b[38;5;34m14,913,664\u001b[0m │ concatenate_5[\u001b[38;5;34m0\u001b[0m]… │\n",
       "├─────────────────────┼───────────────────┼────────────┼───────────────────┤\n",
       "│ dropout_34          │ (\u001b[38;5;45mNone\u001b[0m, \u001b[38;5;34m128\u001b[0m)       │          \u001b[38;5;34m0\u001b[0m │ dense_27[\u001b[38;5;34m0\u001b[0m][\u001b[38;5;34m0\u001b[0m]    │\n",
       "│ (\u001b[38;5;33mDropout\u001b[0m)           │                   │            │                   │\n",
       "├─────────────────────┼───────────────────┼────────────┼───────────────────┤\n",
       "│ dense_28 (\u001b[38;5;33mDense\u001b[0m)    │ (\u001b[38;5;45mNone\u001b[0m, \u001b[38;5;34m64\u001b[0m)        │      \u001b[38;5;34m8,256\u001b[0m │ dropout_34[\u001b[38;5;34m0\u001b[0m][\u001b[38;5;34m0\u001b[0m]  │\n",
       "├─────────────────────┼───────────────────┼────────────┼───────────────────┤\n",
       "│ dropout_35          │ (\u001b[38;5;45mNone\u001b[0m, \u001b[38;5;34m64\u001b[0m)        │          \u001b[38;5;34m0\u001b[0m │ dense_28[\u001b[38;5;34m0\u001b[0m][\u001b[38;5;34m0\u001b[0m]    │\n",
       "│ (\u001b[38;5;33mDropout\u001b[0m)           │                   │            │                   │\n",
       "├─────────────────────┼───────────────────┼────────────┼───────────────────┤\n",
       "│ dense_29 (\u001b[38;5;33mDense\u001b[0m)    │ (\u001b[38;5;45mNone\u001b[0m, \u001b[38;5;34m7\u001b[0m)         │        \u001b[38;5;34m455\u001b[0m │ dropout_35[\u001b[38;5;34m0\u001b[0m][\u001b[38;5;34m0\u001b[0m]  │\n",
       "└─────────────────────┴───────────────────┴────────────┴───────────────────┘\n"
      ]
     },
     "metadata": {},
     "output_type": "display_data"
    },
    {
     "data": {
      "text/html": [
       "<pre style=\"white-space:pre;overflow-x:auto;line-height:normal;font-family:Menlo,'DejaVu Sans Mono',consolas,'Courier New',monospace\"><span style=\"font-weight: bold\"> Total params: </span><span style=\"color: #00af00; text-decoration-color: #00af00\">14,943,591</span> (57.01 MB)\n",
       "</pre>\n"
      ],
      "text/plain": [
       "\u001b[1m Total params: \u001b[0m\u001b[38;5;34m14,943,591\u001b[0m (57.01 MB)\n"
      ]
     },
     "metadata": {},
     "output_type": "display_data"
    },
    {
     "data": {
      "text/html": [
       "<pre style=\"white-space:pre;overflow-x:auto;line-height:normal;font-family:Menlo,'DejaVu Sans Mono',consolas,'Courier New',monospace\"><span style=\"font-weight: bold\"> Trainable params: </span><span style=\"color: #00af00; text-decoration-color: #00af00\">14,943,591</span> (57.01 MB)\n",
       "</pre>\n"
      ],
      "text/plain": [
       "\u001b[1m Trainable params: \u001b[0m\u001b[38;5;34m14,943,591\u001b[0m (57.01 MB)\n"
      ]
     },
     "metadata": {},
     "output_type": "display_data"
    },
    {
     "data": {
      "text/html": [
       "<pre style=\"white-space:pre;overflow-x:auto;line-height:normal;font-family:Menlo,'DejaVu Sans Mono',consolas,'Courier New',monospace\"><span style=\"font-weight: bold\"> Non-trainable params: </span><span style=\"color: #00af00; text-decoration-color: #00af00\">0</span> (0.00 B)\n",
       "</pre>\n"
      ],
      "text/plain": [
       "\u001b[1m Non-trainable params: \u001b[0m\u001b[38;5;34m0\u001b[0m (0.00 B)\n"
      ]
     },
     "metadata": {},
     "output_type": "display_data"
    }
   ],
   "source": [
    "# Compile the model\n",
    "speech_num_classes = len(np.unique(speech_labels)) # Get the number of unique classes from the labels\n",
    "speech_model.compile(optimizer=Adam(),\n",
    "              loss=SparseCategoricalCrossentropy(),\n",
    "              metrics=['accuracy'])\n",
    "\n",
    "speech_model.summary()"
   ]
  },
  {
   "cell_type": "code",
   "execution_count": 14,
   "metadata": {
    "execution": {
     "iopub.execute_input": "2025-10-17T20:33:54.986068Z",
     "iopub.status.busy": "2025-10-17T20:33:54.985389Z",
     "iopub.status.idle": "2025-10-17T20:33:54.991951Z",
     "shell.execute_reply": "2025-10-17T20:33:54.991201Z",
     "shell.execute_reply.started": "2025-10-17T20:33:54.986042Z"
    },
    "trusted": true
   },
   "outputs": [],
   "source": [
    "class F1ScoreCallback(Callback):\n",
    "    def __init__(self, train_data, validation_data):\n",
    "        super().__init__()\n",
    "        self.train_data = train_data\n",
    "        self.validation_data = validation_data\n",
    "        self.train_f1_scores = []\n",
    "        self.val_f1_scores = []\n",
    "\n",
    "    def on_epoch_end(self, epoch, logs=None):\n",
    "        # Calculate F1 score on training data\n",
    "        y_train_pred_probs = self.model.predict(self.train_data[0])\n",
    "        y_train_pred = np.argmax(y_train_pred_probs, axis=1)\n",
    "        train_f1 = f1_score(self.train_data[1], y_train_pred, average='macro') # Use macro average for multi-class\n",
    "        self.train_f1_scores.append(train_f1)\n",
    "        logs['f1_score'] = train_f1 # Add to logs for potential display during training\n",
    "\n",
    "        # Calculate F1 score on validation data\n",
    "        y_val_pred_probs = self.model.predict(self.validation_data[0])\n",
    "        y_val_pred = np.argmax(y_val_pred_probs, axis=1)\n",
    "        val_f1 = f1_score(self.validation_data[1], y_val_pred, average='macro') # Use macro average for multi-class\n",
    "        self.val_f1_scores.append(val_f1)\n",
    "        logs['val_f1_score'] = val_f1 # Add to logs for potential display during training\n",
    "\n",
    "        print(f\"Epoch {epoch+1}: Train F1 = {train_f1:.4f}, Val F1 = {val_f1:.4f}\")"
   ]
  },
  {
   "cell_type": "code",
   "execution_count": 34,
   "metadata": {
    "execution": {
     "iopub.execute_input": "2025-10-17T20:58:22.582591Z",
     "iopub.status.busy": "2025-10-17T20:58:22.581941Z",
     "iopub.status.idle": "2025-10-17T21:01:04.702030Z",
     "shell.execute_reply": "2025-10-17T21:01:04.701385Z",
     "shell.execute_reply.started": "2025-10-17T20:58:22.582565Z"
    },
    "scrolled": true,
    "trusted": true
   },
   "outputs": [
    {
     "name": "stdout",
     "output_type": "stream",
     "text": [
      "Epoch 1/25\n",
      "\u001b[1m180/180\u001b[0m \u001b[32m━━━━━━━━━━━━━━━━━━━━\u001b[0m\u001b[37m\u001b[0m \u001b[1m2s\u001b[0m 7ms/step\n",
      "\u001b[1m45/45\u001b[0m \u001b[32m━━━━━━━━━━━━━━━━━━━━\u001b[0m\u001b[37m\u001b[0m \u001b[1m0s\u001b[0m 7ms/step\n",
      "Epoch 1: Train F1 = 0.1349, Val F1 = 0.1425\n",
      "\u001b[1m180/180\u001b[0m \u001b[32m━━━━━━━━━━━━━━━━━━━━\u001b[0m\u001b[37m\u001b[0m \u001b[1m18s\u001b[0m 61ms/step - accuracy: 0.2066 - loss: 3.2795 - val_accuracy: 0.3056 - val_loss: 1.6943 - f1_score: 0.1349 - val_f1_score: 0.1425\n",
      "Epoch 2/25\n",
      "\u001b[1m180/180\u001b[0m \u001b[32m━━━━━━━━━━━━━━━━━━━━\u001b[0m\u001b[37m\u001b[0m \u001b[1m1s\u001b[0m 7ms/step\n",
      "\u001b[1m45/45\u001b[0m \u001b[32m━━━━━━━━━━━━━━━━━━━━\u001b[0m\u001b[37m\u001b[0m \u001b[1m0s\u001b[0m 7ms/step\n",
      "Epoch 2: Train F1 = 0.2702, Val F1 = 0.2724\n",
      "\u001b[1m180/180\u001b[0m \u001b[32m━━━━━━━━━━━━━━━━━━━━\u001b[0m\u001b[37m\u001b[0m \u001b[1m9s\u001b[0m 53ms/step - accuracy: 0.3039 - loss: 1.7384 - val_accuracy: 0.3778 - val_loss: 1.5877 - f1_score: 0.2702 - val_f1_score: 0.2724\n",
      "Epoch 3/25\n",
      "\u001b[1m180/180\u001b[0m \u001b[32m━━━━━━━━━━━━━━━━━━━━\u001b[0m\u001b[37m\u001b[0m \u001b[1m1s\u001b[0m 7ms/step\n",
      "\u001b[1m45/45\u001b[0m \u001b[32m━━━━━━━━━━━━━━━━━━━━\u001b[0m\u001b[37m\u001b[0m \u001b[1m0s\u001b[0m 7ms/step\n",
      "Epoch 3: Train F1 = 0.3775, Val F1 = 0.3558\n",
      "\u001b[1m180/180\u001b[0m \u001b[32m━━━━━━━━━━━━━━━━━━━━\u001b[0m\u001b[37m\u001b[0m \u001b[1m10s\u001b[0m 53ms/step - accuracy: 0.3489 - loss: 1.6452 - val_accuracy: 0.4382 - val_loss: 1.4449 - f1_score: 0.3775 - val_f1_score: 0.3558\n",
      "Epoch 4/25\n",
      "\u001b[1m180/180\u001b[0m \u001b[32m━━━━━━━━━━━━━━━━━━━━\u001b[0m\u001b[37m\u001b[0m \u001b[1m1s\u001b[0m 7ms/step\n",
      "\u001b[1m45/45\u001b[0m \u001b[32m━━━━━━━━━━━━━━━━━━━━\u001b[0m\u001b[37m\u001b[0m \u001b[1m0s\u001b[0m 7ms/step\n",
      "Epoch 4: Train F1 = 0.4945, Val F1 = 0.4393\n",
      "\u001b[1m180/180\u001b[0m \u001b[32m━━━━━━━━━━━━━━━━━━━━\u001b[0m\u001b[37m\u001b[0m \u001b[1m10s\u001b[0m 53ms/step - accuracy: 0.3989 - loss: 1.5240 - val_accuracy: 0.4910 - val_loss: 1.3438 - f1_score: 0.4945 - val_f1_score: 0.4393\n",
      "Epoch 5/25\n",
      "\u001b[1m180/180\u001b[0m \u001b[32m━━━━━━━━━━━━━━━━━━━━\u001b[0m\u001b[37m\u001b[0m \u001b[1m1s\u001b[0m 7ms/step\n",
      "\u001b[1m45/45\u001b[0m \u001b[32m━━━━━━━━━━━━━━━━━━━━\u001b[0m\u001b[37m\u001b[0m \u001b[1m0s\u001b[0m 7ms/step\n",
      "Epoch 5: Train F1 = 0.5812, Val F1 = 0.4806\n",
      "\u001b[1m180/180\u001b[0m \u001b[32m━━━━━━━━━━━━━━━━━━━━\u001b[0m\u001b[37m\u001b[0m \u001b[1m10s\u001b[0m 53ms/step - accuracy: 0.4828 - loss: 1.3505 - val_accuracy: 0.5347 - val_loss: 1.2181 - f1_score: 0.5812 - val_f1_score: 0.4806\n",
      "Epoch 6/25\n",
      "\u001b[1m180/180\u001b[0m \u001b[32m━━━━━━━━━━━━━━━━━━━━\u001b[0m\u001b[37m\u001b[0m \u001b[1m1s\u001b[0m 7ms/step\n",
      "\u001b[1m45/45\u001b[0m \u001b[32m━━━━━━━━━━━━━━━━━━━━\u001b[0m\u001b[37m\u001b[0m \u001b[1m0s\u001b[0m 7ms/step\n",
      "Epoch 6: Train F1 = 0.7417, Val F1 = 0.6031\n",
      "\u001b[1m180/180\u001b[0m \u001b[32m━━━━━━━━━━━━━━━━━━━━\u001b[0m\u001b[37m\u001b[0m \u001b[1m9s\u001b[0m 53ms/step - accuracy: 0.5618 - loss: 1.1743 - val_accuracy: 0.6299 - val_loss: 1.0285 - f1_score: 0.7417 - val_f1_score: 0.6031\n",
      "Epoch 7/25\n",
      "\u001b[1m180/180\u001b[0m \u001b[32m━━━━━━━━━━━━━━━━━━━━\u001b[0m\u001b[37m\u001b[0m \u001b[1m1s\u001b[0m 7ms/step\n",
      "\u001b[1m45/45\u001b[0m \u001b[32m━━━━━━━━━━━━━━━━━━━━\u001b[0m\u001b[37m\u001b[0m \u001b[1m0s\u001b[0m 7ms/step\n",
      "Epoch 7: Train F1 = 0.8346, Val F1 = 0.6612\n",
      "\u001b[1m180/180\u001b[0m \u001b[32m━━━━━━━━━━━━━━━━━━━━\u001b[0m\u001b[37m\u001b[0m \u001b[1m10s\u001b[0m 53ms/step - accuracy: 0.6257 - loss: 1.0047 - val_accuracy: 0.6764 - val_loss: 0.9146 - f1_score: 0.8346 - val_f1_score: 0.6612\n",
      "Epoch 8/25\n",
      "\u001b[1m180/180\u001b[0m \u001b[32m━━━━━━━━━━━━━━━━━━━━\u001b[0m\u001b[37m\u001b[0m \u001b[1m1s\u001b[0m 7ms/step\n",
      "\u001b[1m45/45\u001b[0m \u001b[32m━━━━━━━━━━━━━━━━━━━━\u001b[0m\u001b[37m\u001b[0m \u001b[1m0s\u001b[0m 7ms/step\n",
      "Epoch 8: Train F1 = 0.8886, Val F1 = 0.7080\n",
      "\u001b[1m180/180\u001b[0m \u001b[32m━━━━━━━━━━━━━━━━━━━━\u001b[0m\u001b[37m\u001b[0m \u001b[1m9s\u001b[0m 53ms/step - accuracy: 0.6888 - loss: 0.8456 - val_accuracy: 0.7222 - val_loss: 0.8171 - f1_score: 0.8886 - val_f1_score: 0.7080\n",
      "Epoch 9/25\n",
      "\u001b[1m180/180\u001b[0m \u001b[32m━━━━━━━━━━━━━━━━━━━━\u001b[0m\u001b[37m\u001b[0m \u001b[1m1s\u001b[0m 7ms/step\n",
      "\u001b[1m45/45\u001b[0m \u001b[32m━━━━━━━━━━━━━━━━━━━━\u001b[0m\u001b[37m\u001b[0m \u001b[1m0s\u001b[0m 7ms/step\n",
      "Epoch 9: Train F1 = 0.9239, Val F1 = 0.7287\n",
      "\u001b[1m180/180\u001b[0m \u001b[32m━━━━━━━━━━━━━━━━━━━━\u001b[0m\u001b[37m\u001b[0m \u001b[1m9s\u001b[0m 52ms/step - accuracy: 0.7560 - loss: 0.6630 - val_accuracy: 0.7417 - val_loss: 0.7640 - f1_score: 0.9239 - val_f1_score: 0.7287\n",
      "Epoch 10/25\n",
      "\u001b[1m180/180\u001b[0m \u001b[32m━━━━━━━━━━━━━━━━━━━━\u001b[0m\u001b[37m\u001b[0m \u001b[1m1s\u001b[0m 7ms/step\n",
      "\u001b[1m45/45\u001b[0m \u001b[32m━━━━━━━━━━━━━━━━━━━━\u001b[0m\u001b[37m\u001b[0m \u001b[1m0s\u001b[0m 7ms/step\n",
      "Epoch 10: Train F1 = 0.9404, Val F1 = 0.7254\n",
      "\u001b[1m180/180\u001b[0m \u001b[32m━━━━━━━━━━━━━━━━━━━━\u001b[0m\u001b[37m\u001b[0m \u001b[1m9s\u001b[0m 52ms/step - accuracy: 0.7976 - loss: 0.5645 - val_accuracy: 0.7382 - val_loss: 0.7642 - f1_score: 0.9404 - val_f1_score: 0.7254\n",
      "Epoch 11/25\n",
      "\u001b[1m180/180\u001b[0m \u001b[32m━━━━━━━━━━━━━━━━━━━━\u001b[0m\u001b[37m\u001b[0m \u001b[1m1s\u001b[0m 7ms/step\n",
      "\u001b[1m45/45\u001b[0m \u001b[32m━━━━━━━━━━━━━━━━━━━━\u001b[0m\u001b[37m\u001b[0m \u001b[1m0s\u001b[0m 7ms/step\n",
      "Epoch 11: Train F1 = 0.9662, Val F1 = 0.7633\n",
      "\u001b[1m180/180\u001b[0m \u001b[32m━━━━━━━━━━━━━━━━━━━━\u001b[0m\u001b[37m\u001b[0m \u001b[1m9s\u001b[0m 53ms/step - accuracy: 0.8257 - loss: 0.5001 - val_accuracy: 0.7701 - val_loss: 0.7153 - f1_score: 0.9662 - val_f1_score: 0.7633\n",
      "Epoch 12/25\n",
      "\u001b[1m180/180\u001b[0m \u001b[32m━━━━━━━━━━━━━━━━━━━━\u001b[0m\u001b[37m\u001b[0m \u001b[1m1s\u001b[0m 7ms/step\n",
      "\u001b[1m45/45\u001b[0m \u001b[32m━━━━━━━━━━━━━━━━━━━━\u001b[0m\u001b[37m\u001b[0m \u001b[1m0s\u001b[0m 7ms/step\n",
      "Epoch 12: Train F1 = 0.9827, Val F1 = 0.7804\n",
      "\u001b[1m180/180\u001b[0m \u001b[32m━━━━━━━━━━━━━━━━━━━━\u001b[0m\u001b[37m\u001b[0m \u001b[1m9s\u001b[0m 53ms/step - accuracy: 0.8530 - loss: 0.4346 - val_accuracy: 0.7875 - val_loss: 0.6710 - f1_score: 0.9827 - val_f1_score: 0.7804\n",
      "Epoch 13/25\n",
      "\u001b[1m180/180\u001b[0m \u001b[32m━━━━━━━━━━━━━━━━━━━━\u001b[0m\u001b[37m\u001b[0m \u001b[1m1s\u001b[0m 7ms/step\n",
      "\u001b[1m45/45\u001b[0m \u001b[32m━━━━━━━━━━━━━━━━━━━━\u001b[0m\u001b[37m\u001b[0m \u001b[1m0s\u001b[0m 7ms/step\n",
      "Epoch 13: Train F1 = 0.9909, Val F1 = 0.7717\n",
      "\u001b[1m180/180\u001b[0m \u001b[32m━━━━━━━━━━━━━━━━━━━━\u001b[0m\u001b[37m\u001b[0m \u001b[1m9s\u001b[0m 53ms/step - accuracy: 0.8748 - loss: 0.3545 - val_accuracy: 0.7785 - val_loss: 0.6520 - f1_score: 0.9909 - val_f1_score: 0.7717\n",
      "Epoch 14/25\n",
      "\u001b[1m180/180\u001b[0m \u001b[32m━━━━━━━━━━━━━━━━━━━━\u001b[0m\u001b[37m\u001b[0m \u001b[1m1s\u001b[0m 7ms/step\n",
      "\u001b[1m45/45\u001b[0m \u001b[32m━━━━━━━━━━━━━━━━━━━━\u001b[0m\u001b[37m\u001b[0m \u001b[1m0s\u001b[0m 7ms/step\n",
      "Epoch 14: Train F1 = 0.9917, Val F1 = 0.7653\n",
      "\u001b[1m180/180\u001b[0m \u001b[32m━━━━━━━━━━━━━━━━━━━━\u001b[0m\u001b[37m\u001b[0m \u001b[1m9s\u001b[0m 52ms/step - accuracy: 0.8972 - loss: 0.2924 - val_accuracy: 0.7743 - val_loss: 0.7085 - f1_score: 0.9917 - val_f1_score: 0.7653\n",
      "Epoch 15/25\n",
      "\u001b[1m180/180\u001b[0m \u001b[32m━━━━━━━━━━━━━━━━━━━━\u001b[0m\u001b[37m\u001b[0m \u001b[1m1s\u001b[0m 7ms/step\n",
      "\u001b[1m45/45\u001b[0m \u001b[32m━━━━━━━━━━━━━━━━━━━━\u001b[0m\u001b[37m\u001b[0m \u001b[1m0s\u001b[0m 7ms/step\n",
      "Epoch 15: Train F1 = 0.9930, Val F1 = 0.7743\n",
      "\u001b[1m180/180\u001b[0m \u001b[32m━━━━━━━━━━━━━━━━━━━━\u001b[0m\u001b[37m\u001b[0m \u001b[1m9s\u001b[0m 52ms/step - accuracy: 0.9084 - loss: 0.2781 - val_accuracy: 0.7819 - val_loss: 0.7553 - f1_score: 0.9930 - val_f1_score: 0.7743\n",
      "Epoch 16/25\n",
      "\u001b[1m180/180\u001b[0m \u001b[32m━━━━━━━━━━━━━━━━━━━━\u001b[0m\u001b[37m\u001b[0m \u001b[1m1s\u001b[0m 7ms/step\n",
      "\u001b[1m45/45\u001b[0m \u001b[32m━━━━━━━━━━━━━━━━━━━━\u001b[0m\u001b[37m\u001b[0m \u001b[1m0s\u001b[0m 7ms/step\n",
      "Epoch 16: Train F1 = 0.9964, Val F1 = 0.7806\n",
      "\u001b[1m180/180\u001b[0m \u001b[32m━━━━━━━━━━━━━━━━━━━━\u001b[0m\u001b[37m\u001b[0m \u001b[1m9s\u001b[0m 52ms/step - accuracy: 0.9128 - loss: 0.2601 - val_accuracy: 0.7882 - val_loss: 0.7101 - f1_score: 0.9964 - val_f1_score: 0.7806\n"
     ]
    }
   ],
   "source": [
    "# Initialize LabelEncoder\n",
    "speech_label_encoder = LabelEncoder()\n",
    "\n",
    "# Fit and transform the training and testing labels\n",
    "speech_labels_train_encoded = speech_label_encoder.fit_transform(speech_labels_train)\n",
    "speech_labels_test_encoded = speech_label_encoder.transform(speech_labels_test)\n",
    "\n",
    "# Instantiate the custom F1ScoreCallback\n",
    "f1_callback = F1ScoreCallback(train_data=([combined_1d_speech_train, combined_2d_speech_train_reshaped], speech_labels_train_encoded),\n",
    "                              validation_data=([combined_1d_speech_test, combined_2d_speech_test_reshaped], speech_labels_test_encoded))\n",
    "\n",
    "early_stopping = tf.keras.callbacks.EarlyStopping(monitor='val_loss', patience=3, restore_best_weights=True)\n",
    "\n",
    "history = speech_model.fit(\n",
    "    [combined_1d_speech_train, combined_2d_speech_train_reshaped],\n",
    "    speech_labels_train_encoded,\n",
    "    epochs=25,\n",
    "    batch_size=32,\n",
    "    validation_data=([combined_1d_speech_test, combined_2d_speech_test_reshaped], speech_labels_test_encoded),\n",
    "    callbacks=[f1_callback, early_stopping]\n",
    ")"
   ]
  },
  {
   "cell_type": "code",
   "execution_count": 35,
   "metadata": {
    "execution": {
     "iopub.execute_input": "2025-10-17T21:01:13.604780Z",
     "iopub.status.busy": "2025-10-17T21:01:13.604466Z",
     "iopub.status.idle": "2025-10-17T21:01:14.125414Z",
     "shell.execute_reply": "2025-10-17T21:01:14.124591Z",
     "shell.execute_reply.started": "2025-10-17T21:01:13.604758Z"
    },
    "trusted": true
   },
   "outputs": [
    {
     "data": {
      "image/png": "[encoded data removed]",
      "text/plain": [
       "<Figure size 1200x400 with 3 Axes>"
      ]
     },
     "metadata": {},
     "output_type": "display_data"
    }
   ],
   "source": [
    "# Plot accuracy and loss\n",
    "plt.figure(figsize=(12, 4))\n",
    "\n",
    "# Plot accuracy\n",
    "plt.subplot(1, 3, 1) # Changed to 1 row, 3 columns\n",
    "plt.plot(history.history['accuracy'])\n",
    "plt.plot(history.history['val_accuracy'])\n",
    "plt.title('Model Accuracy')\n",
    "plt.ylabel('Accuracy')\n",
    "plt.xlabel('Epoch')\n",
    "plt.legend(['Train', 'Validation'], loc='upper left')\n",
    "\n",
    "# Plot F1 score\n",
    "plt.subplot(1, 3, 2) # Changed to 1 row, 3 columns\n",
    "plt.plot(history.history['f1_score'])\n",
    "plt.plot(history.history['val_f1_score'])\n",
    "plt.title('Model F1 Score')\n",
    "plt.ylabel('F1 Score')\n",
    "plt.xlabel('Epoch')\n",
    "plt.legend(['Train', 'Validation'], loc='upper left')\n",
    "\n",
    "# Plot Loss\n",
    "plt.subplot(1, 3, 3) # Added a new subplot for loss\n",
    "plt.plot(history.history['loss'])\n",
    "plt.plot(history.history['val_loss'])\n",
    "plt.title('Model Loss')\n",
    "plt.ylabel('Loss')\n",
    "plt.xlabel('Epoch')\n",
    "plt.legend(['Train', 'Validation'], loc='upper left')\n",
    "\n",
    "\n",
    "plt.tight_layout()\n",
    "plt.show()"
   ]
  },
  {
   "cell_type": "code",
   "execution_count": 36,
   "metadata": {
    "execution": {
     "iopub.execute_input": "2025-10-17T21:01:18.728871Z",
     "iopub.status.busy": "2025-10-17T21:01:18.728280Z",
     "iopub.status.idle": "2025-10-17T21:01:20.645477Z",
     "shell.execute_reply": "2025-10-17T21:01:20.644729Z",
     "shell.execute_reply.started": "2025-10-17T21:01:18.728848Z"
    },
    "trusted": true
   },
   "outputs": [
    {
     "name": "stdout",
     "output_type": "stream",
     "text": [
      "\u001b[1m45/45\u001b[0m \u001b[32m━━━━━━━━━━━━━━━━━━━━\u001b[0m\u001b[37m\u001b[0m \u001b[1m0s\u001b[0m 7ms/step\n",
      "Test Loss: 0.6520\n",
      "Test Accuracy: 0.7785\n",
      "Test F1 Score: 0.7717\n"
     ]
    }
   ],
   "source": [
    "loss, accuracy = speech_model.evaluate(\n",
    "    [combined_1d_speech_test, combined_2d_speech_test_reshaped],\n",
    "    speech_labels_test_encoded,\n",
    "    verbose=0\n",
    ")\n",
    "\n",
    "# Predict on the test set to calculate F1 score\n",
    "y_pred_probs = speech_model.predict([combined_1d_speech_test, combined_2d_speech_test_reshaped])\n",
    "y_pred = np.argmax(y_pred_probs, axis=1)\n",
    "test_f1_score = f1_score(speech_labels_test_encoded, y_pred, average='macro')\n",
    "\n",
    "print(f\"Test Loss: {loss:.4f}\")\n",
    "print(f\"Test Accuracy: {accuracy:.4f}\")\n",
    "print(f\"Test F1 Score: {test_f1_score:.4f}\")"
   ]
  },
  {
   "cell_type": "code",
   "execution_count": 37,
   "metadata": {
    "execution": {
     "iopub.execute_input": "2025-10-17T21:01:26.315392Z",
     "iopub.status.busy": "2025-10-17T21:01:26.314671Z",
     "iopub.status.idle": "2025-10-17T21:01:27.551083Z",
     "shell.execute_reply": "2025-10-17T21:01:27.550365Z",
     "shell.execute_reply.started": "2025-10-17T21:01:26.315370Z"
    },
    "trusted": true
   },
   "outputs": [
    {
     "name": "stdout",
     "output_type": "stream",
     "text": [
      "\u001b[1m45/45\u001b[0m \u001b[32m━━━━━━━━━━━━━━━━━━━━\u001b[0m\u001b[37m\u001b[0m \u001b[1m0s\u001b[0m 8ms/step\n"
     ]
    },
    {
     "data": {
      "image/png": "[encoded data removed]",
      "text/plain": [
       "<Figure size 640x480 with 2 Axes>"
      ]
     },
     "metadata": {},
     "output_type": "display_data"
    }
   ],
   "source": [
    "from sklearn.metrics import confusion_matrix, ConfusionMatrixDisplay\n",
    "\n",
    "# Get predictions on the test set\n",
    "y_pred_probs = speech_model.predict([combined_1d_speech_test, combined_2d_speech_test_reshaped])\n",
    "y_pred = np.argmax(y_pred_probs, axis=1)\n",
    "\n",
    "# Generate the confusion matrix\n",
    "cm = confusion_matrix(speech_labels_test_encoded, y_pred)\n",
    "\n",
    "# Get the class labels (assuming they are 0 to num_classes-1)\n",
    "class_labels = speech_label_encoder.classes_\n",
    "\n",
    "# Display the confusion matrix\n",
    "disp = ConfusionMatrixDisplay(confusion_matrix=cm, display_labels=class_labels)\n",
    "disp.plot(cmap=plt.cm.Blues)\n",
    "plt.title('Confusion Matrix')\n",
    "plt.show()"
   ]
  },
  {
   "cell_type": "code",
   "execution_count": 38,
   "metadata": {
    "execution": {
     "iopub.execute_input": "2025-10-17T21:02:04.208332Z",
     "iopub.status.busy": "2025-10-17T21:02:04.207644Z",
     "iopub.status.idle": "2025-10-17T21:02:04.903215Z",
     "shell.execute_reply": "2025-10-17T21:02:04.902241Z",
     "shell.execute_reply.started": "2025-10-17T21:02:04.208313Z"
    },
    "trusted": true
   },
   "outputs": [
    {
     "name": "stdout",
     "output_type": "stream",
     "text": [
      "Model saved successfully!\n"
     ]
    }
   ],
   "source": [
    "# Save the entire model\n",
    "speech_model.save('/kaggle/working/models/speech/speech_rec_model.h5')\n",
    "print(\"Model saved successfully!\")"
   ]
  },
  {
   "cell_type": "markdown",
   "metadata": {},
   "source": [
    "### 2.2 Song Emotion Recogniser"
   ]
  },
  {
   "cell_type": "code",
   "execution_count": 18,
   "metadata": {
    "execution": {
     "iopub.execute_input": "2025-10-17T18:29:15.320429Z",
     "iopub.status.busy": "2025-10-17T18:29:15.320151Z",
     "iopub.status.idle": "2025-10-17T18:29:15.423322Z",
     "shell.execute_reply": "2025-10-17T18:29:15.422494Z",
     "shell.execute_reply.started": "2025-10-17T18:29:15.320411Z"
    },
    "trusted": true
   },
   "outputs": [
    {
     "name": "stdout",
     "output_type": "stream",
     "text": [
      "Shape of song_zcr_stats: (5060, 2)\n",
      "Shape of song_rmse_stats: (5060, 2)\n",
      "Shape of song_mfcc_2d_padded: (5060, 216, 20)\n",
      "Shape of song_chroma_2d_padded: (5060, 216, 12)\n",
      "Shape of song_labels: (5060,)\n"
     ]
    }
   ],
   "source": [
    "song_zcr_stats = np.load(\"/kaggle/working/feats/song/song_zcr_stats.npy\")\n",
    "song_rmse_stats = np.load(\"/kaggle/working/feats/song/song_rmse_stats.npy\")\n",
    "song_mfcc_2d_padded = np.load(\"/kaggle/working/feats/song/song_mfcc_2d_padded.npy\")\n",
    "song_chroma_2d_padded = np.load(\"/kaggle/working/feats/song/song_chroma_2d_padded.npy\")\n",
    "song_labels = np.load(\"/kaggle/working/feats/song/song_labels.npy\")\n",
    "\n",
    "print(\"Shape of song_zcr_stats:\", song_zcr_stats.shape)\n",
    "print(\"Shape of song_rmse_stats:\", song_rmse_stats.shape)\n",
    "print(\"Shape of song_mfcc_2d_padded:\", song_mfcc_2d_padded.shape)\n",
    "print(\"Shape of song_chroma_2d_padded:\", song_chroma_2d_padded.shape)\n",
    "print(\"Shape of song_labels:\", song_labels.shape)"
   ]
  },
  {
   "cell_type": "code",
   "execution_count": 19,
   "metadata": {
    "execution": {
     "iopub.execute_input": "2025-10-17T18:29:35.308711Z",
     "iopub.status.busy": "2025-10-17T18:29:35.308452Z",
     "iopub.status.idle": "2025-10-17T18:29:35.529524Z",
     "shell.execute_reply": "2025-10-17T18:29:35.528825Z",
     "shell.execute_reply.started": "2025-10-17T18:29:35.308692Z"
    },
    "trusted": true
   },
   "outputs": [
    {
     "name": "stdout",
     "output_type": "stream",
     "text": [
      "Song features:\n",
      "ZCR Stats Description:\n",
      "[0.1650417  0.14023045]\n",
      "[0.04371956 0.04179223]\n",
      "[0.05619527 0.0321396 ]\n",
      "[0.35534668 0.28428357]\n",
      "\n",
      "RMSE Stats Description:\n",
      "[0.02093212 0.01513319]\n",
      "[0.01618362 0.01260661]\n",
      "[0.00159147 0.0011384 ]\n",
      "[0.11032509 0.09224775]\n",
      "\n",
      "MFCC 2D Padded Description:\n",
      "-12.524517809889405\n",
      "73.20957472876326\n",
      "-954.2120361328125\n",
      "214.23291015625\n",
      "\n",
      "Chroma 2D Padded Description:\n",
      "0.16101347998265975\n",
      "0.28782527405187874\n",
      "0.0\n",
      "1.0\n"
     ]
    }
   ],
   "source": [
    "print(\"Song features:\")\n",
    "print(\"ZCR Stats Description:\")\n",
    "print(np.mean(song_zcr_stats, axis=0))\n",
    "print(np.std(song_zcr_stats, axis=0))\n",
    "print(np.min(song_zcr_stats, axis=0))\n",
    "print(np.max(song_zcr_stats, axis=0))\n",
    "print(\"\\nRMSE Stats Description:\")\n",
    "print(np.mean(song_rmse_stats, axis=0))\n",
    "print(np.std(song_rmse_stats, axis=0))\n",
    "print(np.min(song_rmse_stats, axis=0))\n",
    "print(np.max(song_rmse_stats, axis=0))\n",
    "print(\"\\nMFCC 2D Padded Description:\")\n",
    "print(np.mean(song_mfcc_2d_padded))\n",
    "print(np.std(song_mfcc_2d_padded))\n",
    "print(np.min(song_mfcc_2d_padded))\n",
    "print(np.max(song_mfcc_2d_padded))\n",
    "print(\"\\nChroma 2D Padded Description:\")\n",
    "print(np.mean(song_chroma_2d_padded))\n",
    "print(np.std(song_chroma_2d_padded))\n",
    "print(np.min(song_chroma_2d_padded))\n",
    "print(np.max(song_chroma_2d_padded))"
   ]
  },
  {
   "cell_type": "code",
   "execution_count": 84,
   "metadata": {
    "execution": {
     "iopub.execute_input": "2025-10-17T21:49:29.453412Z",
     "iopub.status.busy": "2025-10-17T21:49:29.452816Z",
     "iopub.status.idle": "2025-10-17T21:49:29.457320Z",
     "shell.execute_reply": "2025-10-17T21:49:29.456462Z",
     "shell.execute_reply.started": "2025-10-17T21:49:29.453388Z"
    },
    "trusted": true
   },
   "outputs": [],
   "source": [
    "# # Initialize StandardScaler\n",
    "# scaler_1d_song = StandardScaler()\n",
    "# scaler_2d_song = StandardScaler()\n",
    "\n",
    "# # Reshape 2D song data for scaling (flatten the last two dimensions temporarily)\n",
    "# song_mfcc_2d_reshaped_for_scaling = song_mfcc_2d_padded.reshape(song_mfcc_2d_padded.shape[0], -1)\n",
    "# song_chroma_2d_reshaped_for_scaling = song_chroma_2d_padded.reshape(song_chroma_2d_padded.shape[0], -1)\n",
    "\n",
    "\n",
    "# # Fit and transform 1D song features\n",
    "# song_zcr_stats_scaled = scaler_1d_song.fit_transform(song_zcr_stats)\n",
    "# song_rmse_stats_scaled = scaler_1d_song.fit_transform(song_rmse_stats)\n",
    "\n",
    "# # Fit and transform 2D song features\n",
    "# song_mfcc_2d_scaled_reshaped = scaler_2d_song.fit_transform(song_mfcc_2d_reshaped_for_scaling)\n",
    "# song_chroma_2d_scaled_reshaped = scaler_2d_song.fit_transform(song_chroma_2d_reshaped_for_scaling)\n",
    "\n",
    "# # Reshape 2D scaled song data back to original 3D shape\n",
    "# song_mfcc_2d_scaled = song_mfcc_2d_scaled_reshaped.reshape(song_mfcc_2d_padded.shape)\n",
    "# song_chroma_2d_scaled = song_chroma_2d_scaled_reshaped.reshape(song_chroma_2d_padded.shape)\n",
    "\n",
    "# print(\"Shape of scaled song_zcr_stats:\", song_zcr_stats_scaled.shape)\n",
    "# print(\"Shape of scaled song_rmse_stats:\", song_rmse_stats_scaled.shape)\n",
    "# print(\"Shape of scaled song_mfcc_2d_padded:\", song_mfcc_2d_scaled.shape)\n",
    "# print(\"Shape of scaled song_chroma_2d_padded:\", song_chroma_2d_scaled.shape)"
   ]
  },
  {
   "cell_type": "code",
   "execution_count": 40,
   "metadata": {
    "execution": {
     "iopub.execute_input": "2025-10-17T21:04:42.045734Z",
     "iopub.status.busy": "2025-10-17T21:04:42.045400Z",
     "iopub.status.idle": "2025-10-17T21:04:42.695875Z",
     "shell.execute_reply": "2025-10-17T21:04:42.695125Z",
     "shell.execute_reply.started": "2025-10-17T21:04:42.045713Z"
    },
    "trusted": true
   },
   "outputs": [
    {
     "name": "stdout",
     "output_type": "stream",
     "text": [
      "Shape of scaled combined_1d_song_features: (5060, 4)\n",
      "Shape of scaled combined_2d_song_features: (5060, 216, 32)\n"
     ]
    }
   ],
   "source": [
    "from sklearn.preprocessing import StandardScaler\n",
    "\n",
    "# Initialize StandardScaler\n",
    "scaler_1d_song = StandardScaler()\n",
    "scaler_2d_song = StandardScaler()\n",
    "\n",
    "# Fit and transform 1D song features\n",
    "combined_1d_song_features = np.concatenate((song_zcr_stats, song_rmse_stats), axis=1)\n",
    "combined_1d_song_features_scaled = scaler_1d_song.fit_transform(combined_1d_song_features)\n",
    "\n",
    "\n",
    "# Reshape 2D song data for scaling (flatten the last two dimensions temporarily)\n",
    "song_mfcc_2d_reshaped_for_scaling = song_mfcc_2d_padded.reshape(song_mfcc_2d_padded.shape[0], -1)\n",
    "song_chroma_2d_reshaped_for_scaling = song_chroma_2d_padded.reshape(song_chroma_2d_padded.shape[0], -1)\n",
    "\n",
    "# Concatenate flattened 2D features before fitting and transforming with scaler_2d_song\n",
    "combined_2d_song_features_reshaped_for_scaling = np.concatenate((song_mfcc_2d_reshaped_for_scaling, song_chroma_2d_reshaped_for_scaling), axis=1)\n",
    "combined_2d_song_features_scaled_reshaped = scaler_2d_song.fit_transform(combined_2d_song_features_reshaped_for_scaling)\n",
    "\n",
    "# Reshape 2D scaled song data back to original 3D shape\n",
    "original_shape_2d_song = (song_mfcc_2d_padded.shape[0], song_mfcc_2d_padded.shape[1], song_mfcc_2d_padded.shape[2] + song_chroma_2d_padded.shape[2])\n",
    "combined_2d_song_features_scaled = combined_2d_song_features_scaled_reshaped.reshape(original_shape_2d_song)\n",
    "\n",
    "\n",
    "print(\"Shape of scaled combined_1d_song_features:\", combined_1d_song_features_scaled.shape)\n",
    "print(\"Shape of scaled combined_2d_song_features:\", combined_2d_song_features_scaled.shape)"
   ]
  },
  {
   "cell_type": "code",
   "execution_count": 41,
   "metadata": {
    "execution": {
     "iopub.execute_input": "2025-10-17T21:05:31.312336Z",
     "iopub.status.busy": "2025-10-17T21:05:31.311733Z",
     "iopub.status.idle": "2025-10-17T21:05:31.529983Z",
     "shell.execute_reply": "2025-10-17T21:05:31.529138Z",
     "shell.execute_reply.started": "2025-10-17T21:05:31.312314Z"
    },
    "trusted": true
   },
   "outputs": [
    {
     "name": "stdout",
     "output_type": "stream",
     "text": [
      "Scaled Song Features:\n",
      "ZCR-RMSE Stats Description:\n",
      "[-1.06122840e-15 -6.13516155e-17  1.11362391e-16 -1.10835803e-16]\n",
      "[1. 1. 1. 1.]\n",
      "[-2.48965062 -2.58638659 -1.19507578 -1.11011476]\n",
      "[4.35285685 3.44688798 5.52367218 6.11699518]\n",
      "\n",
      "MFCC-Chroma:\n",
      "5.200869095008785e-19\n",
      "0.9999999999999999\n",
      "-70.94058637929182\n",
      "71.1228700812255\n"
     ]
    }
   ],
   "source": [
    "print(\"Scaled Song Features:\")\n",
    "print(\"ZCR-RMSE Stats Description:\")\n",
    "print(np.mean(combined_1d_song_features_scaled, axis=0))\n",
    "print(np.std(combined_1d_song_features_scaled, axis=0))\n",
    "print(np.min(combined_1d_song_features_scaled, axis=0))\n",
    "print(np.max(combined_1d_song_features_scaled, axis=0))\n",
    "print(\"\\nMFCC-Chroma:\")\n",
    "print(np.mean(combined_2d_song_features_scaled))\n",
    "print(np.std(combined_2d_song_features_scaled))\n",
    "print(np.min(combined_2d_song_features_scaled))\n",
    "print(np.max(combined_2d_song_features_scaled))"
   ]
  },
  {
   "cell_type": "code",
   "execution_count": 42,
   "metadata": {
    "execution": {
     "iopub.execute_input": "2025-10-17T21:06:30.081679Z",
     "iopub.status.busy": "2025-10-17T21:06:30.081357Z",
     "iopub.status.idle": "2025-10-17T21:06:30.174853Z",
     "shell.execute_reply": "2025-10-17T21:06:30.173941Z",
     "shell.execute_reply.started": "2025-10-17T21:06:30.081657Z"
    },
    "trusted": true
   },
   "outputs": [
    {
     "name": "stdout",
     "output_type": "stream",
     "text": [
      "Shape of combined_1d_song_train: (4048, 4)\n",
      "Shape of combined_1d_song_test: (1012, 4)\n",
      "Shape of combined_2d_song_train_reshaped: (4048, 216, 32, 1)\n",
      "Shape of combined_2d_song_test_reshaped: (1012, 216, 32, 1)\n",
      "Shape of song_labels_train: (4048,)\n",
      "Shape of song_labels_test: (1012,)\n"
     ]
    }
   ],
   "source": [
    "(combined_1d_song_train, combined_1d_song_test,\n",
    " combined_2d_song_train, combined_2d_song_test,\n",
    " song_labels_train, song_labels_test) = train_test_split(combined_1d_song_features_scaled, # Use the combined and scaled 1D features\n",
    "                                                        combined_2d_song_features_scaled, # Use the combined and scaled 2D features\n",
    "                                                        song_labels,\n",
    "                                                        test_size=0.2,\n",
    "                                                        random_state=42,\n",
    "                                                        stratify=song_labels)\n",
    "\n",
    "# Reshape 2D data to include a channel dimension\n",
    "combined_2d_song_train_reshaped = np.expand_dims(combined_2d_song_train, axis=-1)\n",
    "combined_2d_song_test_reshaped = np.expand_dims(combined_2d_song_test, axis=-1)\n",
    "\n",
    "print(\"Shape of combined_1d_song_train:\", combined_1d_song_train.shape)\n",
    "print(\"Shape of combined_1d_song_test:\", combined_1d_song_test.shape)\n",
    "print(\"Shape of combined_2d_song_train_reshaped:\", combined_2d_song_train_reshaped.shape)\n",
    "print(\"Shape of combined_2d_song_test_reshaped:\", combined_2d_song_test_reshaped.shape)\n",
    "print(\"Shape of song_labels_train:\", song_labels_train.shape)\n",
    "print(\"Shape of song_labels_test:\", song_labels_test.shape)"
   ]
  },
  {
   "cell_type": "code",
   "execution_count": 46,
   "metadata": {
    "execution": {
     "iopub.execute_input": "2025-10-17T21:09:42.278375Z",
     "iopub.status.busy": "2025-10-17T21:09:42.278085Z",
     "iopub.status.idle": "2025-10-17T21:09:42.355800Z",
     "shell.execute_reply": "2025-10-17T21:09:42.354942Z",
     "shell.execute_reply.started": "2025-10-17T21:09:42.278352Z"
    },
    "trusted": true
   },
   "outputs": [],
   "source": [
    "# Define input shapes for song data\n",
    "input_shape_1d_song = (combined_1d_song_train.shape[1],)\n",
    "input_shape_2d_song = combined_2d_song_train_reshaped.shape[1:]\n",
    "\n",
    "# 1D CNN branch for song data\n",
    "input_1d_song = Input(shape=input_shape_1d_song, name='input_1d_song')\n",
    "x_song = Dense(64, activation='relu')(input_1d_song)\n",
    "x_song = Dropout(0.38)(x_song)\n",
    "x_song = Dense(32, activation='relu')(x_song)\n",
    "x_song = Dropout(0.38)(x_song)\n",
    "flat_1d_song = Flatten()(x_song)\n",
    "\n",
    "# 2D CNN branch for song data\n",
    "input_2d_song = Input(shape=input_shape_2d_song, name='input_2d_song')\n",
    "y_song = Conv2D(32, kernel_size=(3, 3), activation='relu')(input_2d_song)\n",
    "y_song = MaxPooling2D(pool_size=(2, 2))(y_song)\n",
    "y_song = Dropout(0.265)(y_song)\n",
    "y_song = Conv2D(64, kernel_size=(3, 3), activation='relu')(y_song)\n",
    "y_song = MaxPooling2D(pool_size=(2, 2))(y_song)\n",
    "y_song = Dropout(0.265)(y_song)\n",
    "flat_2d_song = Flatten()(y_song)\n",
    "\n",
    "# Concatenate branches for song data\n",
    "combined_song = concatenate([flat_1d_song, flat_2d_song])\n",
    "\n",
    "# Fully connected layers for song data\n",
    "z_song = Dense(128, activation='relu')(combined_song)\n",
    "z_song = Dropout(0.38)(z_song)\n",
    "z_song = Dense(64, activation='relu')(z_song)\n",
    "z_song = Dropout(0.38)(z_song)\n",
    "\n",
    "# Output layer for song data (using the number of unique song labels)\n",
    "output_layer_song = Dense(len(np.unique(song_labels)), activation='softmax')(z_song)\n",
    "\n",
    "# Create the model for song data\n",
    "song_model = Model(inputs=[input_1d_song, input_2d_song], outputs=output_layer_song)"
   ]
  },
  {
   "cell_type": "code",
   "execution_count": 47,
   "metadata": {
    "execution": {
     "iopub.execute_input": "2025-10-17T21:09:44.908375Z",
     "iopub.status.busy": "2025-10-17T21:09:44.908096Z",
     "iopub.status.idle": "2025-10-17T21:09:44.940860Z",
     "shell.execute_reply": "2025-10-17T21:09:44.940297Z",
     "shell.execute_reply.started": "2025-10-17T21:09:44.908354Z"
    },
    "trusted": true
   },
   "outputs": [
    {
     "data": {
      "text/html": [
       "<pre style=\"white-space:pre;overflow-x:auto;line-height:normal;font-family:Menlo,'DejaVu Sans Mono',consolas,'Courier New',monospace\"><span style=\"font-weight: bold\">Model: \"functional_7\"</span>\n",
       "</pre>\n"
      ],
      "text/plain": [
       "\u001b[1mModel: \"functional_7\"\u001b[0m\n"
      ]
     },
     "metadata": {},
     "output_type": "display_data"
    },
    {
     "data": {
      "text/html": [
       "<pre style=\"white-space:pre;overflow-x:auto;line-height:normal;font-family:Menlo,'DejaVu Sans Mono',consolas,'Courier New',monospace\">┏━━━━━━━━━━━━━━━━━━━━━┳━━━━━━━━━━━━━━━━━━━┳━━━━━━━━━━━━┳━━━━━━━━━━━━━━━━━━━┓\n",
       "┃<span style=\"font-weight: bold\"> Layer (type)        </span>┃<span style=\"font-weight: bold\"> Output Shape      </span>┃<span style=\"font-weight: bold\">    Param # </span>┃<span style=\"font-weight: bold\"> Connected to      </span>┃\n",
       "┡━━━━━━━━━━━━━━━━━━━━━╇━━━━━━━━━━━━━━━━━━━╇━━━━━━━━━━━━╇━━━━━━━━━━━━━━━━━━━┩\n",
       "│ input_2d_song       │ (<span style=\"color: #00d7ff; text-decoration-color: #00d7ff\">None</span>, <span style=\"color: #00af00; text-decoration-color: #00af00\">216</span>, <span style=\"color: #00af00; text-decoration-color: #00af00\">32</span>,   │          <span style=\"color: #00af00; text-decoration-color: #00af00\">0</span> │ -                 │\n",
       "│ (<span style=\"color: #0087ff; text-decoration-color: #0087ff\">InputLayer</span>)        │ <span style=\"color: #00af00; text-decoration-color: #00af00\">1</span>)                │            │                   │\n",
       "├─────────────────────┼───────────────────┼────────────┼───────────────────┤\n",
       "│ conv2d_14 (<span style=\"color: #0087ff; text-decoration-color: #0087ff\">Conv2D</span>)  │ (<span style=\"color: #00d7ff; text-decoration-color: #00d7ff\">None</span>, <span style=\"color: #00af00; text-decoration-color: #00af00\">214</span>, <span style=\"color: #00af00; text-decoration-color: #00af00\">30</span>,   │        <span style=\"color: #00af00; text-decoration-color: #00af00\">320</span> │ input_2d_song[<span style=\"color: #00af00; text-decoration-color: #00af00\">0</span>]… │\n",
       "│                     │ <span style=\"color: #00af00; text-decoration-color: #00af00\">32</span>)               │            │                   │\n",
       "├─────────────────────┼───────────────────┼────────────┼───────────────────┤\n",
       "│ input_1d_song       │ (<span style=\"color: #00d7ff; text-decoration-color: #00d7ff\">None</span>, <span style=\"color: #00af00; text-decoration-color: #00af00\">4</span>)         │          <span style=\"color: #00af00; text-decoration-color: #00af00\">0</span> │ -                 │\n",
       "│ (<span style=\"color: #0087ff; text-decoration-color: #0087ff\">InputLayer</span>)        │                   │            │                   │\n",
       "├─────────────────────┼───────────────────┼────────────┼───────────────────┤\n",
       "│ max_pooling2d_14    │ (<span style=\"color: #00d7ff; text-decoration-color: #00d7ff\">None</span>, <span style=\"color: #00af00; text-decoration-color: #00af00\">107</span>, <span style=\"color: #00af00; text-decoration-color: #00af00\">15</span>,   │          <span style=\"color: #00af00; text-decoration-color: #00af00\">0</span> │ conv2d_14[<span style=\"color: #00af00; text-decoration-color: #00af00\">0</span>][<span style=\"color: #00af00; text-decoration-color: #00af00\">0</span>]   │\n",
       "│ (<span style=\"color: #0087ff; text-decoration-color: #0087ff\">MaxPooling2D</span>)      │ <span style=\"color: #00af00; text-decoration-color: #00af00\">32</span>)               │            │                   │\n",
       "├─────────────────────┼───────────────────┼────────────┼───────────────────┤\n",
       "│ dense_35 (<span style=\"color: #0087ff; text-decoration-color: #0087ff\">Dense</span>)    │ (<span style=\"color: #00d7ff; text-decoration-color: #00d7ff\">None</span>, <span style=\"color: #00af00; text-decoration-color: #00af00\">64</span>)        │        <span style=\"color: #00af00; text-decoration-color: #00af00\">320</span> │ input_1d_song[<span style=\"color: #00af00; text-decoration-color: #00af00\">0</span>]… │\n",
       "├─────────────────────┼───────────────────┼────────────┼───────────────────┤\n",
       "│ dropout_44          │ (<span style=\"color: #00d7ff; text-decoration-color: #00d7ff\">None</span>, <span style=\"color: #00af00; text-decoration-color: #00af00\">107</span>, <span style=\"color: #00af00; text-decoration-color: #00af00\">15</span>,   │          <span style=\"color: #00af00; text-decoration-color: #00af00\">0</span> │ max_pooling2d_14… │\n",
       "│ (<span style=\"color: #0087ff; text-decoration-color: #0087ff\">Dropout</span>)           │ <span style=\"color: #00af00; text-decoration-color: #00af00\">32</span>)               │            │                   │\n",
       "├─────────────────────┼───────────────────┼────────────┼───────────────────┤\n",
       "│ dropout_42          │ (<span style=\"color: #00d7ff; text-decoration-color: #00d7ff\">None</span>, <span style=\"color: #00af00; text-decoration-color: #00af00\">64</span>)        │          <span style=\"color: #00af00; text-decoration-color: #00af00\">0</span> │ dense_35[<span style=\"color: #00af00; text-decoration-color: #00af00\">0</span>][<span style=\"color: #00af00; text-decoration-color: #00af00\">0</span>]    │\n",
       "│ (<span style=\"color: #0087ff; text-decoration-color: #0087ff\">Dropout</span>)           │                   │            │                   │\n",
       "├─────────────────────┼───────────────────┼────────────┼───────────────────┤\n",
       "│ conv2d_15 (<span style=\"color: #0087ff; text-decoration-color: #0087ff\">Conv2D</span>)  │ (<span style=\"color: #00d7ff; text-decoration-color: #00d7ff\">None</span>, <span style=\"color: #00af00; text-decoration-color: #00af00\">105</span>, <span style=\"color: #00af00; text-decoration-color: #00af00\">13</span>,   │     <span style=\"color: #00af00; text-decoration-color: #00af00\">18,496</span> │ dropout_44[<span style=\"color: #00af00; text-decoration-color: #00af00\">0</span>][<span style=\"color: #00af00; text-decoration-color: #00af00\">0</span>]  │\n",
       "│                     │ <span style=\"color: #00af00; text-decoration-color: #00af00\">64</span>)               │            │                   │\n",
       "├─────────────────────┼───────────────────┼────────────┼───────────────────┤\n",
       "│ dense_36 (<span style=\"color: #0087ff; text-decoration-color: #0087ff\">Dense</span>)    │ (<span style=\"color: #00d7ff; text-decoration-color: #00d7ff\">None</span>, <span style=\"color: #00af00; text-decoration-color: #00af00\">32</span>)        │      <span style=\"color: #00af00; text-decoration-color: #00af00\">2,080</span> │ dropout_42[<span style=\"color: #00af00; text-decoration-color: #00af00\">0</span>][<span style=\"color: #00af00; text-decoration-color: #00af00\">0</span>]  │\n",
       "├─────────────────────┼───────────────────┼────────────┼───────────────────┤\n",
       "│ max_pooling2d_15    │ (<span style=\"color: #00d7ff; text-decoration-color: #00d7ff\">None</span>, <span style=\"color: #00af00; text-decoration-color: #00af00\">52</span>, <span style=\"color: #00af00; text-decoration-color: #00af00\">6</span>, <span style=\"color: #00af00; text-decoration-color: #00af00\">64</span>) │          <span style=\"color: #00af00; text-decoration-color: #00af00\">0</span> │ conv2d_15[<span style=\"color: #00af00; text-decoration-color: #00af00\">0</span>][<span style=\"color: #00af00; text-decoration-color: #00af00\">0</span>]   │\n",
       "│ (<span style=\"color: #0087ff; text-decoration-color: #0087ff\">MaxPooling2D</span>)      │                   │            │                   │\n",
       "├─────────────────────┼───────────────────┼────────────┼───────────────────┤\n",
       "│ dropout_43          │ (<span style=\"color: #00d7ff; text-decoration-color: #00d7ff\">None</span>, <span style=\"color: #00af00; text-decoration-color: #00af00\">32</span>)        │          <span style=\"color: #00af00; text-decoration-color: #00af00\">0</span> │ dense_36[<span style=\"color: #00af00; text-decoration-color: #00af00\">0</span>][<span style=\"color: #00af00; text-decoration-color: #00af00\">0</span>]    │\n",
       "│ (<span style=\"color: #0087ff; text-decoration-color: #0087ff\">Dropout</span>)           │                   │            │                   │\n",
       "├─────────────────────┼───────────────────┼────────────┼───────────────────┤\n",
       "│ dropout_45          │ (<span style=\"color: #00d7ff; text-decoration-color: #00d7ff\">None</span>, <span style=\"color: #00af00; text-decoration-color: #00af00\">52</span>, <span style=\"color: #00af00; text-decoration-color: #00af00\">6</span>, <span style=\"color: #00af00; text-decoration-color: #00af00\">64</span>) │          <span style=\"color: #00af00; text-decoration-color: #00af00\">0</span> │ max_pooling2d_15… │\n",
       "│ (<span style=\"color: #0087ff; text-decoration-color: #0087ff\">Dropout</span>)           │                   │            │                   │\n",
       "├─────────────────────┼───────────────────┼────────────┼───────────────────┤\n",
       "│ flatten_14          │ (<span style=\"color: #00d7ff; text-decoration-color: #00d7ff\">None</span>, <span style=\"color: #00af00; text-decoration-color: #00af00\">32</span>)        │          <span style=\"color: #00af00; text-decoration-color: #00af00\">0</span> │ dropout_43[<span style=\"color: #00af00; text-decoration-color: #00af00\">0</span>][<span style=\"color: #00af00; text-decoration-color: #00af00\">0</span>]  │\n",
       "│ (<span style=\"color: #0087ff; text-decoration-color: #0087ff\">Flatten</span>)           │                   │            │                   │\n",
       "├─────────────────────┼───────────────────┼────────────┼───────────────────┤\n",
       "│ flatten_15          │ (<span style=\"color: #00d7ff; text-decoration-color: #00d7ff\">None</span>, <span style=\"color: #00af00; text-decoration-color: #00af00\">19968</span>)     │          <span style=\"color: #00af00; text-decoration-color: #00af00\">0</span> │ dropout_45[<span style=\"color: #00af00; text-decoration-color: #00af00\">0</span>][<span style=\"color: #00af00; text-decoration-color: #00af00\">0</span>]  │\n",
       "│ (<span style=\"color: #0087ff; text-decoration-color: #0087ff\">Flatten</span>)           │                   │            │                   │\n",
       "├─────────────────────┼───────────────────┼────────────┼───────────────────┤\n",
       "│ concatenate_7       │ (<span style=\"color: #00d7ff; text-decoration-color: #00d7ff\">None</span>, <span style=\"color: #00af00; text-decoration-color: #00af00\">20000</span>)     │          <span style=\"color: #00af00; text-decoration-color: #00af00\">0</span> │ flatten_14[<span style=\"color: #00af00; text-decoration-color: #00af00\">0</span>][<span style=\"color: #00af00; text-decoration-color: #00af00\">0</span>], │\n",
       "│ (<span style=\"color: #0087ff; text-decoration-color: #0087ff\">Concatenate</span>)       │                   │            │ flatten_15[<span style=\"color: #00af00; text-decoration-color: #00af00\">0</span>][<span style=\"color: #00af00; text-decoration-color: #00af00\">0</span>]  │\n",
       "├─────────────────────┼───────────────────┼────────────┼───────────────────┤\n",
       "│ dense_37 (<span style=\"color: #0087ff; text-decoration-color: #0087ff\">Dense</span>)    │ (<span style=\"color: #00d7ff; text-decoration-color: #00d7ff\">None</span>, <span style=\"color: #00af00; text-decoration-color: #00af00\">128</span>)       │  <span style=\"color: #00af00; text-decoration-color: #00af00\">2,560,128</span> │ concatenate_7[<span style=\"color: #00af00; text-decoration-color: #00af00\">0</span>]… │\n",
       "├─────────────────────┼───────────────────┼────────────┼───────────────────┤\n",
       "│ dropout_46          │ (<span style=\"color: #00d7ff; text-decoration-color: #00d7ff\">None</span>, <span style=\"color: #00af00; text-decoration-color: #00af00\">128</span>)       │          <span style=\"color: #00af00; text-decoration-color: #00af00\">0</span> │ dense_37[<span style=\"color: #00af00; text-decoration-color: #00af00\">0</span>][<span style=\"color: #00af00; text-decoration-color: #00af00\">0</span>]    │\n",
       "│ (<span style=\"color: #0087ff; text-decoration-color: #0087ff\">Dropout</span>)           │                   │            │                   │\n",
       "├─────────────────────┼───────────────────┼────────────┼───────────────────┤\n",
       "│ dense_38 (<span style=\"color: #0087ff; text-decoration-color: #0087ff\">Dense</span>)    │ (<span style=\"color: #00d7ff; text-decoration-color: #00d7ff\">None</span>, <span style=\"color: #00af00; text-decoration-color: #00af00\">64</span>)        │      <span style=\"color: #00af00; text-decoration-color: #00af00\">8,256</span> │ dropout_46[<span style=\"color: #00af00; text-decoration-color: #00af00\">0</span>][<span style=\"color: #00af00; text-decoration-color: #00af00\">0</span>]  │\n",
       "├─────────────────────┼───────────────────┼────────────┼───────────────────┤\n",
       "│ dropout_47          │ (<span style=\"color: #00d7ff; text-decoration-color: #00d7ff\">None</span>, <span style=\"color: #00af00; text-decoration-color: #00af00\">64</span>)        │          <span style=\"color: #00af00; text-decoration-color: #00af00\">0</span> │ dense_38[<span style=\"color: #00af00; text-decoration-color: #00af00\">0</span>][<span style=\"color: #00af00; text-decoration-color: #00af00\">0</span>]    │\n",
       "│ (<span style=\"color: #0087ff; text-decoration-color: #0087ff\">Dropout</span>)           │                   │            │                   │\n",
       "├─────────────────────┼───────────────────┼────────────┼───────────────────┤\n",
       "│ dense_39 (<span style=\"color: #0087ff; text-decoration-color: #0087ff\">Dense</span>)    │ (<span style=\"color: #00d7ff; text-decoration-color: #00d7ff\">None</span>, <span style=\"color: #00af00; text-decoration-color: #00af00\">5</span>)         │        <span style=\"color: #00af00; text-decoration-color: #00af00\">325</span> │ dropout_47[<span style=\"color: #00af00; text-decoration-color: #00af00\">0</span>][<span style=\"color: #00af00; text-decoration-color: #00af00\">0</span>]  │\n",
       "└─────────────────────┴───────────────────┴────────────┴───────────────────┘\n",
       "</pre>\n"
      ],
      "text/plain": [
       "┏━━━━━━━━━━━━━━━━━━━━━┳━━━━━━━━━━━━━━━━━━━┳━━━━━━━━━━━━┳━━━━━━━━━━━━━━━━━━━┓\n",
       "┃\u001b[1m \u001b[0m\u001b[1mLayer (type)       \u001b[0m\u001b[1m \u001b[0m┃\u001b[1m \u001b[0m\u001b[1mOutput Shape     \u001b[0m\u001b[1m \u001b[0m┃\u001b[1m \u001b[0m\u001b[1m   Param #\u001b[0m\u001b[1m \u001b[0m┃\u001b[1m \u001b[0m\u001b[1mConnected to     \u001b[0m\u001b[1m \u001b[0m┃\n",
       "┡━━━━━━━━━━━━━━━━━━━━━╇━━━━━━━━━━━━━━━━━━━╇━━━━━━━━━━━━╇━━━━━━━━━━━━━━━━━━━┩\n",
       "│ input_2d_song       │ (\u001b[38;5;45mNone\u001b[0m, \u001b[38;5;34m216\u001b[0m, \u001b[38;5;34m32\u001b[0m,   │          \u001b[38;5;34m0\u001b[0m │ -                 │\n",
       "│ (\u001b[38;5;33mInputLayer\u001b[0m)        │ \u001b[38;5;34m1\u001b[0m)                │            │                   │\n",
       "├─────────────────────┼───────────────────┼────────────┼───────────────────┤\n",
       "│ conv2d_14 (\u001b[38;5;33mConv2D\u001b[0m)  │ (\u001b[38;5;45mNone\u001b[0m, \u001b[38;5;34m214\u001b[0m, \u001b[38;5;34m30\u001b[0m,   │        \u001b[38;5;34m320\u001b[0m │ input_2d_song[\u001b[38;5;34m0\u001b[0m]… │\n",
       "│                     │ \u001b[38;5;34m32\u001b[0m)               │            │                   │\n",
       "├─────────────────────┼───────────────────┼────────────┼───────────────────┤\n",
       "│ input_1d_song       │ (\u001b[38;5;45mNone\u001b[0m, \u001b[38;5;34m4\u001b[0m)         │          \u001b[38;5;34m0\u001b[0m │ -                 │\n",
       "│ (\u001b[38;5;33mInputLayer\u001b[0m)        │                   │            │                   │\n",
       "├─────────────────────┼───────────────────┼────────────┼───────────────────┤\n",
       "│ max_pooling2d_14    │ (\u001b[38;5;45mNone\u001b[0m, \u001b[38;5;34m107\u001b[0m, \u001b[38;5;34m15\u001b[0m,   │          \u001b[38;5;34m0\u001b[0m │ conv2d_14[\u001b[38;5;34m0\u001b[0m][\u001b[38;5;34m0\u001b[0m]   │\n",
       "│ (\u001b[38;5;33mMaxPooling2D\u001b[0m)      │ \u001b[38;5;34m32\u001b[0m)               │            │                   │\n",
       "├─────────────────────┼───────────────────┼────────────┼───────────────────┤\n",
       "│ dense_35 (\u001b[38;5;33mDense\u001b[0m)    │ (\u001b[38;5;45mNone\u001b[0m, \u001b[38;5;34m64\u001b[0m)        │        \u001b[38;5;34m320\u001b[0m │ input_1d_song[\u001b[38;5;34m0\u001b[0m]… │\n",
       "├─────────────────────┼───────────────────┼────────────┼───────────────────┤\n",
       "│ dropout_44          │ (\u001b[38;5;45mNone\u001b[0m, \u001b[38;5;34m107\u001b[0m, \u001b[38;5;34m15\u001b[0m,   │          \u001b[38;5;34m0\u001b[0m │ max_pooling2d_14… │\n",
       "│ (\u001b[38;5;33mDropout\u001b[0m)           │ \u001b[38;5;34m32\u001b[0m)               │            │                   │\n",
       "├─────────────────────┼───────────────────┼────────────┼───────────────────┤\n",
       "│ dropout_42          │ (\u001b[38;5;45mNone\u001b[0m, \u001b[38;5;34m64\u001b[0m)        │          \u001b[38;5;34m0\u001b[0m │ dense_35[\u001b[38;5;34m0\u001b[0m][\u001b[38;5;34m0\u001b[0m]    │\n",
       "│ (\u001b[38;5;33mDropout\u001b[0m)           │                   │            │                   │\n",
       "├─────────────────────┼───────────────────┼────────────┼───────────────────┤\n",
       "│ conv2d_15 (\u001b[38;5;33mConv2D\u001b[0m)  │ (\u001b[38;5;45mNone\u001b[0m, \u001b[38;5;34m105\u001b[0m, \u001b[38;5;34m13\u001b[0m,   │     \u001b[38;5;34m18,496\u001b[0m │ dropout_44[\u001b[38;5;34m0\u001b[0m][\u001b[38;5;34m0\u001b[0m]  │\n",
       "│                     │ \u001b[38;5;34m64\u001b[0m)               │            │                   │\n",
       "├─────────────────────┼───────────────────┼────────────┼───────────────────┤\n",
       "│ dense_36 (\u001b[38;5;33mDense\u001b[0m)    │ (\u001b[38;5;45mNone\u001b[0m, \u001b[38;5;34m32\u001b[0m)        │      \u001b[38;5;34m2,080\u001b[0m │ dropout_42[\u001b[38;5;34m0\u001b[0m][\u001b[38;5;34m0\u001b[0m]  │\n",
       "├─────────────────────┼───────────────────┼────────────┼───────────────────┤\n",
       "│ max_pooling2d_15    │ (\u001b[38;5;45mNone\u001b[0m, \u001b[38;5;34m52\u001b[0m, \u001b[38;5;34m6\u001b[0m, \u001b[38;5;34m64\u001b[0m) │          \u001b[38;5;34m0\u001b[0m │ conv2d_15[\u001b[38;5;34m0\u001b[0m][\u001b[38;5;34m0\u001b[0m]   │\n",
       "│ (\u001b[38;5;33mMaxPooling2D\u001b[0m)      │                   │            │                   │\n",
       "├─────────────────────┼───────────────────┼────────────┼───────────────────┤\n",
       "│ dropout_43          │ (\u001b[38;5;45mNone\u001b[0m, \u001b[38;5;34m32\u001b[0m)        │          \u001b[38;5;34m0\u001b[0m │ dense_36[\u001b[38;5;34m0\u001b[0m][\u001b[38;5;34m0\u001b[0m]    │\n",
       "│ (\u001b[38;5;33mDropout\u001b[0m)           │                   │            │                   │\n",
       "├─────────────────────┼───────────────────┼────────────┼───────────────────┤\n",
       "│ dropout_45          │ (\u001b[38;5;45mNone\u001b[0m, \u001b[38;5;34m52\u001b[0m, \u001b[38;5;34m6\u001b[0m, \u001b[38;5;34m64\u001b[0m) │          \u001b[38;5;34m0\u001b[0m │ max_pooling2d_15… │\n",
       "│ (\u001b[38;5;33mDropout\u001b[0m)           │                   │            │                   │\n",
       "├─────────────────────┼───────────────────┼────────────┼───────────────────┤\n",
       "│ flatten_14          │ (\u001b[38;5;45mNone\u001b[0m, \u001b[38;5;34m32\u001b[0m)        │          \u001b[38;5;34m0\u001b[0m │ dropout_43[\u001b[38;5;34m0\u001b[0m][\u001b[38;5;34m0\u001b[0m]  │\n",
       "│ (\u001b[38;5;33mFlatten\u001b[0m)           │                   │            │                   │\n",
       "├─────────────────────┼───────────────────┼────────────┼───────────────────┤\n",
       "│ flatten_15          │ (\u001b[38;5;45mNone\u001b[0m, \u001b[38;5;34m19968\u001b[0m)     │          \u001b[38;5;34m0\u001b[0m │ dropout_45[\u001b[38;5;34m0\u001b[0m][\u001b[38;5;34m0\u001b[0m]  │\n",
       "│ (\u001b[38;5;33mFlatten\u001b[0m)           │                   │            │                   │\n",
       "├─────────────────────┼───────────────────┼────────────┼───────────────────┤\n",
       "│ concatenate_7       │ (\u001b[38;5;45mNone\u001b[0m, \u001b[38;5;34m20000\u001b[0m)     │          \u001b[38;5;34m0\u001b[0m │ flatten_14[\u001b[38;5;34m0\u001b[0m][\u001b[38;5;34m0\u001b[0m], │\n",
       "│ (\u001b[38;5;33mConcatenate\u001b[0m)       │                   │            │ flatten_15[\u001b[38;5;34m0\u001b[0m][\u001b[38;5;34m0\u001b[0m]  │\n",
       "├─────────────────────┼───────────────────┼────────────┼───────────────────┤\n",
       "│ dense_37 (\u001b[38;5;33mDense\u001b[0m)    │ (\u001b[38;5;45mNone\u001b[0m, \u001b[38;5;34m128\u001b[0m)       │  \u001b[38;5;34m2,560,128\u001b[0m │ concatenate_7[\u001b[38;5;34m0\u001b[0m]… │\n",
       "├─────────────────────┼───────────────────┼────────────┼───────────────────┤\n",
       "│ dropout_46          │ (\u001b[38;5;45mNone\u001b[0m, \u001b[38;5;34m128\u001b[0m)       │          \u001b[38;5;34m0\u001b[0m │ dense_37[\u001b[38;5;34m0\u001b[0m][\u001b[38;5;34m0\u001b[0m]    │\n",
       "│ (\u001b[38;5;33mDropout\u001b[0m)           │                   │            │                   │\n",
       "├─────────────────────┼───────────────────┼────────────┼───────────────────┤\n",
       "│ dense_38 (\u001b[38;5;33mDense\u001b[0m)    │ (\u001b[38;5;45mNone\u001b[0m, \u001b[38;5;34m64\u001b[0m)        │      \u001b[38;5;34m8,256\u001b[0m │ dropout_46[\u001b[38;5;34m0\u001b[0m][\u001b[38;5;34m0\u001b[0m]  │\n",
       "├─────────────────────┼───────────────────┼────────────┼───────────────────┤\n",
       "│ dropout_47          │ (\u001b[38;5;45mNone\u001b[0m, \u001b[38;5;34m64\u001b[0m)        │          \u001b[38;5;34m0\u001b[0m │ dense_38[\u001b[38;5;34m0\u001b[0m][\u001b[38;5;34m0\u001b[0m]    │\n",
       "│ (\u001b[38;5;33mDropout\u001b[0m)           │                   │            │                   │\n",
       "├─────────────────────┼───────────────────┼────────────┼───────────────────┤\n",
       "│ dense_39 (\u001b[38;5;33mDense\u001b[0m)    │ (\u001b[38;5;45mNone\u001b[0m, \u001b[38;5;34m5\u001b[0m)         │        \u001b[38;5;34m325\u001b[0m │ dropout_47[\u001b[38;5;34m0\u001b[0m][\u001b[38;5;34m0\u001b[0m]  │\n",
       "└─────────────────────┴───────────────────┴────────────┴───────────────────┘\n"
      ]
     },
     "metadata": {},
     "output_type": "display_data"
    },
    {
     "data": {
      "text/html": [
       "<pre style=\"white-space:pre;overflow-x:auto;line-height:normal;font-family:Menlo,'DejaVu Sans Mono',consolas,'Courier New',monospace\"><span style=\"font-weight: bold\"> Total params: </span><span style=\"color: #00af00; text-decoration-color: #00af00\">2,589,925</span> (9.88 MB)\n",
       "</pre>\n"
      ],
      "text/plain": [
       "\u001b[1m Total params: \u001b[0m\u001b[38;5;34m2,589,925\u001b[0m (9.88 MB)\n"
      ]
     },
     "metadata": {},
     "output_type": "display_data"
    },
    {
     "data": {
      "text/html": [
       "<pre style=\"white-space:pre;overflow-x:auto;line-height:normal;font-family:Menlo,'DejaVu Sans Mono',consolas,'Courier New',monospace\"><span style=\"font-weight: bold\"> Trainable params: </span><span style=\"color: #00af00; text-decoration-color: #00af00\">2,589,925</span> (9.88 MB)\n",
       "</pre>\n"
      ],
      "text/plain": [
       "\u001b[1m Trainable params: \u001b[0m\u001b[38;5;34m2,589,925\u001b[0m (9.88 MB)\n"
      ]
     },
     "metadata": {},
     "output_type": "display_data"
    },
    {
     "data": {
      "text/html": [
       "<pre style=\"white-space:pre;overflow-x:auto;line-height:normal;font-family:Menlo,'DejaVu Sans Mono',consolas,'Courier New',monospace\"><span style=\"font-weight: bold\"> Non-trainable params: </span><span style=\"color: #00af00; text-decoration-color: #00af00\">0</span> (0.00 B)\n",
       "</pre>\n"
      ],
      "text/plain": [
       "\u001b[1m Non-trainable params: \u001b[0m\u001b[38;5;34m0\u001b[0m (0.00 B)\n"
      ]
     },
     "metadata": {},
     "output_type": "display_data"
    }
   ],
   "source": [
    "# Compile the song model\n",
    "song_model.compile(optimizer=Adam(),\n",
    "                   loss=SparseCategoricalCrossentropy(),\n",
    "                   metrics=['accuracy'])\n",
    "\n",
    "song_model.summary()"
   ]
  },
  {
   "cell_type": "code",
   "execution_count": 48,
   "metadata": {
    "execution": {
     "iopub.execute_input": "2025-10-17T21:09:52.915025Z",
     "iopub.status.busy": "2025-10-17T21:09:52.914751Z",
     "iopub.status.idle": "2025-10-17T21:10:57.500164Z",
     "shell.execute_reply": "2025-10-17T21:10:57.499591Z",
     "shell.execute_reply.started": "2025-10-17T21:09:52.915005Z"
    },
    "scrolled": true,
    "trusted": true
   },
   "outputs": [
    {
     "name": "stdout",
     "output_type": "stream",
     "text": [
      "Epoch 1/25\n",
      "\u001b[1m127/127\u001b[0m \u001b[32m━━━━━━━━━━━━━━━━━━━━\u001b[0m\u001b[37m\u001b[0m \u001b[1m1s\u001b[0m 5ms/step    accuracy: 0.2830\n",
      "\u001b[1m32/32\u001b[0m \u001b[32m━━━━━━━━━━━━━━━━━━━━\u001b[0m\u001b[37m\u001b[0m \u001b[1m0s\u001b[0m 8ms/step\n",
      "Epoch 1: Train F1 = 0.2676, Val F1 = 0.2822\n",
      "\u001b[1m127/127\u001b[0m \u001b[32m━━━━━━━━━━━━━━━━━━━━\u001b[0m\u001b[37m\u001b[0m \u001b[1m15s\u001b[0m 60ms/step - accuracy: 0.2833 - loss: 1.7012 - val_accuracy: 0.4377 - val_loss: 1.3426 - f1_score: 0.2676 - val_f1_score: 0.2822\n",
      "Epoch 2/25\n",
      "\u001b[1m127/127\u001b[0m \u001b[32m━━━━━━━━━━━━━━━━━━━━\u001b[0m\u001b[37m\u001b[0m \u001b[1m0s\u001b[0m 2ms/step - accuracy: 0.4080 - l\n",
      "\u001b[1m32/32\u001b[0m \u001b[32m━━━━━━━━━━━━━━━━━━━━\u001b[0m\u001b[37m\u001b[0m \u001b[1m0s\u001b[0m 3ms/step\n",
      "Epoch 2: Train F1 = 0.3527, Val F1 = 0.3354\n",
      "\u001b[1m127/127\u001b[0m \u001b[32m━━━━━━━━━━━━━━━━━━━━\u001b[0m\u001b[37m\u001b[0m \u001b[1m2s\u001b[0m 17ms/step - accuracy: 0.4080 - loss: 1.3530 - val_accuracy: 0.4575 - val_loss: 1.2261 - f1_score: 0.3527 - val_f1_score: 0.3354\n",
      "Epoch 3/25\n",
      "\u001b[1m127/127\u001b[0m \u001b[32m━━━━━━━━━━━━━━━━━━━━\u001b[0m\u001b[37m\u001b[0m \u001b[1m0s\u001b[0m 2ms/step - accuracy: 0.4322 - l\n",
      "\u001b[1m32/32\u001b[0m \u001b[32m━━━━━━━━━━━━━━━━━━━━\u001b[0m\u001b[37m\u001b[0m \u001b[1m0s\u001b[0m 3ms/step\n",
      "Epoch 3: Train F1 = 0.4200, Val F1 = 0.4076\n",
      "\u001b[1m127/127\u001b[0m \u001b[32m━━━━━━━━━━━━━━━━━━━━\u001b[0m\u001b[37m\u001b[0m \u001b[1m2s\u001b[0m 16ms/step - accuracy: 0.4328 - loss: 1.2885 - val_accuracy: 0.5049 - val_loss: 1.1369 - f1_score: 0.4200 - val_f1_score: 0.4076\n",
      "Epoch 4/25\n",
      "\u001b[1m127/127\u001b[0m \u001b[32m━━━━━━━━━━━━━━━━━━━━\u001b[0m\u001b[37m\u001b[0m \u001b[1m0s\u001b[0m 2ms/step - accuracy: 0.4748 - l\n",
      "\u001b[1m32/32\u001b[0m \u001b[32m━━━━━━━━━━━━━━━━━━━━\u001b[0m\u001b[37m\u001b[0m \u001b[1m0s\u001b[0m 3ms/step\n",
      "Epoch 4: Train F1 = 0.4977, Val F1 = 0.4708\n",
      "\u001b[1m127/127\u001b[0m \u001b[32m━━━━━━━━━━━━━━━━━━━━\u001b[0m\u001b[37m\u001b[0m \u001b[1m2s\u001b[0m 16ms/step - accuracy: 0.4753 - loss: 1.2081 - val_accuracy: 0.5385 - val_loss: 1.1075 - f1_score: 0.4977 - val_f1_score: 0.4708\n",
      "Epoch 5/25\n",
      "\u001b[1m127/127\u001b[0m \u001b[32m━━━━━━━━━━━━━━━━━━━━\u001b[0m\u001b[37m\u001b[0m \u001b[1m0s\u001b[0m 2ms/step - accuracy: 0.5228 - l\n",
      "\u001b[1m32/32\u001b[0m \u001b[32m━━━━━━━━━━━━━━━━━━━━\u001b[0m\u001b[37m\u001b[0m \u001b[1m0s\u001b[0m 3ms/step\n",
      "Epoch 5: Train F1 = 0.6244, Val F1 = 0.5756\n",
      "\u001b[1m127/127\u001b[0m \u001b[32m━━━━━━━━━━━━━━━━━━━━\u001b[0m\u001b[37m\u001b[0m \u001b[1m2s\u001b[0m 16ms/step - accuracy: 0.5235 - loss: 1.1325 - val_accuracy: 0.6047 - val_loss: 0.9816 - f1_score: 0.6244 - val_f1_score: 0.5756\n",
      "Epoch 6/25\n",
      "\u001b[1m127/127\u001b[0m \u001b[32m━━━━━━━━━━━━━━━━━━━━\u001b[0m\u001b[37m\u001b[0m \u001b[1m0s\u001b[0m 2ms/step - accuracy: 0.5684 - l\n",
      "\u001b[1m32/32\u001b[0m \u001b[32m━━━━━━━━━━━━━━━━━━━━\u001b[0m\u001b[37m\u001b[0m \u001b[1m0s\u001b[0m 3ms/step\n",
      "Epoch 6: Train F1 = 0.7246, Val F1 = 0.6695\n",
      "\u001b[1m127/127\u001b[0m \u001b[32m━━━━━━━━━━━━━━━━━━━━\u001b[0m\u001b[37m\u001b[0m \u001b[1m2s\u001b[0m 16ms/step - accuracy: 0.5700 - loss: 1.0318 - val_accuracy: 0.6858 - val_loss: 0.8177 - f1_score: 0.7246 - val_f1_score: 0.6695\n",
      "Epoch 7/25\n",
      "\u001b[1m127/127\u001b[0m \u001b[32m━━━━━━━━━━━━━━━━━━━━\u001b[0m\u001b[37m\u001b[0m \u001b[1m0s\u001b[0m 3ms/step - accuracy: 0.6588 - l\n",
      "\u001b[1m32/32\u001b[0m \u001b[32m━━━━━━━━━━━━━━━━━━━━\u001b[0m\u001b[37m\u001b[0m \u001b[1m0s\u001b[0m 3ms/step\n",
      "Epoch 7: Train F1 = 0.7514, Val F1 = 0.6956\n",
      "\u001b[1m127/127\u001b[0m \u001b[32m━━━━━━━━━━━━━━━━━━━━\u001b[0m\u001b[37m\u001b[0m \u001b[1m2s\u001b[0m 16ms/step - accuracy: 0.6589 - loss: 0.8634 - val_accuracy: 0.7164 - val_loss: 0.7559 - f1_score: 0.7514 - val_f1_score: 0.6956\n",
      "Epoch 8/25\n",
      "\u001b[1m127/127\u001b[0m \u001b[32m━━━━━━━━━━━━━━━━━━━━\u001b[0m\u001b[37m\u001b[0m \u001b[1m0s\u001b[0m 3ms/step - accuracy: 0.6998 -\n",
      "\u001b[1m32/32\u001b[0m \u001b[32m━━━━━━━━━━━━━━━━━━━━\u001b[0m\u001b[37m\u001b[0m \u001b[1m0s\u001b[0m 3ms/step\n",
      "Epoch 8: Train F1 = 0.8087, Val F1 = 0.7579\n",
      "\u001b[1m127/127\u001b[0m \u001b[32m━━━━━━━━━━━━━━━━━━━━\u001b[0m\u001b[37m\u001b[0m \u001b[1m2s\u001b[0m 17ms/step - accuracy: 0.6996 - loss: 0.7812 - val_accuracy: 0.7698 - val_loss: 0.6667 - f1_score: 0.8087 - val_f1_score: 0.7579\n",
      "Epoch 9/25\n",
      "\u001b[1m127/127\u001b[0m \u001b[32m━━━━━━━━━━━━━━━━━━━━\u001b[0m\u001b[37m\u001b[0m \u001b[1m0s\u001b[0m 2ms/step - accuracy: 0.7106 - l\n",
      "\u001b[1m32/32\u001b[0m \u001b[32m━━━━━━━━━━━━━━━━━━━━\u001b[0m\u001b[37m\u001b[0m \u001b[1m0s\u001b[0m 3ms/step\n",
      "Epoch 9: Train F1 = 0.8317, Val F1 = 0.7389\n",
      "\u001b[1m127/127\u001b[0m \u001b[32m━━━━━━━━━━━━━━━━━━━━\u001b[0m\u001b[37m\u001b[0m \u001b[1m2s\u001b[0m 16ms/step - accuracy: 0.7118 - loss: 0.7354 - val_accuracy: 0.7530 - val_loss: 0.6721 - f1_score: 0.8317 - val_f1_score: 0.7389\n",
      "Epoch 10/25\n",
      "\u001b[1m127/127\u001b[0m \u001b[32m━━━━━━━━━━━━━━━━━━━━\u001b[0m\u001b[37m\u001b[0m \u001b[1m0s\u001b[0m 3ms/step - accuracy: 0.7383 -\n",
      "\u001b[1m32/32\u001b[0m \u001b[32m━━━━━━━━━━━━━━━━━━━━\u001b[0m\u001b[37m\u001b[0m \u001b[1m0s\u001b[0m 3ms/step\n",
      "Epoch 10: Train F1 = 0.8796, Val F1 = 0.7939\n",
      "\u001b[1m127/127\u001b[0m \u001b[32m━━━━━━━━━━━━━━━━━━━━\u001b[0m\u001b[37m\u001b[0m \u001b[1m2s\u001b[0m 16ms/step - accuracy: 0.7385 - loss: 0.6870 - val_accuracy: 0.8014 - val_loss: 0.5755 - f1_score: 0.8796 - val_f1_score: 0.7939\n",
      "Epoch 11/25\n",
      "\u001b[1m127/127\u001b[0m \u001b[32m━━━━━━━━━━━━━━━━━━━━\u001b[0m\u001b[37m\u001b[0m \u001b[1m0s\u001b[0m 2ms/step - accuracy: 0.7765 - l\n",
      "\u001b[1m32/32\u001b[0m \u001b[32m━━━━━━━━━━━━━━━━━━━━\u001b[0m\u001b[37m\u001b[0m \u001b[1m0s\u001b[0m 3ms/step\n",
      "Epoch 11: Train F1 = 0.9042, Val F1 = 0.7973\n",
      "\u001b[1m127/127\u001b[0m \u001b[32m━━━━━━━━━━━━━━━━━━━━\u001b[0m\u001b[37m\u001b[0m \u001b[1m2s\u001b[0m 16ms/step - accuracy: 0.7765 - loss: 0.5920 - val_accuracy: 0.8034 - val_loss: 0.5433 - f1_score: 0.9042 - val_f1_score: 0.7973\n",
      "Epoch 12/25\n",
      "\u001b[1m127/127\u001b[0m \u001b[32m━━━━━━━━━━━━━━━━━━━━\u001b[0m\u001b[37m\u001b[0m \u001b[1m0s\u001b[0m 2ms/step - accuracy: 0.7995 - l\n",
      "\u001b[1m32/32\u001b[0m \u001b[32m━━━━━━━━━━━━━━━━━━━━\u001b[0m\u001b[37m\u001b[0m \u001b[1m0s\u001b[0m 3ms/step\n",
      "Epoch 12: Train F1 = 0.9182, Val F1 = 0.7950\n",
      "\u001b[1m127/127\u001b[0m \u001b[32m━━━━━━━━━━━━━━━━━━━━\u001b[0m\u001b[37m\u001b[0m \u001b[1m2s\u001b[0m 16ms/step - accuracy: 0.7993 - loss: 0.5456 - val_accuracy: 0.8034 - val_loss: 0.5456 - f1_score: 0.9182 - val_f1_score: 0.7950\n",
      "Epoch 13/25\n",
      "\u001b[1m127/127\u001b[0m \u001b[32m━━━━━━━━━━━━━━━━━━━━\u001b[0m\u001b[37m\u001b[0m \u001b[1m0s\u001b[0m 2ms/step - accuracy: 0.8126 - l\n",
      "\u001b[1m32/32\u001b[0m \u001b[32m━━━━━━━━━━━━━━━━━━━━\u001b[0m\u001b[37m\u001b[0m \u001b[1m0s\u001b[0m 3ms/step\n",
      "Epoch 13: Train F1 = 0.9416, Val F1 = 0.8128\n",
      "\u001b[1m127/127\u001b[0m \u001b[32m━━━━━━━━━━━━━━━━━━━━\u001b[0m\u001b[37m\u001b[0m \u001b[1m2s\u001b[0m 16ms/step - accuracy: 0.8131 - loss: 0.5075 - val_accuracy: 0.8182 - val_loss: 0.5096 - f1_score: 0.9416 - val_f1_score: 0.8128\n",
      "Epoch 14/25\n",
      "\u001b[1m127/127\u001b[0m \u001b[32m━━━━━━━━━━━━━━━━━━━━\u001b[0m\u001b[37m\u001b[0m \u001b[1m0s\u001b[0m 2ms/step - accuracy: 0.8478 - l\n",
      "\u001b[1m32/32\u001b[0m \u001b[32m━━━━━━━━━━━━━━━━━━━━\u001b[0m\u001b[37m\u001b[0m \u001b[1m0s\u001b[0m 3ms/step\n",
      "Epoch 14: Train F1 = 0.9520, Val F1 = 0.8118\n",
      "\u001b[1m127/127\u001b[0m \u001b[32m━━━━━━━━━━━━━━━━━━━━\u001b[0m\u001b[37m\u001b[0m \u001b[1m2s\u001b[0m 16ms/step - accuracy: 0.8472 - loss: 0.4128 - val_accuracy: 0.8182 - val_loss: 0.5051 - f1_score: 0.9520 - val_f1_score: 0.8118\n",
      "Epoch 15/25\n",
      "\u001b[1m127/127\u001b[0m \u001b[32m━━━━━━━━━━━━━━━━━━━━\u001b[0m\u001b[37m\u001b[0m \u001b[1m0s\u001b[0m 2ms/step - accuracy: 0.8420 - l\n",
      "\u001b[1m32/32\u001b[0m \u001b[32m━━━━━━━━━━━━━━━━━━━━\u001b[0m\u001b[37m\u001b[0m \u001b[1m0s\u001b[0m 3ms/step\n",
      "Epoch 15: Train F1 = 0.9577, Val F1 = 0.8137\n",
      "\u001b[1m127/127\u001b[0m \u001b[32m━━━━━━━━━━━━━━━━━━━━\u001b[0m\u001b[37m\u001b[0m \u001b[1m2s\u001b[0m 16ms/step - accuracy: 0.8421 - loss: 0.4058 - val_accuracy: 0.8211 - val_loss: 0.5066 - f1_score: 0.9577 - val_f1_score: 0.8137\n",
      "Epoch 16/25\n",
      "\u001b[1m127/127\u001b[0m \u001b[32m━━━━━━━━━━━━━━━━━━━━\u001b[0m\u001b[37m\u001b[0m \u001b[1m0s\u001b[0m 2ms/step - accuracy: 0.8715 - l\n",
      "\u001b[1m32/32\u001b[0m \u001b[32m━━━━━━━━━━━━━━━━━━━━\u001b[0m\u001b[37m\u001b[0m \u001b[1m0s\u001b[0m 3ms/step\n",
      "Epoch 16: Train F1 = 0.9667, Val F1 = 0.8105\n",
      "\u001b[1m127/127\u001b[0m \u001b[32m━━━━━━━━━━━━━━━━━━━━\u001b[0m\u001b[37m\u001b[0m \u001b[1m2s\u001b[0m 16ms/step - accuracy: 0.8713 - loss: 0.3443 - val_accuracy: 0.8182 - val_loss: 0.4800 - f1_score: 0.9667 - val_f1_score: 0.8105\n",
      "Epoch 17/25\n",
      "\u001b[1m127/127\u001b[0m \u001b[32m━━━━━━━━━━━━━━━━━━━━\u001b[0m\u001b[37m\u001b[0m \u001b[1m0s\u001b[0m 2ms/step - accuracy: 0.8650 - l\n",
      "\u001b[1m32/32\u001b[0m \u001b[32m━━━━━━━━━━━━━━━━━━━━\u001b[0m\u001b[37m\u001b[0m \u001b[1m0s\u001b[0m 3ms/step\n",
      "Epoch 17: Train F1 = 0.9809, Val F1 = 0.8285\n",
      "\u001b[1m127/127\u001b[0m \u001b[32m━━━━━━━━━━━━━━━━━━━━\u001b[0m\u001b[37m\u001b[0m \u001b[1m2s\u001b[0m 16ms/step - accuracy: 0.8649 - loss: 0.3674 - val_accuracy: 0.8340 - val_loss: 0.4549 - f1_score: 0.9809 - val_f1_score: 0.8285\n",
      "Epoch 18/25\n",
      "\u001b[1m127/127\u001b[0m \u001b[32m━━━━━━━━━━━━━━━━━━━━\u001b[0m\u001b[37m\u001b[0m \u001b[1m0s\u001b[0m 2ms/step - accuracy: 0.8906 - l\n",
      "\u001b[1m32/32\u001b[0m \u001b[32m━━━━━━━━━━━━━━━━━━━━\u001b[0m\u001b[37m\u001b[0m \u001b[1m0s\u001b[0m 3ms/step\n",
      "Epoch 18: Train F1 = 0.9842, Val F1 = 0.8155\n",
      "\u001b[1m127/127\u001b[0m \u001b[32m━━━━━━━━━━━━━━━━━━━━\u001b[0m\u001b[37m\u001b[0m \u001b[1m2s\u001b[0m 16ms/step - accuracy: 0.8903 - loss: 0.3100 - val_accuracy: 0.8211 - val_loss: 0.5022 - f1_score: 0.9842 - val_f1_score: 0.8155\n",
      "Epoch 19/25\n",
      "\u001b[1m127/127\u001b[0m \u001b[32m━━━━━━━━━━━━━━━━━━━━\u001b[0m\u001b[37m\u001b[0m \u001b[1m0s\u001b[0m 2ms/step - accuracy: 0.8962 - l\n",
      "\u001b[1m32/32\u001b[0m \u001b[32m━━━━━━━━━━━━━━━━━━━━\u001b[0m\u001b[37m\u001b[0m \u001b[1m0s\u001b[0m 3ms/step\n",
      "Epoch 19: Train F1 = 0.9891, Val F1 = 0.8247\n",
      "\u001b[1m127/127\u001b[0m \u001b[32m━━━━━━━━━━━━━━━━━━━━\u001b[0m\u001b[37m\u001b[0m \u001b[1m2s\u001b[0m 16ms/step - accuracy: 0.8960 - loss: 0.3106 - val_accuracy: 0.8310 - val_loss: 0.4811 - f1_score: 0.9891 - val_f1_score: 0.8247\n",
      "Epoch 20/25\n",
      "\u001b[1m127/127\u001b[0m \u001b[32m━━━━━━━━━━━━━━━━━━━━\u001b[0m\u001b[37m\u001b[0m \u001b[1m0s\u001b[0m 3ms/step - accuracy: 0.9057 - l\n",
      "\u001b[1m32/32\u001b[0m \u001b[32m━━━━━━━━━━━━━━━━━━━━\u001b[0m\u001b[37m\u001b[0m \u001b[1m0s\u001b[0m 3ms/step\n",
      "Epoch 20: Train F1 = 0.9913, Val F1 = 0.8356\n",
      "\u001b[1m127/127\u001b[0m \u001b[32m━━━━━━━━━━━━━━━━━━━━\u001b[0m\u001b[37m\u001b[0m \u001b[1m2s\u001b[0m 16ms/step - accuracy: 0.9057 - loss: 0.2751 - val_accuracy: 0.8419 - val_loss: 0.4576 - f1_score: 0.9913 - val_f1_score: 0.8356\n",
      "Epoch 21/25\n",
      "\u001b[1m127/127\u001b[0m \u001b[32m━━━━━━━━━━━━━━━━━━━━\u001b[0m\u001b[37m\u001b[0m \u001b[1m0s\u001b[0m 2ms/step - accuracy: 0.9201 - l\n",
      "\u001b[1m32/32\u001b[0m \u001b[32m━━━━━━━━━━━━━━━━━━━━\u001b[0m\u001b[37m\u001b[0m \u001b[1m0s\u001b[0m 3ms/step\n",
      "Epoch 21: Train F1 = 0.9954, Val F1 = 0.8384\n",
      "\u001b[1m127/127\u001b[0m \u001b[32m━━━━━━━━━━━━━━━━━━━━\u001b[0m\u001b[37m\u001b[0m \u001b[1m2s\u001b[0m 16ms/step - accuracy: 0.9199 - loss: 0.2240 - val_accuracy: 0.8439 - val_loss: 0.4503 - f1_score: 0.9954 - val_f1_score: 0.8384\n",
      "Epoch 22/25\n",
      "\u001b[1m127/127\u001b[0m \u001b[32m━━━━━━━━━━━━━━━━━━━━\u001b[0m\u001b[37m\u001b[0m \u001b[1m0s\u001b[0m 3ms/step - accuracy: 0.9206 - l\n",
      "\u001b[1m32/32\u001b[0m \u001b[32m━━━━━━━━━━━━━━━━━━━━\u001b[0m\u001b[37m\u001b[0m \u001b[1m0s\u001b[0m 3ms/step\n",
      "Epoch 22: Train F1 = 0.9933, Val F1 = 0.8297\n",
      "\u001b[1m127/127\u001b[0m \u001b[32m━━━━━━━━━━━━━━━━━━━━\u001b[0m\u001b[37m\u001b[0m \u001b[1m2s\u001b[0m 16ms/step - accuracy: 0.9206 - loss: 0.2278 - val_accuracy: 0.8379 - val_loss: 0.4732 - f1_score: 0.9933 - val_f1_score: 0.8297\n",
      "Epoch 23/25\n",
      "\u001b[1m127/127\u001b[0m \u001b[32m━━━━━━━━━━━━━━━━━━━━\u001b[0m\u001b[37m\u001b[0m \u001b[1m0s\u001b[0m 2ms/step - accuracy: 0.9163 - l\n",
      "\u001b[1m32/32\u001b[0m \u001b[32m━━━━━━━━━━━━━━━━━━━━\u001b[0m\u001b[37m\u001b[0m \u001b[1m0s\u001b[0m 3ms/step\n",
      "Epoch 23: Train F1 = 0.9990, Val F1 = 0.8547\n",
      "\u001b[1m127/127\u001b[0m \u001b[32m━━━━━━━━━━━━━━━━━━━━\u001b[0m\u001b[37m\u001b[0m \u001b[1m2s\u001b[0m 16ms/step - accuracy: 0.9163 - loss: 0.2275 - val_accuracy: 0.8597 - val_loss: 0.4357 - f1_score: 0.9990 - val_f1_score: 0.8547\n",
      "Epoch 24/25\n",
      "\u001b[1m127/127\u001b[0m \u001b[32m━━━━━━━━━━━━━━━━━━━━\u001b[0m\u001b[37m\u001b[0m \u001b[1m0s\u001b[0m 3ms/step - accuracy: 0.9201 - l\n",
      "\u001b[1m32/32\u001b[0m \u001b[32m━━━━━━━━━━━━━━━━━━━━\u001b[0m\u001b[37m\u001b[0m \u001b[1m0s\u001b[0m 3ms/step\n",
      "Epoch 24: Train F1 = 0.9964, Val F1 = 0.8476\n",
      "\u001b[1m127/127\u001b[0m \u001b[32m━━━━━━━━━━━━━━━━━━━━\u001b[0m\u001b[37m\u001b[0m \u001b[1m2s\u001b[0m 16ms/step - accuracy: 0.9204 - loss: 0.2190 - val_accuracy: 0.8538 - val_loss: 0.4649 - f1_score: 0.9964 - val_f1_score: 0.8476\n",
      "Epoch 25/25\n",
      "\u001b[1m127/127\u001b[0m \u001b[32m━━━━━━━━━━━━━━━━━━━━\u001b[0m\u001b[37m\u001b[0m \u001b[1m0s\u001b[0m 2ms/step - accuracy: 0.9170 - l\n",
      "\u001b[1m32/32\u001b[0m \u001b[32m━━━━━━━━━━━━━━━━━━━━\u001b[0m\u001b[37m\u001b[0m \u001b[1m0s\u001b[0m 3ms/step\n",
      "Epoch 25: Train F1 = 0.9959, Val F1 = 0.8340\n",
      "\u001b[1m127/127\u001b[0m \u001b[32m━━━━━━━━━━━━━━━━━━━━\u001b[0m\u001b[37m\u001b[0m \u001b[1m2s\u001b[0m 16ms/step - accuracy: 0.9172 - loss: 0.2342 - val_accuracy: 0.8409 - val_loss: 0.4641 - f1_score: 0.9959 - val_f1_score: 0.8340\n"
     ]
    }
   ],
   "source": [
    "# Initialize LabelEncoder\n",
    "label_encoder_song = LabelEncoder()\n",
    "\n",
    "# Fit and transform the training and testing labels\n",
    "song_labels_train_encoded = label_encoder_song.fit_transform(song_labels_train)\n",
    "song_labels_test_encoded = label_encoder_song.transform(song_labels_test)\n",
    "\n",
    "# Instantiate the custom F1ScoreCallback\n",
    "f1_callback_song = F1ScoreCallback(train_data=([combined_1d_song_train, combined_2d_song_train_reshaped], song_labels_train_encoded),\n",
    "                                   validation_data=([combined_1d_song_test, combined_2d_song_test_reshaped], song_labels_test_encoded))\n",
    "\n",
    "early_stopping_song = tf.keras.callbacks.EarlyStopping(monitor='val_loss', patience=5, restore_best_weights=True)\n",
    "\n",
    "# Train the song model\n",
    "song_history = song_model.fit(\n",
    "    [combined_1d_song_train, combined_2d_song_train_reshaped],\n",
    "    song_labels_train_encoded,\n",
    "    epochs=25,\n",
    "    batch_size=32,\n",
    "    validation_data=([combined_1d_song_test, combined_2d_song_test_reshaped], song_labels_test_encoded),\n",
    "    callbacks=[f1_callback_song, early_stopping_song]\n",
    ")"
   ]
  },
  {
   "cell_type": "code",
   "execution_count": 49,
   "metadata": {
    "execution": {
     "iopub.execute_input": "2025-10-17T21:11:13.116885Z",
     "iopub.status.busy": "2025-10-17T21:11:13.116634Z",
     "iopub.status.idle": "2025-10-17T21:11:13.638050Z",
     "shell.execute_reply": "2025-10-17T21:11:13.637214Z",
     "shell.execute_reply.started": "2025-10-17T21:11:13.116868Z"
    },
    "trusted": true
   },
   "outputs": [
    {
     "name": "stdout",
     "output_type": "stream",
     "text": [
      "\u001b[1m32/32\u001b[0m \u001b[32m━━━━━━━━━━━━━━━━━━━━\u001b[0m\u001b[37m\u001b[0m \u001b[1m0s\u001b[0m 3ms/step\n",
      "Song Test Loss: 0.4357\n",
      "Song Test Accuracy: 0.8597\n",
      "Song Test F1 Score: 0.8547\n"
     ]
    }
   ],
   "source": [
    "song_loss, song_accuracy = song_model.evaluate(\n",
    "    [combined_1d_song_test, combined_2d_song_test_reshaped],\n",
    "    song_labels_test_encoded,\n",
    "    verbose=0\n",
    ")\n",
    "\n",
    "song_y_pred_probs = song_model.predict([combined_1d_song_test, combined_2d_song_test_reshaped])\n",
    "song_y_pred = np.argmax(song_y_pred_probs, axis=1)\n",
    "song_test_f1_score = f1_score(song_labels_test_encoded, song_y_pred, average='macro')\n",
    "\n",
    "print(f\"Song Test Loss: {song_loss:.4f}\")\n",
    "print(f\"Song Test Accuracy: {song_accuracy:.4f}\")\n",
    "print(f\"Song Test F1 Score: {song_test_f1_score:.4f}\")"
   ]
  },
  {
   "cell_type": "code",
   "execution_count": 50,
   "metadata": {
    "execution": {
     "iopub.execute_input": "2025-10-17T21:11:19.049074Z",
     "iopub.status.busy": "2025-10-17T21:11:19.048366Z",
     "iopub.status.idle": "2025-10-17T21:11:20.004335Z",
     "shell.execute_reply": "2025-10-17T21:11:20.003693Z",
     "shell.execute_reply.started": "2025-10-17T21:11:19.049048Z"
    },
    "trusted": true
   },
   "outputs": [
    {
     "data": {
      "image/png": "[encoded data removed]",
      "text/plain": [
       "<Figure size 1200x400 with 3 Axes>"
      ]
     },
     "metadata": {},
     "output_type": "display_data"
    }
   ],
   "source": [
    "# Plot accuracy and loss for song model\n",
    "plt.figure(figsize=(12, 4))\n",
    "\n",
    "# Plot accuracy\n",
    "plt.subplot(1, 3, 1)\n",
    "plt.plot(song_history.history['accuracy'])\n",
    "plt.plot(song_history.history['val_accuracy'])\n",
    "plt.title('Song Model Accuracy')\n",
    "plt.ylabel('Accuracy')\n",
    "plt.xlabel('Epoch')\n",
    "plt.legend(['Train', 'Validation'], loc='upper left')\n",
    "\n",
    "# Plot F1 score\n",
    "plt.subplot(1, 3, 2)\n",
    "plt.plot(song_history.history['f1_score'])\n",
    "plt.plot(song_history.history['val_f1_score'])\n",
    "plt.title('Song Model F1 Score')\n",
    "plt.ylabel('F1 Score')\n",
    "plt.xlabel('Epoch')\n",
    "plt.legend(['Train', 'Validation'], loc='upper left')\n",
    "\n",
    "# Plot Loss\n",
    "plt.subplot(1, 3, 3)\n",
    "plt.plot(song_history.history['loss'])\n",
    "plt.plot(song_history.history['val_loss'])\n",
    "plt.title('Song Model Loss')\n",
    "plt.ylabel('Loss')\n",
    "plt.xlabel('Epoch')\n",
    "plt.legend(['Train', 'Validation'], loc='upper left')\n",
    "\n",
    "plt.tight_layout()\n",
    "plt.show()"
   ]
  },
  {
   "cell_type": "code",
   "execution_count": 51,
   "metadata": {
    "execution": {
     "iopub.execute_input": "2025-10-17T21:11:27.009120Z",
     "iopub.status.busy": "2025-10-17T21:11:27.008866Z",
     "iopub.status.idle": "2025-10-17T21:11:27.484464Z",
     "shell.execute_reply": "2025-10-17T21:11:27.483697Z",
     "shell.execute_reply.started": "2025-10-17T21:11:27.009102Z"
    },
    "trusted": true
   },
   "outputs": [
    {
     "name": "stdout",
     "output_type": "stream",
     "text": [
      "\u001b[1m32/32\u001b[0m \u001b[32m━━━━━━━━━━━━━━━━━━━━\u001b[0m\u001b[37m\u001b[0m \u001b[1m0s\u001b[0m 3ms/step\n"
     ]
    },
    {
     "data": {
      "image/png": "[encoded data removed]",
      "text/plain": [
       "<Figure size 640x480 with 2 Axes>"
      ]
     },
     "metadata": {},
     "output_type": "display_data"
    }
   ],
   "source": [
    "# Get predictions on the song test set\n",
    "song_y_pred_probs = song_model.predict([combined_1d_song_test, combined_2d_song_test_reshaped])\n",
    "song_y_pred = np.argmax(song_y_pred_probs, axis=1)\n",
    "\n",
    "# Generate the confusion matrix for song data\n",
    "song_cm = confusion_matrix(song_labels_test_encoded, song_y_pred)\n",
    "\n",
    "# Get the class labels for song data\n",
    "song_class_labels = label_encoder_song.classes_\n",
    "\n",
    "# Display the confusion matrix for song data\n",
    "song_disp = ConfusionMatrixDisplay(confusion_matrix=song_cm, display_labels=song_class_labels)\n",
    "song_disp.plot(cmap=plt.cm.Blues)\n",
    "plt.title('Song Model Confusion Matrix')\n",
    "plt.show()"
   ]
  },
  {
   "cell_type": "code",
   "execution_count": 52,
   "metadata": {
    "execution": {
     "iopub.execute_input": "2025-10-17T21:11:49.890304Z",
     "iopub.status.busy": "2025-10-17T21:11:49.889802Z",
     "iopub.status.idle": "2025-10-17T21:11:50.014456Z",
     "shell.execute_reply": "2025-10-17T21:11:50.013647Z",
     "shell.execute_reply.started": "2025-10-17T21:11:49.890279Z"
    },
    "trusted": true
   },
   "outputs": [
    {
     "name": "stdout",
     "output_type": "stream",
     "text": [
      "Song model saved successfully!\n"
     ]
    }
   ],
   "source": [
    "# Save the song model\n",
    "song_model.save('/kaggle/working/models/song/song_rec_model.h5')\n",
    "print(\"Song model saved successfully!\")"
   ]
  },
  {
   "cell_type": "code",
   "execution_count": 53,
   "metadata": {
    "execution": {
     "iopub.execute_input": "2025-10-17T21:15:41.556784Z",
     "iopub.status.busy": "2025-10-17T21:15:41.555891Z",
     "iopub.status.idle": "2025-10-17T21:15:41.565367Z",
     "shell.execute_reply": "2025-10-17T21:15:41.564705Z",
     "shell.execute_reply.started": "2025-10-17T21:15:41.556757Z"
    },
    "trusted": true
   },
   "outputs": [
    {
     "name": "stdout",
     "output_type": "stream",
     "text": [
      "Encoder and scaler objects saved successfully!\n"
     ]
    }
   ],
   "source": [
    "import pickle\n",
    "\n",
    "# Save speech dataset objects\n",
    "with open('/kaggle/working/models/speech/pkl/speech_label_encoder.pkl', 'wb') as f:\n",
    "    pickle.dump(speech_label_encoder, f)\n",
    "\n",
    "with open('/kaggle/working/models/speech/pkl/speech_scaler_1d.pkl', 'wb') as f:\n",
    "    pickle.dump(scaler_1d, f)\n",
    "\n",
    "with open('/kaggle/working/models/speech/pkl/speech_scaler_2d.pkl', 'wb') as f:\n",
    "    pickle.dump(scaler_2d, f)\n",
    "\n",
    "# Save song dataset objects\n",
    "with open('/kaggle/working/models/song/pkl/label_encoder_song.pkl', 'wb') as f:\n",
    "    pickle.dump(label_encoder_song, f)\n",
    "\n",
    "with open('/kaggle/working/models/song/pkl/scaler_1d_song.pkl', 'wb') as f:\n",
    "    pickle.dump(scaler_1d_song, f)\n",
    "\n",
    "with open('/kaggle/working/models/song/pkl/scaler_2d_song.pkl', 'wb') as f:\n",
    "    pickle.dump(scaler_2d_song, f)\n",
    "\n",
    "print(\"Encoder and scaler objects saved successfully!\")"
   ]
  },
  {
   "cell_type": "markdown",
   "metadata": {},
   "source": [
    "## 3. Prediction"
   ]
  },
  {
   "cell_type": "code",
   "execution_count": 54,
   "metadata": {
    "execution": {
     "iopub.execute_input": "2025-10-17T21:16:12.379094Z",
     "iopub.status.busy": "2025-10-17T21:16:12.378840Z",
     "iopub.status.idle": "2025-10-17T21:16:12.383269Z",
     "shell.execute_reply": "2025-10-17T21:16:12.382489Z",
     "shell.execute_reply.started": "2025-10-17T21:16:12.379075Z"
    },
    "trusted": true
   },
   "outputs": [],
   "source": [
    "ip_audio_1 = \"/kaggle/input/ravdess-emotional-speech-audio/Actor_03/03-01-01-01-02-02-03.wav\"\n",
    "ip_audio_2 = \"/kaggle/input/ravdess-emotional-speech-audio/Actor_09/03-01-05-02-02-02-09.wav\"\n",
    "ip_audio_3 = \"/kaggle/input/ravdess-emotional-speech-audio/Actor_19/03-01-08-02-02-01-19.wav\""
   ]
  },
  {
   "cell_type": "code",
   "execution_count": 55,
   "metadata": {
    "execution": {
     "iopub.execute_input": "2025-10-17T21:16:23.161930Z",
     "iopub.status.busy": "2025-10-17T21:16:23.161365Z",
     "iopub.status.idle": "2025-10-17T21:16:23.168335Z",
     "shell.execute_reply": "2025-10-17T21:16:23.167721Z",
     "shell.execute_reply.started": "2025-10-17T21:16:23.161905Z"
    },
    "trusted": true
   },
   "outputs": [
    {
     "name": "stdout",
     "output_type": "stream",
     "text": [
      "max_chroma_len_song = 216\n",
      "max_mfcc_len_song = 216\n",
      "max_mfcc_len_speech = 215\n",
      "max_spectrogram_len_speech = 215\n"
     ]
    }
   ],
   "source": [
    "with open('/kaggle/working/max_len/max_chroma_len_song.txt', 'r') as f:\n",
    "    max_chroma_len_song = int(f.read())\n",
    "with open('/kaggle/working/max_len/max_mfcc_len_song.txt', 'r') as f:\n",
    "    max_mfcc_len_song = int(f.read())\n",
    "with open('/kaggle/working/max_len/max_mfcc_len_speech.txt', 'r') as f:\n",
    "    max_mfcc_len_speech = int(f.read())\n",
    "with open('/kaggle/working/max_len/max_spectrogram_len_speech.txt', 'r') as f:\n",
    "    max_spectrogram_len_speech = int(f.read())\n",
    "\n",
    "print(f\"max_chroma_len_song = {max_chroma_len_song}\")\n",
    "print(f\"max_mfcc_len_song = {max_mfcc_len_song}\")\n",
    "print(f\"max_mfcc_len_speech = {max_mfcc_len_speech}\")\n",
    "print(f\"max_spectrogram_len_speech = {max_spectrogram_len_speech}\")"
   ]
  },
  {
   "cell_type": "code",
   "execution_count": 56,
   "metadata": {
    "execution": {
     "iopub.execute_input": "2025-10-17T21:16:32.263211Z",
     "iopub.status.busy": "2025-10-17T21:16:32.262895Z",
     "iopub.status.idle": "2025-10-17T21:16:32.271785Z",
     "shell.execute_reply": "2025-10-17T21:16:32.271150Z",
     "shell.execute_reply.started": "2025-10-17T21:16:32.263191Z"
    },
    "trusted": true
   },
   "outputs": [],
   "source": [
    "import librosa"
   ]
  },
  {
   "cell_type": "code",
   "execution_count": 57,
   "metadata": {
    "execution": {
     "iopub.execute_input": "2025-10-17T21:17:51.264710Z",
     "iopub.status.busy": "2025-10-17T21:17:51.264335Z",
     "iopub.status.idle": "2025-10-17T21:17:51.274428Z",
     "shell.execute_reply": "2025-10-17T21:17:51.273722Z",
     "shell.execute_reply.started": "2025-10-17T21:17:51.264687Z"
    },
    "trusted": true
   },
   "outputs": [],
   "source": [
    "def zcr_feature(data,frame_length,hop_length):\n",
    "    zcr_result=librosa.feature.zero_crossing_rate(data,frame_length=frame_length,hop_length=hop_length)\n",
    "    return np.squeeze(zcr_result) # Returns 1D array\n",
    "\n",
    "def rmse_feature(data, frame_length=2048, hop_length=512):\n",
    "    rmse_result = librosa.feature.rms(y=data, frame_length=frame_length, hop_length=hop_length)\n",
    "    return np.squeeze(rmse_result) # Returns 1D array\n",
    "\n",
    "def mfcc_feature(data, sr, frame_length=2048, hop_length=512):\n",
    "    mfcc_result = librosa.feature.mfcc(y=data, sr=sr, n_fft=frame_length, hop_length=hop_length)\n",
    "    return mfcc_result.T # Returns 2D array (time x n_mfcc)\n",
    "\n",
    "def extract_spectrogram_features(data, sr, n_mels=128, fmax=8000):\n",
    "    spectrogram = librosa.feature.melspectrogram(y=data, sr=sr, n_mels=n_mels, fmax=fmax)\n",
    "    log_spectrogram = librosa.power_to_db(spectrogram, ref=np.max)\n",
    "    return log_spectrogram.T # Returns 2D array (time x n_mels)\n",
    "\n",
    "def extract_chroma_features(data, sr, frame_length=2048, hop_length=512):\n",
    "    chromagram = librosa.feature.chroma_stft(y=data, sr=sr, n_fft=frame_length, hop_length=hop_length)\n",
    "    return chromagram.T # Returns 2D array (time x n_chroma)\n",
    "\n",
    "def extract_features(data,sr=22050,frame_length=2048,hop_length=512, dataset_type='speech'):\n",
    "    zcr_features_val = zcr_feature(data,frame_length,hop_length)\n",
    "    rmse_features_val = rmse_feature(data,frame_length,hop_length)\n",
    "    mfcc_features_val = mfcc_feature(data,sr,frame_length,hop_length)\n",
    "\n",
    "    if dataset_type == 'speech':\n",
    "        additional_features_val = extract_spectrogram_features(data, sr)\n",
    "    elif dataset_type == 'song':\n",
    "        additional_features_val = extract_chroma_features(data, sr, frame_length, hop_length)\n",
    "    else:\n",
    "        raise ValueError(\"dataset_type must be 'speech' or 'song'\")\n",
    "\n",
    "    return zcr_features_val, rmse_features_val, mfcc_features_val, additional_features_val"
   ]
  },
  {
   "cell_type": "code",
   "execution_count": 58,
   "metadata": {
    "execution": {
     "iopub.execute_input": "2025-10-17T21:18:01.215794Z",
     "iopub.status.busy": "2025-10-17T21:18:01.215249Z",
     "iopub.status.idle": "2025-10-17T21:18:01.220062Z",
     "shell.execute_reply": "2025-10-17T21:18:01.219321Z",
     "shell.execute_reply.started": "2025-10-17T21:18:01.215771Z"
    },
    "trusted": true
   },
   "outputs": [],
   "source": [
    "def pad_or_truncate(arr, max_len):\n",
    "    \"\"\"Pads or truncates a 2D array to a specified length.\"\"\"\n",
    "    if arr.shape[0] > max_len:\n",
    "        return arr[:max_len, :]\n",
    "    elif arr.shape[0] < max_len:\n",
    "        padding = np.zeros((max_len - arr.shape[0], arr.shape[1]))\n",
    "        return np.vstack((arr, padding))\n",
    "    return arr"
   ]
  },
  {
   "cell_type": "code",
   "execution_count": 64,
   "metadata": {
    "execution": {
     "iopub.execute_input": "2025-10-17T21:32:15.692149Z",
     "iopub.status.busy": "2025-10-17T21:32:15.691855Z",
     "iopub.status.idle": "2025-10-17T21:32:15.699520Z",
     "shell.execute_reply": "2025-10-17T21:32:15.698884Z",
     "shell.execute_reply.started": "2025-10-17T21:32:15.692127Z"
    },
    "trusted": true
   },
   "outputs": [],
   "source": [
    "def preprocess_ip_audio(file_path, dataset_type, scaler_1d, scaler_2d, max_mfcc_len, max_additional_len):\n",
    "    data, sr = librosa.load(file_path, duration=2.5, offset=0.6)\n",
    "    zcr_val, rmse_val, mfcc_val, additional_val = extract_features(data, sr, dataset_type=dataset_type)\n",
    "\n",
    "    mfcc_padded = pad_or_truncate(mfcc_val, max_mfcc_len)\n",
    "    additional_padded = pad_or_truncate(additional_val, max_additional_len)\n",
    "\n",
    "    # Calculate mean and std for ZCR and RMSE\n",
    "    zcr_stats = np.array([np.mean(zcr_val), np.std(zcr_val)]).reshape(1, -1)\n",
    "    rmse_stats = np.array([np.mean(rmse_val), np.std(rmse_val)]).reshape(1, -1)\n",
    "\n",
    "    # Concatenate 1D features before scaling\n",
    "    combined_1d_features = np.concatenate((zcr_stats, rmse_stats), axis=1)\n",
    "\n",
    "    # Scale combined 1D features\n",
    "    combined_1d_features_scaled = scaler_1d.transform(combined_1d_features)\n",
    "\n",
    "    # Flatten 2D features for scaling\n",
    "    mfcc_padded_reshaped_for_scaling = mfcc_padded.reshape(1, -1)\n",
    "    additional_padded_reshaped_for_scaling = additional_padded.reshape(1, -1) # Renamed spectro_padded_reshaped_for_scaling to additional_padded_reshaped_for_scaling\n",
    "\n",
    "    # Concatenate flattened 2D features before scaling\n",
    "    combined_2d_features_reshaped_for_scaling = np.concatenate((mfcc_padded_reshaped_for_scaling, additional_padded_reshaped_for_scaling), axis=1) # Updated concatenation\n",
    "\n",
    "    # Scale the combined flattened 2D features\n",
    "    combined_2d_features_scaled_reshaped = scaler_2d.transform(combined_2d_features_reshaped_for_scaling)\n",
    "\n",
    "    # Reshape the scaled 2D features back to their original 3D shape\n",
    "    # The target shape should be (number_of_samples, max_time_steps, combined_feature_dimension)\n",
    "    # For a single unseen sample, number_of_samples is 1\n",
    "    original_shape_2d = (1, mfcc_padded.shape[0], mfcc_padded.shape[1] + additional_padded.shape[1]) # Updated dimension calculation\n",
    "    combined_2d_features_scaled = combined_2d_features_scaled_reshaped.reshape(original_shape_2d)\n",
    "\n",
    "\n",
    "    # Reshape combined 2D data to include a channel dimension for CNN input\n",
    "    combined_2d_features_scaled_reshaped_cnn = np.expand_dims(combined_2d_features_scaled, axis=-1)\n",
    "\n",
    "    return combined_1d_features_scaled, combined_2d_features_scaled_reshaped_cnn"
   ]
  },
  {
   "cell_type": "code",
   "execution_count": 111,
   "metadata": {
    "execution": {
     "iopub.execute_input": "2025-10-17T22:26:48.656428Z",
     "iopub.status.busy": "2025-10-17T22:26:48.656122Z",
     "iopub.status.idle": "2025-10-17T22:26:48.662382Z",
     "shell.execute_reply": "2025-10-17T22:26:48.661572Z",
     "shell.execute_reply.started": "2025-10-17T22:26:48.656407Z"
    },
    "trusted": true
   },
   "outputs": [],
   "source": [
    "def predict_speech_emotion(file_path, dataset_type, scaler_1d, scaler_2d, max_mfcc_len, max_additional_len, model, label_encoder):\n",
    "    # Preprocess the unseen audio file\n",
    "    preprocessed_1d, preprocessed_2d = preprocess_ip_audio(\n",
    "        file_path,\n",
    "        dataset_type,\n",
    "        scaler_1d,\n",
    "        scaler_2d,\n",
    "        max_mfcc_len,\n",
    "        max_additional_len\n",
    "    )\n",
    "\n",
    "    # Make a prediction using the trained model\n",
    "    prediction = model.predict([preprocessed_1d, preprocessed_2d])\n",
    "\n",
    "    # Get the predicted class index\n",
    "    predicted_class_index = np.argmax(prediction)\n",
    "\n",
    "    # Get the predicted emotion label with the highest confidence\n",
    "    predicted_emotion_max_score = label_encoder.inverse_transform([predicted_class_index])[0]\n",
    "\n",
    "    # Get all class labels\n",
    "    all_labels = label_encoder.classes_\n",
    "\n",
    "    # Combine labels and confidence scores into a dictionary\n",
    "    emotion_confidence_scores_dict = {label: float(score) for label, score in zip(all_labels, prediction[0])}\n",
    "\n",
    "    # Return only the predicted emotion and the confidence scores dictionary\n",
    "    return predicted_emotion_max_score, emotion_confidence_scores_dict"
   ]
  },
  {
   "cell_type": "code",
   "execution_count": 117,
   "metadata": {
    "execution": {
     "iopub.execute_input": "2025-10-17T22:29:27.175273Z",
     "iopub.status.busy": "2025-10-17T22:29:27.174984Z",
     "iopub.status.idle": "2025-10-17T22:29:27.180979Z",
     "shell.execute_reply": "2025-10-17T22:29:27.180370Z",
     "shell.execute_reply.started": "2025-10-17T22:29:27.175251Z"
    },
    "trusted": true
   },
   "outputs": [],
   "source": [
    "def predict_song_emotion(file_path, dataset_type, scaler_1d_song, scaler_2d_song, max_mfcc_len_song, max_chroma_len_song, song_model, label_encoder_song):\n",
    "    # Preprocess the unseen audio file\n",
    "    preprocessed_1d, preprocessed_2d = preprocess_ip_audio(\n",
    "        file_path,\n",
    "        dataset_type,\n",
    "        scaler_1d_song,\n",
    "        scaler_2d_song,\n",
    "        max_mfcc_len_song,\n",
    "        max_chroma_len_song\n",
    "    )\n",
    "\n",
    "    # Make a prediction using the trained song model\n",
    "    prediction = song_model.predict([preprocessed_1d, preprocessed_2d])\n",
    "\n",
    "    # Get the predicted class index\n",
    "    predicted_class_index = np.argmax(prediction)\n",
    "\n",
    "    # Get the predicted emotion label with the highest confidence\n",
    "    predicted_emotion_max_score = label_encoder_song.inverse_transform([predicted_class_index])[0]\n",
    "\n",
    "    # Get all class labels\n",
    "    all_labels = label_encoder_song.classes_\n",
    "\n",
    "    # Combine labels and confidence scores into a dictionary\n",
    "    emotion_confidence_scores_dict = {label: float(score) for label, score in zip(all_labels, prediction[0])}\n",
    "\n",
    "    # Return only the predicted emotion and the confidence scores dictionary\n",
    "    return predicted_emotion_max_score, emotion_confidence_scores_dict"
   ]
  },
  {
   "cell_type": "code",
   "execution_count": 122,
   "metadata": {
    "execution": {
     "iopub.execute_input": "2025-10-17T22:32:37.545684Z",
     "iopub.status.busy": "2025-10-17T22:32:37.545307Z",
     "iopub.status.idle": "2025-10-17T22:32:37.668075Z",
     "shell.execute_reply": "2025-10-17T22:32:37.667441Z",
     "shell.execute_reply.started": "2025-10-17T22:32:37.545661Z"
    },
    "trusted": true
   },
   "outputs": [
    {
     "name": "stdout",
     "output_type": "stream",
     "text": [
      "\u001b[1m1/1\u001b[0m \u001b[32m━━━━━━━━━━━━━━━━━━━━\u001b[0m\u001b[37m\u001b[0m \u001b[1m0s\u001b[0m 35ms/step\n",
      "surprise\n",
      "{'angry': 0.003314885077998042, 'disgust': 0.0004986226558685303, 'fear': 0.006248766556382179, 'happy': 0.008210714906454086, 'neutral': 0.0001815501309465617, 'sad': 0.0004806862270925194, 'surprise': 0.9810647368431091}\n"
     ]
    }
   ],
   "source": [
    "prediction, scores = predict_speech_emotion(ip_audio_3, 'speech', scaler_1d, scaler_2d, max_mfcc_len_speech, max_spectrogram_len_speech, speech_model, speech_label_encoder)\n",
    "print(prediction)\n",
    "print(scores)"
   ]
  },
  {
   "cell_type": "code",
   "execution_count": 97,
   "metadata": {
    "execution": {
     "iopub.execute_input": "2025-10-17T22:14:51.560165Z",
     "iopub.status.busy": "2025-10-17T22:14:51.559332Z",
     "iopub.status.idle": "2025-10-17T22:14:51.564170Z",
     "shell.execute_reply": "2025-10-17T22:14:51.563226Z",
     "shell.execute_reply.started": "2025-10-17T22:14:51.560138Z"
    },
    "trusted": true
   },
   "outputs": [],
   "source": [
    "ip_audio_4 = '/kaggle/input/ravdess-emotional-song-audio/Actor_04/03-02-03-02-01-02-04.wav'\n",
    "ip_audio_5 = '/kaggle/input/ravdess-emotional-song-audio/Actor_07/03-02-06-02-01-01-07.wav'\n",
    "ip_audio_6 = '/kaggle/input/ravdess-emotional-song-audio/Actor_14/03-02-04-02-02-02-14.wav'"
   ]
  },
  {
   "cell_type": "code",
   "execution_count": 118,
   "metadata": {
    "execution": {
     "iopub.execute_input": "2025-10-17T22:29:42.066027Z",
     "iopub.status.busy": "2025-10-17T22:29:42.065396Z",
     "iopub.status.idle": "2025-10-17T22:29:42.187649Z",
     "shell.execute_reply": "2025-10-17T22:29:42.186947Z",
     "shell.execute_reply.started": "2025-10-17T22:29:42.065986Z"
    },
    "trusted": true
   },
   "outputs": [
    {
     "name": "stdout",
     "output_type": "stream",
     "text": [
      "\u001b[1m1/1\u001b[0m \u001b[32m━━━━━━━━━━━━━━━━━━━━\u001b[0m\u001b[37m\u001b[0m \u001b[1m0s\u001b[0m 36ms/step\n",
      "sad\n",
      "{'angry': 3.14974931825418e-05, 'fear': 0.011332672089338303, 'happy': 5.241330654826015e-05, 'neutral': 0.03324412181973457, 'sad': 0.9553393125534058}\n"
     ]
    }
   ],
   "source": [
    "p, s = predict_song_emotion(ip_audio_6, 'song', scaler_1d_song, scaler_2d_song, max_mfcc_len_song, max_chroma_len_song, song_model, label_encoder_song)\n",
    "print(p)\n",
    "print(s)"
   ]
  },
  {
   "cell_type": "code",
   "execution_count": 101,
   "metadata": {
    "collapsed": true,
    "execution": {
     "iopub.execute_input": "2025-10-17T22:19:23.122432Z",
     "iopub.status.busy": "2025-10-17T22:19:23.122124Z",
     "iopub.status.idle": "2025-10-17T22:19:30.648973Z",
     "shell.execute_reply": "2025-10-17T22:19:30.648228Z",
     "shell.execute_reply.started": "2025-10-17T22:19:23.122411Z"
    },
    "jupyter": {
     "outputs_hidden": true
    },
    "trusted": true
   },
   "outputs": [
    {
     "name": "stdout",
     "output_type": "stream",
     "text": [
      "Requirement already satisfied: gradio in /usr/local/lib/python3.11/dist-packages (5.38.1)\n",
      "Requirement already satisfied: aiofiles<25.0,>=22.0 in /usr/local/lib/python3.11/dist-packages (from gradio) (22.1.0)\n",
      "Requirement already satisfied: anyio<5.0,>=3.0 in /usr/local/lib/python3.11/dist-packages (from gradio) (4.11.0)\n",
      "Requirement already satisfied: brotli>=1.1.0 in /usr/local/lib/python3.11/dist-packages (from gradio) (1.1.0)\n",
      "Requirement already satisfied: fastapi<1.0,>=0.115.2 in /usr/local/lib/python3.11/dist-packages (from gradio) (0.116.1)\n",
      "Requirement already satisfied: ffmpy in /usr/local/lib/python3.11/dist-packages (from gradio) (0.6.1)\n",
      "Requirement already satisfied: gradio-client==1.11.0 in /usr/local/lib/python3.11/dist-packages (from gradio) (1.11.0)\n",
      "Requirement already satisfied: groovy~=0.1 in /usr/local/lib/python3.11/dist-packages (from gradio) (0.1.2)\n",
      "Requirement already satisfied: httpx<1.0,>=0.24.1 in /usr/local/lib/python3.11/dist-packages (from gradio) (0.28.1)\n",
      "Requirement already satisfied: huggingface-hub>=0.28.1 in /usr/local/lib/python3.11/dist-packages (from gradio) (1.0.0rc2)\n",
      "Requirement already satisfied: jinja2<4.0 in /usr/local/lib/python3.11/dist-packages (from gradio) (3.1.6)\n",
      "Requirement already satisfied: markupsafe<4.0,>=2.0 in /usr/local/lib/python3.11/dist-packages (from gradio) (3.0.2)\n",
      "Requirement already satisfied: numpy<3.0,>=1.0 in /usr/local/lib/python3.11/dist-packages (from gradio) (1.26.4)\n",
      "Requirement already satisfied: orjson~=3.0 in /usr/local/lib/python3.11/dist-packages (from gradio) (3.11.0)\n",
      "Requirement already satisfied: packaging in /usr/local/lib/python3.11/dist-packages (from gradio) (25.0)\n",
      "Requirement already satisfied: pandas<3.0,>=1.0 in /usr/local/lib/python3.11/dist-packages (from gradio) (2.2.3)\n",
      "Requirement already satisfied: pillow<12.0,>=8.0 in /usr/local/lib/python3.11/dist-packages (from gradio) (11.3.0)\n",
      "Collecting pydantic<2.12,>=2.0 (from gradio)\n",
      "  Downloading pydantic-2.11.10-py3-none-any.whl.metadata (68 kB)\n",
      "\u001b[2K     \u001b[90m━━━━━━━━━━━━━━━━━━━━━━━━━━━━━━━━━━━━━━━━\u001b[0m \u001b[32m68.6/68.6 kB\u001b[0m \u001b[31m2.6 MB/s\u001b[0m eta \u001b[36m0:00:00\u001b[0m\n",
      "\u001b[?25hRequirement already satisfied: pydub in /usr/local/lib/python3.11/dist-packages (from gradio) (0.25.1)\n",
      "Requirement already satisfied: python-multipart>=0.0.18 in /usr/local/lib/python3.11/dist-packages (from gradio) (0.0.20)\n",
      "Requirement already satisfied: pyyaml<7.0,>=5.0 in /usr/local/lib/python3.11/dist-packages (from gradio) (6.0.3)\n",
      "Requirement already satisfied: ruff>=0.9.3 in /usr/local/lib/python3.11/dist-packages (from gradio) (0.12.5)\n",
      "Requirement already satisfied: safehttpx<0.2.0,>=0.1.6 in /usr/local/lib/python3.11/dist-packages (from gradio) (0.1.6)\n",
      "Requirement already satisfied: semantic-version~=2.0 in /usr/local/lib/python3.11/dist-packages (from gradio) (2.10.0)\n",
      "Requirement already satisfied: starlette<1.0,>=0.40.0 in /usr/local/lib/python3.11/dist-packages (from gradio) (0.47.2)\n",
      "Requirement already satisfied: tomlkit<0.14.0,>=0.12.0 in /usr/local/lib/python3.11/dist-packages (from gradio) (0.13.3)\n",
      "Requirement already satisfied: typer<1.0,>=0.12 in /usr/local/lib/python3.11/dist-packages (from gradio) (0.16.0)\n",
      "Requirement already satisfied: typing-extensions~=4.0 in /usr/local/lib/python3.11/dist-packages (from gradio) (4.15.0)\n",
      "Requirement already satisfied: uvicorn>=0.14.0 in /usr/local/lib/python3.11/dist-packages (from gradio) (0.35.0)\n",
      "Requirement already satisfied: fsspec in /usr/local/lib/python3.11/dist-packages (from gradio-client==1.11.0->gradio) (2025.9.0)\n",
      "Requirement already satisfied: websockets<16.0,>=10.0 in /usr/local/lib/python3.11/dist-packages (from gradio-client==1.11.0->gradio) (15.0.1)\n",
      "Requirement already satisfied: idna>=2.8 in /usr/local/lib/python3.11/dist-packages (from anyio<5.0,>=3.0->gradio) (3.10)\n",
      "Requirement already satisfied: sniffio>=1.1 in /usr/local/lib/python3.11/dist-packages (from anyio<5.0,>=3.0->gradio) (1.3.1)\n",
      "Requirement already satisfied: certifi in /usr/local/lib/python3.11/dist-packages (from httpx<1.0,>=0.24.1->gradio) (2025.8.3)\n",
      "Requirement already satisfied: httpcore==1.* in /usr/local/lib/python3.11/dist-packages (from httpx<1.0,>=0.24.1->gradio) (1.0.9)\n",
      "Requirement already satisfied: h11>=0.16 in /usr/local/lib/python3.11/dist-packages (from httpcore==1.*->httpx<1.0,>=0.24.1->gradio) (0.16.0)\n",
      "Requirement already satisfied: filelock in /usr/local/lib/python3.11/dist-packages (from huggingface-hub>=0.28.1->gradio) (3.19.1)\n",
      "Requirement already satisfied: tqdm>=4.42.1 in /usr/local/lib/python3.11/dist-packages (from huggingface-hub>=0.28.1->gradio) (4.67.1)\n",
      "Requirement already satisfied: typer-slim in /usr/local/lib/python3.11/dist-packages (from huggingface-hub>=0.28.1->gradio) (0.19.2)\n",
      "Requirement already satisfied: hf-xet<2.0.0,>=1.1.3 in /usr/local/lib/python3.11/dist-packages (from huggingface-hub>=0.28.1->gradio) (1.1.10)\n",
      "Requirement already satisfied: mkl_fft in /usr/local/lib/python3.11/dist-packages (from numpy<3.0,>=1.0->gradio) (1.3.8)\n",
      "Requirement already satisfied: mkl_random in /usr/local/lib/python3.11/dist-packages (from numpy<3.0,>=1.0->gradio) (1.2.4)\n",
      "Requirement already satisfied: mkl_umath in /usr/local/lib/python3.11/dist-packages (from numpy<3.0,>=1.0->gradio) (0.1.1)\n",
      "Requirement already satisfied: mkl in /usr/local/lib/python3.11/dist-packages (from numpy<3.0,>=1.0->gradio) (2025.2.0)\n",
      "Requirement already satisfied: tbb4py in /usr/local/lib/python3.11/dist-packages (from numpy<3.0,>=1.0->gradio) (2022.2.0)\n",
      "Requirement already satisfied: mkl-service in /usr/local/lib/python3.11/dist-packages (from numpy<3.0,>=1.0->gradio) (2.4.1)\n",
      "Requirement already satisfied: python-dateutil>=2.8.2 in /usr/local/lib/python3.11/dist-packages (from pandas<3.0,>=1.0->gradio) (2.9.0.post0)\n",
      "Requirement already satisfied: pytz>=2020.1 in /usr/local/lib/python3.11/dist-packages (from pandas<3.0,>=1.0->gradio) (2025.2)\n",
      "Requirement already satisfied: tzdata>=2022.7 in /usr/local/lib/python3.11/dist-packages (from pandas<3.0,>=1.0->gradio) (2025.2)\n",
      "Requirement already satisfied: annotated-types>=0.6.0 in /usr/local/lib/python3.11/dist-packages (from pydantic<2.12,>=2.0->gradio) (0.7.0)\n",
      "Collecting pydantic-core==2.33.2 (from pydantic<2.12,>=2.0->gradio)\n",
      "  Downloading pydantic_core-2.33.2-cp311-cp311-manylinux_2_17_x86_64.manylinux2014_x86_64.whl.metadata (6.8 kB)\n",
      "Requirement already satisfied: typing-inspection>=0.4.0 in /usr/local/lib/python3.11/dist-packages (from pydantic<2.12,>=2.0->gradio) (0.4.1)\n",
      "Requirement already satisfied: click>=8.0.0 in /usr/local/lib/python3.11/dist-packages (from typer<1.0,>=0.12->gradio) (8.3.0)\n",
      "Requirement already satisfied: shellingham>=1.3.0 in /usr/local/lib/python3.11/dist-packages (from typer<1.0,>=0.12->gradio) (1.5.4)\n",
      "Requirement already satisfied: rich>=10.11.0 in /usr/local/lib/python3.11/dist-packages (from typer<1.0,>=0.12->gradio) (14.1.0)\n",
      "Requirement already satisfied: six>=1.5 in /usr/local/lib/python3.11/dist-packages (from python-dateutil>=2.8.2->pandas<3.0,>=1.0->gradio) (1.17.0)\n",
      "Requirement already satisfied: markdown-it-py>=2.2.0 in /usr/local/lib/python3.11/dist-packages (from rich>=10.11.0->typer<1.0,>=0.12->gradio) (4.0.0)\n",
      "Requirement already satisfied: pygments<3.0.0,>=2.13.0 in /usr/local/lib/python3.11/dist-packages (from rich>=10.11.0->typer<1.0,>=0.12->gradio) (2.19.2)\n",
      "Requirement already satisfied: intel-openmp<2026,>=2024 in /usr/local/lib/python3.11/dist-packages (from mkl->numpy<3.0,>=1.0->gradio) (2024.2.0)\n",
      "Requirement already satisfied: tbb==2022.* in /usr/local/lib/python3.11/dist-packages (from mkl->numpy<3.0,>=1.0->gradio) (2022.2.0)\n",
      "Requirement already satisfied: tcmlib==1.* in /usr/local/lib/python3.11/dist-packages (from tbb==2022.*->mkl->numpy<3.0,>=1.0->gradio) (1.4.0)\n",
      "Requirement already satisfied: intel-cmplr-lib-rt in /usr/local/lib/python3.11/dist-packages (from mkl_umath->numpy<3.0,>=1.0->gradio) (2024.2.0)\n",
      "Requirement already satisfied: intel-cmplr-lib-ur==2024.2.0 in /usr/local/lib/python3.11/dist-packages (from intel-openmp<2026,>=2024->mkl->numpy<3.0,>=1.0->gradio) (2024.2.0)\n",
      "Requirement already satisfied: mdurl~=0.1 in /usr/local/lib/python3.11/dist-packages (from markdown-it-py>=2.2.0->rich>=10.11.0->typer<1.0,>=0.12->gradio) (0.1.2)\n",
      "Downloading pydantic-2.11.10-py3-none-any.whl (444 kB)\n",
      "\u001b[2K   \u001b[90m━━━━━━━━━━━━━━━━━━━━━━━━━━━━━━━━━━━━━━━━\u001b[0m \u001b[32m444.8/444.8 kB\u001b[0m \u001b[31m9.8 MB/s\u001b[0m eta \u001b[36m0:00:00\u001b[0m:00:01\u001b[0m\n",
      "\u001b[?25hDownloading pydantic_core-2.33.2-cp311-cp311-manylinux_2_17_x86_64.manylinux2014_x86_64.whl (2.0 MB)\n",
      "\u001b[2K   \u001b[90m━━━━━━━━━━━━━━━━━━━━━━━━━━━━━━━━━━━━━━━━\u001b[0m \u001b[32m2.0/2.0 MB\u001b[0m \u001b[31m48.2 MB/s\u001b[0m eta \u001b[36m0:00:00\u001b[0m:00:01\u001b[0m\n",
      "\u001b[?25hInstalling collected packages: pydantic-core, pydantic\n",
      "  Attempting uninstall: pydantic-core\n",
      "    Found existing installation: pydantic_core 2.37.2\n",
      "    Uninstalling pydantic_core-2.37.2:\n",
      "      Successfully uninstalled pydantic_core-2.37.2\n",
      "  Attempting uninstall: pydantic\n",
      "    Found existing installation: pydantic 2.12.0a1\n",
      "    Uninstalling pydantic-2.12.0a1:\n",
      "      Successfully uninstalled pydantic-2.12.0a1\n",
      "\u001b[31mERROR: pip's dependency resolver does not currently take into account all the packages that are installed. This behaviour is the source of the following dependency conflicts.\n",
      "thinc 8.3.6 requires numpy<3.0.0,>=2.0.0, but you have numpy 1.26.4 which is incompatible.\u001b[0m\u001b[31m\n",
      "\u001b[0mSuccessfully installed pydantic-2.11.10 pydantic-core-2.33.2\n"
     ]
    }
   ],
   "source": [
    "!pip install gradio"
   ]
  },
  {
   "cell_type": "code",
   "execution_count": 126,
   "metadata": {
    "execution": {
     "iopub.execute_input": "2025-10-17T22:36:48.405835Z",
     "iopub.status.busy": "2025-10-17T22:36:48.405152Z",
     "iopub.status.idle": "2025-10-17T22:36:48.411261Z",
     "shell.execute_reply": "2025-10-17T22:36:48.410276Z",
     "shell.execute_reply.started": "2025-10-17T22:36:48.405808Z"
    },
    "trusted": true
   },
   "outputs": [],
   "source": [
    "def predict_emotion(audio_file_path, dataset_type):\n",
    "    \"\"\"\n",
    "    Predicts the emotion of an audio file based on its dataset type (speech or song).\n",
    "\n",
    "    Args:\n",
    "        audio_file_path (str): The path to the audio file.\n",
    "        dataset_type (str): The type of dataset ('speech' or 'song').\n",
    "\n",
    "    Returns:\n",
    "        tuple: A tuple containing the predicted emotion label (str) and a dictionary of\n",
    "               emotion confidence scores (dict).\n",
    "    \"\"\"\n",
    "    if dataset_type == 'speech':\n",
    "        predicted_emotion_max_score, emotion_confidence_scores_dict = predict_speech_emotion(\n",
    "            audio_file_path,\n",
    "            dataset_type,\n",
    "            scaler_1d,\n",
    "            scaler_2d,\n",
    "            max_mfcc_len_speech,\n",
    "            max_spectrogram_len_speech,\n",
    "            speech_model,\n",
    "            speech_label_encoder\n",
    "        )\n",
    "    elif dataset_type == 'song':\n",
    "        predicted_emotion_max_score, emotion_confidence_scores_dict = predict_song_emotion(\n",
    "            audio_file_path,\n",
    "            dataset_type,\n",
    "            scaler_1d_song,\n",
    "            scaler_2d_song,\n",
    "            max_mfcc_len_song,\n",
    "            max_chroma_len_song,\n",
    "            song_model,\n",
    "            label_encoder_song\n",
    "        )\n",
    "    else:\n",
    "        raise ValueError(\"dataset_type must be 'speech' or 'song'\")\n",
    "\n",
    "    return predicted_emotion_max_score, emotion_confidence_scores_dict"
   ]
  },
  {
   "cell_type": "code",
   "execution_count": 127,
   "metadata": {
    "execution": {
     "iopub.execute_input": "2025-10-17T22:36:53.128710Z",
     "iopub.status.busy": "2025-10-17T22:36:53.128359Z",
     "iopub.status.idle": "2025-10-17T22:36:53.287648Z",
     "shell.execute_reply": "2025-10-17T22:36:53.286934Z",
     "shell.execute_reply.started": "2025-10-17T22:36:53.128686Z"
    },
    "trusted": true
   },
   "outputs": [],
   "source": [
    "import gradio as gr\n",
    "\n",
    "# Define the Gradio interface\n",
    "iface = gr.Interface(\n",
    "    fn=predict_emotion,\n",
    "    inputs=[\n",
    "        gr.Audio(type=\"filepath\", label=\"Upload Audio File\"),\n",
    "        gr.Radio([\"speech\", \"song\"], label=\"Dataset Type\")\n",
    "    ],\n",
    "    outputs=[\n",
    "        gr.Textbox(label=\"Predicted Emotion\"),\n",
    "        gr.Label(label=\"Confidence Scores\")\n",
    "    ],\n",
    "    title=\"Emotion Recognition from Audio\",\n",
    "    description=\"Upload an audio file (speech or song) to predict its emotion.\"\n",
    ")"
   ]
  },
  {
   "cell_type": "code",
   "execution_count": 128,
   "metadata": {
    "execution": {
     "iopub.execute_input": "2025-10-17T22:36:57.217359Z",
     "iopub.status.busy": "2025-10-17T22:36:57.217086Z",
     "iopub.status.idle": "2025-10-17T22:45:13.726858Z",
     "shell.execute_reply": "2025-10-17T22:45:13.726151Z",
     "shell.execute_reply.started": "2025-10-17T22:36:57.217339Z"
    },
    "trusted": true
   },
   "outputs": [
    {
     "name": "stdout",
     "output_type": "stream",
     "text": [
      "* Running on local URL:  http://127.0.0.1:7860\n",
      "It looks like you are running Gradio on a hosted Jupyter notebook, which requires `share=True`. Automatically setting `share=True` (you can turn this off by setting `share=False` in `launch()` explicitly).\n",
      "\n",
      "* Running on public URL: https://580041b6abc7b866e5.gradio.live\n",
      "\n",
      "This share link expires in 1 week. For free permanent hosting and GPU upgrades, run `gradio deploy` from the terminal in the working directory to deploy to Hugging Face Spaces (https://huggingface.co/spaces)\n"
     ]
    },
    {
     "data": {
      "text/html": [
       "<div><iframe src=\"https://580041b6abc7b866e5.gradio.live\" width=\"100%\" height=\"500\" allow=\"autoplay; camera; microphone; clipboard-read; clipboard-write;\" frameborder=\"0\" allowfullscreen></iframe></div>"
      ],
      "text/plain": [
       "<IPython.core.display.HTML object>"
      ]
     },
     "metadata": {},
     "output_type": "display_data"
    },
    {
     "name": "stdout",
     "output_type": "stream",
     "text": [
      "\u001b[1m1/1\u001b[0m \u001b[32m━━━━━━━━━━━━━━━━━━━━\u001b[0m\u001b[37m\u001b[0m \u001b[1m0s\u001b[0m 39ms/step\n",
      "\u001b[1m1/1\u001b[0m \u001b[32m━━━━━━━━━━━━━━━━━━━━\u001b[0m\u001b[37m\u001b[0m \u001b[1m0s\u001b[0m 34ms/step\n",
      "\u001b[1m1/1\u001b[0m \u001b[32m━━━━━━━━━━━━━━━━━━━━\u001b[0m\u001b[37m\u001b[0m \u001b[1m0s\u001b[0m 36ms/step\n",
      "Created dataset file at: .gradio/flagged/dataset1.csv\n",
      "\u001b[1m1/1\u001b[0m \u001b[32m━━━━━━━━━━━━━━━━━━━━\u001b[0m\u001b[37m\u001b[0m \u001b[1m0s\u001b[0m 33ms/step\n",
      "\u001b[1m1/1\u001b[0m \u001b[32m━━━━━━━━━━━━━━━━━━━━\u001b[0m\u001b[37m\u001b[0m \u001b[1m0s\u001b[0m 34ms/step\n",
      "\u001b[1m1/1\u001b[0m \u001b[32m━━━━━━━━━━━━━━━━━━━━\u001b[0m\u001b[37m\u001b[0m \u001b[1m0s\u001b[0m 36ms/step\n",
      "\u001b[1m1/1\u001b[0m \u001b[32m━━━━━━━━━━━━━━━━━━━━\u001b[0m\u001b[37m\u001b[0m \u001b[1m0s\u001b[0m 34ms/step\n",
      "\u001b[1m1/1\u001b[0m \u001b[32m━━━━━━━━━━━━━━━━━━━━\u001b[0m\u001b[37m\u001b[0m \u001b[1m0s\u001b[0m 34ms/step\n",
      "Keyboard interruption in main thread... closing server.\n",
      "Killing tunnel 127.0.0.1:7860 <> https://580041b6abc7b866e5.gradio.live\n"
     ]
    },
    {
     "data": {
      "text/plain": []
     },
     "execution_count": 128,
     "metadata": {},
     "output_type": "execute_result"
    }
   ],
   "source": [
    "iface.launch(debug=True)"
   ]
  }
 ],
 "metadata": {
  "kaggle": {
   "accelerator": "nvidiaTeslaT4",
   "dataSources": [
    {
     "datasetId": 107620,
     "sourceId": 256618,
     "sourceType": "datasetVersion"
    },
    {
     "datasetId": 107666,
     "sourceId": 256774,
     "sourceType": "datasetVersion"
    }
   ],
   "dockerImageVersionId": 31154,
   "isGpuEnabled": true,
   "isInternetEnabled": true,
   "language": "python",
   "sourceType": "notebook"
  },
  "kernelspec": {
   "display_name": "Python 3",
   "language": "python",
   "name": "python3"
  },
  "language_info": {
   "codemirror_mode": {
    "name": "ipython",
    "version": 3
   },
   "file_extension": ".py",
   "mimetype": "text/x-python",
   "name": "python",
   "nbconvert_exporter": "python",
   "pygments_lexer": "ipython3",
   "version": "3.11.13"
  }
 },
 "nbformat": 4,
 "nbformat_minor": 4
}
